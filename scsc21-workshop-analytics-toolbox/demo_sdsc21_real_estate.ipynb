{
 "cells": [
  {
   "cell_type": "markdown",
   "id": "cde949c6",
   "metadata": {},
   "source": [
    "# Identify areas of high/lowgh property taxes \n",
    "\n",
    "Giulia Carella\n",
    "\n",
    "SDSC21 Workshop - Unlocking Spatial Analytics in the cloud with CARTO\n",
    "\n",
    "## Context\n",
    "Hotspot analysis consists in identifying statistically significant hot spots and cold spots using different spatial statistics, such as the Getis-Ord Gi* statistic.\n",
    "\n",
    "## What we will do\n",
    "In this demo, we will look at real estate data in Providence, Rhode Island USA. Specifically, by aggregating property data over a regular grid, we will compute the average property taxes per population, which will then be used to perform the hotspot analysis.\n",
    "\n",
    "We will:\n",
    "\n",
    "- Explore CARTO data catalog.\n",
    "- Enrich the (point) property data with data from CARTO Spatial Features, including population, elevation, urbanity, and climatological data.\n",
    "- Compute the average property tax normalized by the population at the grid cell level using a regular quadkey grid.\n",
    "- Identify areas of high/low property taxes per population using the Getis-Ord Gi* statistics.\n",
    "- Create a visualization with the results.\n",
    "\n",
    "## Conclusions\n",
    "\n",
    "Using CARTO we were able to explore and analyse 2018 property tax data in Providence, Rhode Island USA.\n",
    "We enriched this data with population counts from CARTO's Spatial Features, computed the average property tax normalized by the population at the grid cell level and identified areas of high/low property taxes. By visualizing the results, we found that two main hotspots, corresponding respectively to areas of lower and higher property takes per population, are associated to independent areas in the city."
   ]
  },
  {
   "cell_type": "markdown",
   "id": "a69f9fc5",
   "metadata": {},
   "source": [
    "## 0. Set up\n",
    "\n",
    "In this step we will connect to Google Bigquery using OAuth authentication."
   ]
  },
  {
   "cell_type": "markdown",
   "id": "3fc8b33d",
   "metadata": {},
   "source": [
    "### 0.a Import libraries"
   ]
  },
  {
   "cell_type": "code",
   "execution_count": 1,
   "id": "b1fade6a",
   "metadata": {},
   "outputs": [],
   "source": [
    "from google.cloud import bigquery\n",
    "import pandas_gbq\n",
    "import pydata_google_auth\n",
    "import pandas as pd"
   ]
  },
  {
   "cell_type": "markdown",
   "id": "19c1b868",
   "metadata": {},
   "source": [
    "### 0.b Set Google Bigquery credentials"
   ]
  },
  {
   "cell_type": "code",
   "execution_count": 2,
   "id": "6cf2ac10",
   "metadata": {},
   "outputs": [],
   "source": [
    "SCOPES = [\n",
    "    'https://www.googleapis.com/auth/cloud-platform'\n",
    "]\n",
    "\n",
    "credentials = pydata_google_auth.get_user_credentials(\n",
    "    SCOPES,\n",
    "    # Set auth_local_webserver to True to have a slightly more convienient\n",
    "    # authorization flow. Note, this doesn't work if you're running from a\n",
    "    # notebook on a remote sever, such as over SSH or with Google Colab.\n",
    "    auth_local_webserver=False)"
   ]
  },
  {
   "cell_type": "code",
   "execution_count": 3,
   "id": "0adb830e",
   "metadata": {},
   "outputs": [],
   "source": [
    "client_bq = bigquery.Client(credentials=credentials, project=\"XXXX\")"
   ]
  },
  {
   "cell_type": "markdown",
   "id": "5a418443",
   "metadata": {},
   "source": [
    "### 0.c Specify the Google Bigquery project and table where the data are stored"
   ]
  },
  {
   "cell_type": "code",
   "execution_count": 4,
   "id": "176ee554",
   "metadata": {},
   "outputs": [],
   "source": [
    "project = 'cartobq'\n",
    "dataset = 'demos_sdsc21'\n",
    "table_name = 'property_sales_providence_2018_geo'\n",
    "logger = f\"{project}.{dataset}.{table_name}\""
   ]
  },
  {
   "cell_type": "markdown",
   "id": "b06be91f",
   "metadata": {},
   "source": [
    "## 1. Enrich with CARTO Spatial Features data\n",
    "\n",
    "In this step we will enrich the real estate data with data from CARTO Spatial Features which includes population, elevation, urbanity, and climatological data. Here, we will use the public version of this dataset which is available in a quadkey grid (https://docs.carto.com/analytics-toolbox-bq/overview/getting-started/) at zoom level 15."
   ]
  },
  {
   "cell_type": "markdown",
   "id": "25d38988",
   "metadata": {},
   "source": [
    "### 1a. Subscribe to the CARTO's spatial features \n",
    "Go to your CARTO dashbord (https://carto.com/login) and on Data -> Your Subscriptions -> New Subscription -> Search for _Spatial Features - United States of America (Quadgrid 15)_ -> Subscribe for free.\n",
    "\n",
    "To find the name of the table in Google Bigquery where the subscribed data are stores, go to QUICK ACTIONS -> Access in Bigquery."
   ]
  },
  {
   "cell_type": "markdown",
   "id": "e2493569",
   "metadata": {},
   "source": [
    "### 1b. Explore the catalog "
   ]
  },
  {
   "cell_type": "code",
   "execution_count": 5,
   "id": "52935021",
   "metadata": {},
   "outputs": [
    {
     "data": {
      "text/html": [
       "<div>\n",
       "<style scoped>\n",
       "    .dataframe tbody tr th:only-of-type {\n",
       "        vertical-align: middle;\n",
       "    }\n",
       "\n",
       "    .dataframe tbody tr th {\n",
       "        vertical-align: top;\n",
       "    }\n",
       "\n",
       "    .dataframe thead th {\n",
       "        text-align: right;\n",
       "    }\n",
       "</style>\n",
       "<table border=\"1\" class=\"dataframe\">\n",
       "  <thead>\n",
       "    <tr style=\"text-align: right;\">\n",
       "      <th></th>\n",
       "      <th>dataset_slug</th>\n",
       "      <th>dataset_name</th>\n",
       "      <th>dataset_country</th>\n",
       "      <th>dataset_category</th>\n",
       "      <th>dataset_license</th>\n",
       "      <th>dataset_provider</th>\n",
       "      <th>dataset_version</th>\n",
       "      <th>dataset_geo_type</th>\n",
       "      <th>table</th>\n",
       "      <th>associated_geography</th>\n",
       "    </tr>\n",
       "  </thead>\n",
       "  <tbody>\n",
       "    <tr>\n",
       "      <th>0</th>\n",
       "      <td>cdb_spatial_fea_bd4173ae</td>\n",
       "      <td>Spatial Features - United States of America (Q...</td>\n",
       "      <td>United States of America</td>\n",
       "      <td>Derived</td>\n",
       "      <td>Public data</td>\n",
       "      <td>CARTO</td>\n",
       "      <td>v2</td>\n",
       "      <td>POLYGON</td>\n",
       "      <td>view_carto_derived_spatialfeatures_usa_quadgri...</td>\n",
       "      <td>carto-do-public-data.carto.geography_usa_quadg...</td>\n",
       "    </tr>\n",
       "  </tbody>\n",
       "</table>\n",
       "</div>"
      ],
      "text/plain": [
       "               dataset_slug  \\\n",
       "0  cdb_spatial_fea_bd4173ae   \n",
       "\n",
       "                                        dataset_name  \\\n",
       "0  Spatial Features - United States of America (Q...   \n",
       "\n",
       "            dataset_country dataset_category dataset_license dataset_provider  \\\n",
       "0  United States of America          Derived     Public data            CARTO   \n",
       "\n",
       "  dataset_version dataset_geo_type  \\\n",
       "0              v2          POLYGON   \n",
       "\n",
       "                                               table  \\\n",
       "0  view_carto_derived_spatialfeatures_usa_quadgri...   \n",
       "\n",
       "                                associated_geography  \n",
       "0  carto-do-public-data.carto.geography_usa_quadg...  "
      ]
     },
     "execution_count": 5,
     "metadata": {},
     "output_type": "execute_result"
    }
   ],
   "source": [
    "q = f'''\n",
    "    CALL `carto-un`.data.DATAOBS_SUBSCRIPTIONS('do-team.giulia_carto','')\n",
    "'''\n",
    "enrich_tables = client_bq.query(q).to_dataframe()\n",
    "enrich_tables.head"
   ]
  },
  {
   "cell_type": "markdown",
   "id": "f2faeee6",
   "metadata": {},
   "source": [
    "#### Table names"
   ]
  },
  {
   "cell_type": "code",
   "execution_count": 6,
   "id": "917f2d05",
   "metadata": {},
   "outputs": [
    {
     "data": {
      "text/plain": [
       "['view_carto_derived_spatialfeatures_usa_quadgrid15_v1_yearly_v2']"
      ]
     },
     "execution_count": 6,
     "metadata": {},
     "output_type": "execute_result"
    }
   ],
   "source": [
    "enrich_tables.table.to_list()"
   ]
  },
  {
   "cell_type": "code",
   "execution_count": 7,
   "id": "a0bd7ee3",
   "metadata": {},
   "outputs": [],
   "source": [
    "table_name_do = 'view_carto_derived_spatialfeatures_usa_quadgrid15_v1_yearly_v2'\n",
    "table_name_do_geom = enrich_tables[enrich_tables.table==table_name_do].associated_geography[0] "
   ]
  },
  {
   "cell_type": "markdown",
   "id": "b201d07f",
   "metadata": {},
   "source": [
    "#### Variable names"
   ]
  },
  {
   "cell_type": "code",
   "execution_count": 8,
   "id": "69a8af7e",
   "metadata": {},
   "outputs": [
    {
     "data": {
      "text/html": [
       "<div>\n",
       "<style scoped>\n",
       "    .dataframe tbody tr th:only-of-type {\n",
       "        vertical-align: middle;\n",
       "    }\n",
       "\n",
       "    .dataframe tbody tr th {\n",
       "        vertical-align: top;\n",
       "    }\n",
       "\n",
       "    .dataframe thead th {\n",
       "        text-align: right;\n",
       "    }\n",
       "</style>\n",
       "<table border=\"1\" class=\"dataframe\">\n",
       "  <thead>\n",
       "    <tr style=\"text-align: right;\">\n",
       "      <th></th>\n",
       "      <th>variable_slug</th>\n",
       "      <th>variable_name</th>\n",
       "      <th>variable_description</th>\n",
       "      <th>variable_type</th>\n",
       "      <th>variable_aggregation</th>\n",
       "      <th>dataset_slug</th>\n",
       "      <th>geography_slug</th>\n",
       "    </tr>\n",
       "  </thead>\n",
       "  <tbody>\n",
       "    <tr>\n",
       "      <th>0</th>\n",
       "      <td>country_iso_85762e15</td>\n",
       "      <td>country_iso</td>\n",
       "      <td>Country name, following the ISO 3166 standard</td>\n",
       "      <td>STRING</td>\n",
       "      <td>None</td>\n",
       "      <td>cdb_spatial_fea_bd4173ae</td>\n",
       "      <td>cdb_quadgrid15_417f4a13</td>\n",
       "    </tr>\n",
       "    <tr>\n",
       "      <th>1</th>\n",
       "      <td>country_iso_a3_f31b3754</td>\n",
       "      <td>country_iso_a3</td>\n",
       "      <td>Three-letter country code, following the ISO 3...</td>\n",
       "      <td>STRING</td>\n",
       "      <td>None</td>\n",
       "      <td>cdb_spatial_fea_bd4173ae</td>\n",
       "      <td>cdb_quadgrid15_417f4a13</td>\n",
       "    </tr>\n",
       "    <tr>\n",
       "      <th>2</th>\n",
       "      <td>do_date_7008e06c</td>\n",
       "      <td>do_date</td>\n",
       "      <td>First day of the year of the corresponding data</td>\n",
       "      <td>DATE</td>\n",
       "      <td>None</td>\n",
       "      <td>cdb_spatial_fea_bd4173ae</td>\n",
       "      <td>cdb_quadgrid15_417f4a13</td>\n",
       "    </tr>\n",
       "    <tr>\n",
       "      <th>3</th>\n",
       "      <td>education_55373808</td>\n",
       "      <td>education</td>\n",
       "      <td>Number of education related POIs, incuding sch...</td>\n",
       "      <td>INTEGER</td>\n",
       "      <td>SUM</td>\n",
       "      <td>cdb_spatial_fea_bd4173ae</td>\n",
       "      <td>cdb_quadgrid15_417f4a13</td>\n",
       "    </tr>\n",
       "    <tr>\n",
       "      <th>4</th>\n",
       "      <td>elevation_b2172c5b</td>\n",
       "      <td>elevation</td>\n",
       "      <td>Average elevation based on ASTER Global Digita...</td>\n",
       "      <td>FLOAT</td>\n",
       "      <td>AVG</td>\n",
       "      <td>cdb_spatial_fea_bd4173ae</td>\n",
       "      <td>cdb_quadgrid15_417f4a13</td>\n",
       "    </tr>\n",
       "  </tbody>\n",
       "</table>\n",
       "</div>"
      ],
      "text/plain": [
       "             variable_slug   variable_name  \\\n",
       "0     country_iso_85762e15     country_iso   \n",
       "1  country_iso_a3_f31b3754  country_iso_a3   \n",
       "2         do_date_7008e06c         do_date   \n",
       "3       education_55373808       education   \n",
       "4       elevation_b2172c5b       elevation   \n",
       "\n",
       "                                variable_description variable_type  \\\n",
       "0      Country name, following the ISO 3166 standard        STRING   \n",
       "1  Three-letter country code, following the ISO 3...        STRING   \n",
       "2    First day of the year of the corresponding data          DATE   \n",
       "3  Number of education related POIs, incuding sch...       INTEGER   \n",
       "4  Average elevation based on ASTER Global Digita...         FLOAT   \n",
       "\n",
       "  variable_aggregation              dataset_slug           geography_slug  \n",
       "0                 None  cdb_spatial_fea_bd4173ae  cdb_quadgrid15_417f4a13  \n",
       "1                 None  cdb_spatial_fea_bd4173ae  cdb_quadgrid15_417f4a13  \n",
       "2                 None  cdb_spatial_fea_bd4173ae  cdb_quadgrid15_417f4a13  \n",
       "3                  SUM  cdb_spatial_fea_bd4173ae  cdb_quadgrid15_417f4a13  \n",
       "4                  AVG  cdb_spatial_fea_bd4173ae  cdb_quadgrid15_417f4a13  "
      ]
     },
     "execution_count": 8,
     "metadata": {},
     "output_type": "execute_result"
    }
   ],
   "source": [
    "q = f'''\n",
    "    CALL `carto-un`.data.DATAOBS_SUBSCRIPTION_VARIABLES('do-team.giulia_carto','')\n",
    "'''\n",
    "enrich_vars = client_bq.query(q).to_dataframe()\n",
    "enrich_vars.head()"
   ]
  },
  {
   "cell_type": "code",
   "execution_count": 10,
   "id": "637997e0",
   "metadata": {},
   "outputs": [
    {
     "data": {
      "text/html": [
       "<div>\n",
       "<style scoped>\n",
       "    .dataframe tbody tr th:only-of-type {\n",
       "        vertical-align: middle;\n",
       "    }\n",
       "\n",
       "    .dataframe tbody tr th {\n",
       "        vertical-align: top;\n",
       "    }\n",
       "\n",
       "    .dataframe thead th {\n",
       "        text-align: right;\n",
       "    }\n",
       "</style>\n",
       "<table border=\"1\" class=\"dataframe\">\n",
       "  <thead>\n",
       "    <tr style=\"text-align: right;\">\n",
       "      <th></th>\n",
       "      <th>variable_slug</th>\n",
       "      <th>variable_name</th>\n",
       "      <th>variable_description</th>\n",
       "      <th>variable_type</th>\n",
       "      <th>variable_aggregation</th>\n",
       "      <th>dataset_slug</th>\n",
       "      <th>geography_slug</th>\n",
       "    </tr>\n",
       "  </thead>\n",
       "  <tbody>\n",
       "    <tr>\n",
       "      <th>0</th>\n",
       "      <td>country_iso_85762e15</td>\n",
       "      <td>country_iso</td>\n",
       "      <td>Country name, following the ISO 3166 standard</td>\n",
       "      <td>STRING</td>\n",
       "      <td>None</td>\n",
       "      <td>cdb_spatial_fea_bd4173ae</td>\n",
       "      <td>cdb_quadgrid15_417f4a13</td>\n",
       "    </tr>\n",
       "    <tr>\n",
       "      <th>1</th>\n",
       "      <td>country_iso_a3_f31b3754</td>\n",
       "      <td>country_iso_a3</td>\n",
       "      <td>Three-letter country code, following the ISO 3...</td>\n",
       "      <td>STRING</td>\n",
       "      <td>None</td>\n",
       "      <td>cdb_spatial_fea_bd4173ae</td>\n",
       "      <td>cdb_quadgrid15_417f4a13</td>\n",
       "    </tr>\n",
       "    <tr>\n",
       "      <th>2</th>\n",
       "      <td>do_date_7008e06c</td>\n",
       "      <td>do_date</td>\n",
       "      <td>First day of the year of the corresponding data</td>\n",
       "      <td>DATE</td>\n",
       "      <td>None</td>\n",
       "      <td>cdb_spatial_fea_bd4173ae</td>\n",
       "      <td>cdb_quadgrid15_417f4a13</td>\n",
       "    </tr>\n",
       "    <tr>\n",
       "      <th>3</th>\n",
       "      <td>education_55373808</td>\n",
       "      <td>education</td>\n",
       "      <td>Number of education related POIs, incuding sch...</td>\n",
       "      <td>INTEGER</td>\n",
       "      <td>SUM</td>\n",
       "      <td>cdb_spatial_fea_bd4173ae</td>\n",
       "      <td>cdb_quadgrid15_417f4a13</td>\n",
       "    </tr>\n",
       "    <tr>\n",
       "      <th>4</th>\n",
       "      <td>elevation_b2172c5b</td>\n",
       "      <td>elevation</td>\n",
       "      <td>Average elevation based on ASTER Global Digita...</td>\n",
       "      <td>FLOAT</td>\n",
       "      <td>AVG</td>\n",
       "      <td>cdb_spatial_fea_bd4173ae</td>\n",
       "      <td>cdb_quadgrid15_417f4a13</td>\n",
       "    </tr>\n",
       "    <tr>\n",
       "      <th>...</th>\n",
       "      <td>...</td>\n",
       "      <td>...</td>\n",
       "      <td>...</td>\n",
       "      <td>...</td>\n",
       "      <td>...</td>\n",
       "      <td>...</td>\n",
       "      <td>...</td>\n",
       "    </tr>\n",
       "    <tr>\n",
       "      <th>132</th>\n",
       "      <td>wind_mar_11d0df9d</td>\n",
       "      <td>wind_mar</td>\n",
       "      <td>Monthly wind speed (m s-1) aggregated across a...</td>\n",
       "      <td>FLOAT</td>\n",
       "      <td>AVG</td>\n",
       "      <td>cdb_spatial_fea_bd4173ae</td>\n",
       "      <td>cdb_quadgrid15_417f4a13</td>\n",
       "    </tr>\n",
       "    <tr>\n",
       "      <th>133</th>\n",
       "      <td>wind_may_86020615</td>\n",
       "      <td>wind_may</td>\n",
       "      <td>Monthly wind speed (m s-1) aggregated across a...</td>\n",
       "      <td>FLOAT</td>\n",
       "      <td>AVG</td>\n",
       "      <td>cdb_spatial_fea_bd4173ae</td>\n",
       "      <td>cdb_quadgrid15_417f4a13</td>\n",
       "    </tr>\n",
       "    <tr>\n",
       "      <th>134</th>\n",
       "      <td>wind_nov_8a788853</td>\n",
       "      <td>wind_nov</td>\n",
       "      <td>Monthly wind speed (m s-1) aggregated across a...</td>\n",
       "      <td>FLOAT</td>\n",
       "      <td>AVG</td>\n",
       "      <td>cdb_spatial_fea_bd4173ae</td>\n",
       "      <td>cdb_quadgrid15_417f4a13</td>\n",
       "    </tr>\n",
       "    <tr>\n",
       "      <th>135</th>\n",
       "      <td>wind_oct_c901cc44</td>\n",
       "      <td>wind_oct</td>\n",
       "      <td>Monthly wind speed (m s-1) aggregated across a...</td>\n",
       "      <td>FLOAT</td>\n",
       "      <td>AVG</td>\n",
       "      <td>cdb_spatial_fea_bd4173ae</td>\n",
       "      <td>cdb_quadgrid15_417f4a13</td>\n",
       "    </tr>\n",
       "    <tr>\n",
       "      <th>136</th>\n",
       "      <td>wind_sep_8d0af5cf</td>\n",
       "      <td>wind_sep</td>\n",
       "      <td>Monthly wind speed (m s-1) aggregated across a...</td>\n",
       "      <td>FLOAT</td>\n",
       "      <td>AVG</td>\n",
       "      <td>cdb_spatial_fea_bd4173ae</td>\n",
       "      <td>cdb_quadgrid15_417f4a13</td>\n",
       "    </tr>\n",
       "  </tbody>\n",
       "</table>\n",
       "<p>137 rows × 7 columns</p>\n",
       "</div>"
      ],
      "text/plain": [
       "               variable_slug   variable_name  \\\n",
       "0       country_iso_85762e15     country_iso   \n",
       "1    country_iso_a3_f31b3754  country_iso_a3   \n",
       "2           do_date_7008e06c         do_date   \n",
       "3         education_55373808       education   \n",
       "4         elevation_b2172c5b       elevation   \n",
       "..                       ...             ...   \n",
       "132        wind_mar_11d0df9d        wind_mar   \n",
       "133        wind_may_86020615        wind_may   \n",
       "134        wind_nov_8a788853        wind_nov   \n",
       "135        wind_oct_c901cc44        wind_oct   \n",
       "136        wind_sep_8d0af5cf        wind_sep   \n",
       "\n",
       "                                  variable_description variable_type  \\\n",
       "0        Country name, following the ISO 3166 standard        STRING   \n",
       "1    Three-letter country code, following the ISO 3...        STRING   \n",
       "2      First day of the year of the corresponding data          DATE   \n",
       "3    Number of education related POIs, incuding sch...       INTEGER   \n",
       "4    Average elevation based on ASTER Global Digita...         FLOAT   \n",
       "..                                                 ...           ...   \n",
       "132  Monthly wind speed (m s-1) aggregated across a...         FLOAT   \n",
       "133  Monthly wind speed (m s-1) aggregated across a...         FLOAT   \n",
       "134  Monthly wind speed (m s-1) aggregated across a...         FLOAT   \n",
       "135  Monthly wind speed (m s-1) aggregated across a...         FLOAT   \n",
       "136  Monthly wind speed (m s-1) aggregated across a...         FLOAT   \n",
       "\n",
       "    variable_aggregation              dataset_slug           geography_slug  \n",
       "0                   None  cdb_spatial_fea_bd4173ae  cdb_quadgrid15_417f4a13  \n",
       "1                   None  cdb_spatial_fea_bd4173ae  cdb_quadgrid15_417f4a13  \n",
       "2                   None  cdb_spatial_fea_bd4173ae  cdb_quadgrid15_417f4a13  \n",
       "3                    SUM  cdb_spatial_fea_bd4173ae  cdb_quadgrid15_417f4a13  \n",
       "4                    AVG  cdb_spatial_fea_bd4173ae  cdb_quadgrid15_417f4a13  \n",
       "..                   ...                       ...                      ...  \n",
       "132                  AVG  cdb_spatial_fea_bd4173ae  cdb_quadgrid15_417f4a13  \n",
       "133                  AVG  cdb_spatial_fea_bd4173ae  cdb_quadgrid15_417f4a13  \n",
       "134                  AVG  cdb_spatial_fea_bd4173ae  cdb_quadgrid15_417f4a13  \n",
       "135                  AVG  cdb_spatial_fea_bd4173ae  cdb_quadgrid15_417f4a13  \n",
       "136                  AVG  cdb_spatial_fea_bd4173ae  cdb_quadgrid15_417f4a13  \n",
       "\n",
       "[137 rows x 7 columns]"
      ]
     },
     "execution_count": 10,
     "metadata": {},
     "output_type": "execute_result"
    }
   ],
   "source": [
    "enrich_vars[enrich_vars.dataset_slug == 'cdb_spatial_fea_bd4173ae']"
   ]
  },
  {
   "cell_type": "markdown",
   "id": "8e3b6b16",
   "metadata": {},
   "source": [
    "### 1c. Use CARTO Analytics Toolbox to enrich the property data with CARTO's Spatial Features\n",
    "\n",
    "In this step we will use the function ENRICH_GRID to associate each point data with the corresponding grid cell in CARTO Spatial Features.\n",
    "\n",
    "**data.ENRICH_GRID**(grid_type, input_query, input_index_column, data_query, data_geography_column, variables, output)\n",
    "\n",
    "https://docs.carto.com/analytics-toolbox-bq/sql-reference/data/#enrich_grid\n",
    "\n",
    "- grid_type: h3, quadkey, s2 or geohash.\n",
    "- input_query: query to select the data to be enriched (Standard SQL).\n",
    "- input_index_column: name of a column in the query that contains the grid indices.\n",
    "- data_query:  query used to enrich the cells provided in the input query (Standard SQL).\n",
    "- data_geography_column: name of the geography column provided in the data_query.\n",
    "- variables:  columns that will be used to enrich the input and their corresponding aggregation method.\n",
    "- output: name of an output table to store the results.\n",
    "\n",
    "As a result of this process, each input grid cell will be enriched with the data of the enrichment query that spatially intersects it. When the input cell intersects with more than one feature of the enrichment query, the data is aggregated using the aggregation methods specified.\n",
    "\n",
    "Valid aggregation methods are: _SUM_ (extensive properties), _MIN_ (intensive property), _MAX_ (intensive property), _AVG_ (area-weighted average, intensive property), _COUNT_. For other types of aggregation, the ENRICH_GRID_RAW procedure can be used to obtain non-aggregated data that can be later applied to any desired custom aggregation."
   ]
  },
  {
   "cell_type": "code",
   "execution_count": 13,
   "id": "1738fe81",
   "metadata": {},
   "outputs": [],
   "source": [
    "selected_enrich_vars = ['education',\n",
    "              'financial',\n",
    "              'food_drink',\n",
    "              'healthcare',\n",
    "              'leisure',\n",
    "              'population',\n",
    "              'retail',\n",
    "              'tourism',\n",
    "              'transportation']"
   ]
  },
  {
   "cell_type": "code",
   "execution_count": 14,
   "id": "f777fb0c",
   "metadata": {},
   "outputs": [
    {
     "data": {
      "text/plain": [
       "<google.cloud.bigquery.table._EmptyRowIterator at 0x7f2bc04c88d0>"
      ]
     },
     "execution_count": 14,
     "metadata": {},
     "output_type": "execute_result"
    }
   ],
   "source": [
    "q = f\"\"\"\n",
    "\n",
    "DECLARE enrich_columns STRING;\n",
    "SET enrich_columns = (\n",
    "WITH selected_columns as (\n",
    "    SELECT column_name \n",
    "    FROM do-team.giulia_carto.INFORMATION_SCHEMA.COLUMNS\n",
    "    WHERE \n",
    "    table_name = '{table_name_do}' \n",
    "    AND column_name IN UNNEST({selected_enrich_vars})\n",
    ")\n",
    "SELECT STRING_AGG(column_name) AS columns FROM selected_columns\n",
    ");\n",
    "\n",
    "EXECUTE IMMEDIATE format('''\n",
    "CREATE TEMP TABLE enrich_table AS(\n",
    "   SELECT %s, geoid\n",
    "   FROM `do-team.giulia_carto.{table_name_do}`\n",
    ")''',enrich_columns);\n",
    "\n",
    "CALL `carto-un`.data.ENRICH_GRID(\n",
    "   'quadkey',\n",
    "   R'''\n",
    "   SELECT *\n",
    "   FROM enrich_table\n",
    "   ''',\n",
    "   'geoid',\n",
    "   R'''\n",
    "   SELECT geom, total_assessment, total_taxes \n",
    "   FROM `{logger}`\n",
    "   ''',\n",
    "   'geom',\n",
    "   [('total_assessment', 'avg'), ('total_taxes', 'avg')],\n",
    "   ['`{logger}_enriched`']\n",
    ");\n",
    "\n",
    "CREATE OR REPLACE TABLE `{logger}_enriched` AS(\n",
    "SELECT a.*, b.geom\n",
    "FROM  `{logger}_enriched` a\n",
    "JOIN `{table_name_do_geom}`b\n",
    "ON a.geoid = b.geoid\n",
    "WHERE total_assessment_avg IS NOT NULL\n",
    ");\n",
    "\n",
    "DROP TABLE enrich_table;\n",
    "\"\"\"\n",
    "client_bq.query(q).result()"
   ]
  },
  {
   "cell_type": "markdown",
   "id": "611be3f4",
   "metadata": {},
   "source": [
    "## 2. Use CARTO Analytics Toolbox to find the hotspots for the average property taxes per population"
   ]
  },
  {
   "cell_type": "markdown",
   "id": "852188bd",
   "metadata": {},
   "source": [
    "### 2a. Compute the average propery taxes per population"
   ]
  },
  {
   "cell_type": "code",
   "execution_count": 15,
   "id": "c6ab2327",
   "metadata": {},
   "outputs": [
    {
     "data": {
      "text/html": [
       "<div>\n",
       "<style scoped>\n",
       "    .dataframe tbody tr th:only-of-type {\n",
       "        vertical-align: middle;\n",
       "    }\n",
       "\n",
       "    .dataframe tbody tr th {\n",
       "        vertical-align: top;\n",
       "    }\n",
       "\n",
       "    .dataframe thead th {\n",
       "        text-align: right;\n",
       "    }\n",
       "</style>\n",
       "<table border=\"1\" class=\"dataframe\">\n",
       "  <thead>\n",
       "    <tr style=\"text-align: right;\">\n",
       "      <th></th>\n",
       "    </tr>\n",
       "  </thead>\n",
       "  <tbody>\n",
       "  </tbody>\n",
       "</table>\n",
       "</div>"
      ],
      "text/plain": [
       "Empty DataFrame\n",
       "Columns: []\n",
       "Index: []"
      ]
     },
     "execution_count": 15,
     "metadata": {},
     "output_type": "execute_result"
    }
   ],
   "source": [
    "q = f\"\"\"\n",
    "CREATE OR REPLACE TABLE `{logger}_enriched` AS(\n",
    "    SELECT *, total_taxes_avg/population as total_taxes_avg_norm\n",
    "    FROM  `{logger}_enriched`\n",
    ");\n",
    "\"\"\"\n",
    "client_bq.query(q).to_dataframe()"
   ]
  },
  {
   "cell_type": "markdown",
   "id": "9af9934c",
   "metadata": {},
   "source": [
    "### 2b. Compute the Getis-Ord Gi* statistics\n",
    "\n",
    "In this step we will use the function GETIS_ORD_QUADKEY to compute the Getis-Ord* statistics for each grid cell.\n",
    "\n",
    "**statistics.GETIS_ORD_QUADKEY**(input, size, kernel)\n",
    "\n",
    "- input: input data with the indexes and values of the cells.\n",
    "- size: size of the quadkey kring (distance from the origin). This defines the area around each index cell that will be taken into account to compute its Gi* statistic.\n",
    "- kernel: kernel function to compute the spatial weights across the kring. Available functions are: uniform, triangular, quadratic, quartic and gaussian."
   ]
  },
  {
   "cell_type": "code",
   "execution_count": 16,
   "id": "7f2c73c4",
   "metadata": {},
   "outputs": [
    {
     "data": {
      "text/plain": [
       "<google.cloud.bigquery.table._EmptyRowIterator at 0x7f2bc04ec310>"
      ]
     },
     "execution_count": 16,
     "metadata": {},
     "output_type": "execute_result"
    }
   ],
   "source": [
    "q = f\"\"\"\n",
    "CREATE OR REPLACE TABLE `{logger}_enriched` AS(\n",
    "    WITH tmp AS(\n",
    "        SELECT getis.index as geoid, getis.gi as gi\n",
    "        FROM (\n",
    "            SELECT ARRAY_AGG(STRUCT(geoid, total_taxes_avg_norm)) AS array_data\n",
    "            FROM `{logger}_enriched`\n",
    "        ) input_data,\n",
    "        UNNEST(`carto-un`.statistics.GETIS_ORD_QUADKEY(array_data, 3, 'gaussian')) AS getis \n",
    "    )\n",
    "    SELECT b.*, a.gi\n",
    "    FROM tmp a\n",
    "    JOIN `{logger}_enriched` b\n",
    "    ON a.geoid = b.geoid\n",
    ")\n",
    "\n",
    "\"\"\"\n",
    "client_bq.query(q).result()"
   ]
  },
  {
   "cell_type": "markdown",
   "id": "e9f0db8f",
   "metadata": {},
   "source": [
    "## 3. Viz results"
   ]
  },
  {
   "cell_type": "markdown",
   "id": "fdf05bb2",
   "metadata": {},
   "source": [
    "Go to https://gcp-us-east1.app.carto.com/ create a map with the results!"
   ]
  },
  {
   "cell_type": "code",
   "execution_count": null,
   "id": "45eec30d",
   "metadata": {},
   "outputs": [],
   "source": []
  }
 ],
 "metadata": {
  "environment": {
   "name": "r-cpu.4-0.m75",
   "type": "gcloud",
   "uri": "gcr.io/deeplearning-platform-release/r-cpu.4-0:m75"
  },
  "kernelspec": {
   "display_name": "Python 3",
   "language": "python",
   "name": "python3"
  },
  "language_info": {
   "codemirror_mode": {
    "name": "ipython",
    "version": 3
   },
   "file_extension": ".py",
   "mimetype": "text/x-python",
   "name": "python",
   "nbconvert_exporter": "python",
   "pygments_lexer": "ipython3",
   "version": "3.7.10"
  }
 },
 "nbformat": 4,
 "nbformat_minor": 5
}
