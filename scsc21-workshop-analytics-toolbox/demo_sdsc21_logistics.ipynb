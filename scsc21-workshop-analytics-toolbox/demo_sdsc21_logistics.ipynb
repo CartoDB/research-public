{
 "cells": [
  {
   "cell_type": "markdown",
   "metadata": {},
   "source": [
    "# Calculating Routes at Scale using SQL on BigQuery\n",
    "\n",
    "*Miguel Alvarez*\n",
    "\n",
    "SDSC21 Workshop - Unlocking Spatial Analytics in the cloud with CARTO\n",
    "\n",
    "## Context\n",
    "\n",
    "Computing origin-destination matrices and the corresponding routes is essential for solving key challenges in many sectors such as logistics and transportation, e-commerce and quick commerce, urban mobility/micromobility (car, scooter, and bike sharing), and even for investors in road network infrastructure or insurance companies and public authorities for road safety analysis.\n",
    "\n",
    "Depending on the use case, one might be interested in the shortest, fastest, safest, or even the least polluting route. In addition, as our economy gets more complex and dynamic, so does the need for solutions that scale.\n",
    "\n",
    "Here, we present [CARTO's Analytics Toolbox](https://docs.carto.com/analytics-toolbox-bq/overview/getting-started/) functionality for [calculating routes at Scale on BigQuery](https://docs.carto.com/analytics-toolbox-bq/sql-reference/routing/). In particular, we will analyze how people in NYC moved on Thanksgiving 2015.\n",
    "\n",
    "\n",
    "## What we will do\n",
    "\n",
    "In this workshop, we will walk you through all the steps required for calculating routes at scale using [CARTO's Analytics Toolbox](https://docs.carto.com/analytics-toolbox-bq/overview/getting-started/) for BigQuery.\n",
    "\n",
    "After this workshop you will know how to:\n",
    " - Visualize trip data using [spatial indices](https://docs.carto.com/analytics-toolbox-bq/overview/spatial-indexes/)\n",
    " - Generate a compacted network preserving distances\n",
    " - Calculate routes\n",
    " - Calculate road segment use frequencies\n",
    "\n",
    "For showcasing this, we will use the following two datasets which are publicly available in BigQuery:\n",
    " - NYC yellow taxi trips from 2015: `bigquery-public-data.new_york_taxi_trips.tlc_yellow_trips_2015`\n",
    " - OSM road network: `bigquery-public-data.geo_openstreetmap.planet_ways`\n",
    "\n",
    "\n",
    "## How to get started\n",
    "\n",
    "Visit [CARTO's documentation](https://docs.carto.com/analytics-toolbox-bq/overview/getting-started/) to get started!"
   ]
  },
  {
   "cell_type": "markdown",
   "metadata": {},
   "source": [
    "## 0. Setup"
   ]
  },
  {
   "cell_type": "code",
   "execution_count": 1,
   "metadata": {},
   "outputs": [],
   "source": [
    "from google.cloud import bigquery\n",
    "import os\n",
    "import pandas as pd"
   ]
  },
  {
   "cell_type": "code",
   "execution_count": 2,
   "metadata": {},
   "outputs": [],
   "source": [
    "service_account_file = '/Users/malvarez/cartodb-on-gcp-datascience.json'\n",
    "os.environ['GOOGLE_APPLICATION_CREDENTIALS'] = service_account_file\n",
    "client = bigquery.Client()"
   ]
  },
  {
   "cell_type": "markdown",
   "metadata": {},
   "source": [
    "## 1. Data sourcing\n",
    "\n",
    "The first step is to source the required data. For routing, there are mainly two sources of information required. \n",
    "\n",
    "- First, we need the **road network** over which we will compute routes and distances. [OpenStreetMap](https://www.openstreetmap.org/#map=12/40.7462/-73.9468) data is a fantastic option for this, as it’s freely available in BigQuery. In particular, we are going to use the `bigquery-public-data:geo_openstreetmap.planet_ways` table where public roads are stored.\n",
    "\n",
    "- Second, we need a set of point location pairs to use as start and end points to compute distances. In order to have an open dataset, we decided to use NYC yellow taxi trips in 2015 for which there are more than 100M trips. They are publicly available in BigQuery under the name `bigquery-public-data.new_york_taxi_trips.tlc_yellow_trips_2015`."
   ]
  },
  {
   "cell_type": "markdown",
   "metadata": {},
   "source": [
    "### 1.1. Network generation\n",
    "\n",
    "We will generate the network using the function [\\`carto-un\\`.routing.GENERATE_NETWORK](https://docs.carto.com/analytics-toolbox-bq/sql-reference/routing/#generate_network). This function generates a network graph from an aggregation of LineStrings and their corresponding speed. The resulting network is based on a compacted geometry of the linestring collection where all nodes with only two links are dropped.\n",
    "\n",
    "We will select as our study area the five counties of NYC. For the county geometries we use BigQuery public dataset `bigquery-public-data.geo_us_boundaries.counties`.\n",
    "\n",
    "In addition, we can specify the types of roads we want to consider. In this case, we'll use `motorway`, `trunk`, `primary`, `secondary`, `tertiary`, `residential`, and `road`. We could also add `cycleways` or `footways`, depending on our use case.\n",
    "\n",
    "It's important to note that the calculated network is a simplification of the original one, where distances are preserved. As we can see in the map below, it drastically simplifies the topology whilst ensuring the total path’s lengths are preserved."
   ]
  },
  {
   "cell_type": "code",
   "execution_count": 3,
   "metadata": {},
   "outputs": [],
   "source": [
    "query = '''\n",
    "DECLARE county_geom GEOGRAPHY;\n",
    "\n",
    "SET county_geom = (\n",
    "SELECT ST_UNION_AGG(county_geom) AS county_geom\n",
    "FROM `bigquery-public-data.geo_us_boundaries.counties`\n",
    "WHERE county_name in ('New York', 'Richmond', 'Kings', 'Queens', 'Bronx') AND state_fips_code = '36');\n",
    "CREATE TABLE IF NOT EXISTS `cartobq.demos_sdsc21.routing_nyc_road_network` AS\n",
    "SELECT\n",
    "*\n",
    "FROM\n",
    "UNNEST((\n",
    "  SELECT\n",
    "    `carto-un`.routing.GENERATE_NETWORK(ARRAY_AGG(STRUCT(geometry, 1.)))\n",
    "  FROM\n",
    "    `bigquery-public-data.geo_openstreetmap.planet_ways`,\n",
    "    UNNEST(all_tags) tag\n",
    "  WHERE\n",
    "      ST_INTERSECTS(geometry,\n",
    "      county_geom)\n",
    "    AND key = 'highway'\n",
    "    AND value IN UNNEST(['motorway', 'trunk', 'primary', 'secondary', 'tertiary', 'residential', 'road']) ));\n",
    "'''"
   ]
  },
  {
   "cell_type": "code",
   "execution_count": 5,
   "metadata": {},
   "outputs": [
    {
     "data": {
      "text/plain": [
       "<google.cloud.bigquery.job.QueryJob at 0x1143b4470>"
      ]
     },
     "execution_count": 5,
     "metadata": {},
     "output_type": "execute_result"
    }
   ],
   "source": [
    "client.query(query)"
   ]
  },
  {
   "cell_type": "code",
   "execution_count": 6,
   "metadata": {},
   "outputs": [],
   "source": [
    "query = '''\n",
    "SELECT * \n",
    "FROM `cartobq.demos_sdsc21.routing_nyc_road_network`\n",
    "LIMIT 10\n",
    "'''"
   ]
  },
  {
   "cell_type": "code",
   "execution_count": 7,
   "metadata": {},
   "outputs": [
    {
     "data": {
      "text/html": [
       "<div>\n",
       "<style scoped>\n",
       "    .dataframe tbody tr th:only-of-type {\n",
       "        vertical-align: middle;\n",
       "    }\n",
       "\n",
       "    .dataframe tbody tr th {\n",
       "        vertical-align: top;\n",
       "    }\n",
       "\n",
       "    .dataframe thead th {\n",
       "        text-align: right;\n",
       "    }\n",
       "</style>\n",
       "<table border=\"1\" class=\"dataframe\">\n",
       "  <thead>\n",
       "    <tr style=\"text-align: right;\">\n",
       "      <th></th>\n",
       "      <th>src_idx</th>\n",
       "      <th>src_geo</th>\n",
       "      <th>dest_idx</th>\n",
       "      <th>dest_geo</th>\n",
       "      <th>weight</th>\n",
       "    </tr>\n",
       "  </thead>\n",
       "  <tbody>\n",
       "    <tr>\n",
       "      <th>0</th>\n",
       "      <td>15120</td>\n",
       "      <td>POINT(-73.79481 40.72803)</td>\n",
       "      <td>15121</td>\n",
       "      <td>POINT(-73.79389 40.72822)</td>\n",
       "      <td>79.607033</td>\n",
       "    </tr>\n",
       "    <tr>\n",
       "      <th>1</th>\n",
       "      <td>15120</td>\n",
       "      <td>POINT(-73.79481 40.72803)</td>\n",
       "      <td>17296</td>\n",
       "      <td>POINT(-73.79498 40.72892)</td>\n",
       "      <td>100.141560</td>\n",
       "    </tr>\n",
       "    <tr>\n",
       "      <th>2</th>\n",
       "      <td>15120</td>\n",
       "      <td>POINT(-73.79481 40.72803)</td>\n",
       "      <td>44642</td>\n",
       "      <td>POINT(-73.79459 40.72689)</td>\n",
       "      <td>128.282611</td>\n",
       "    </tr>\n",
       "    <tr>\n",
       "      <th>3</th>\n",
       "      <td>15120</td>\n",
       "      <td>POINT(-73.79481 40.72803)</td>\n",
       "      <td>3943</td>\n",
       "      <td>POINT(-73.79572 40.72784)</td>\n",
       "      <td>79.828638</td>\n",
       "    </tr>\n",
       "    <tr>\n",
       "      <th>4</th>\n",
       "      <td>3726</td>\n",
       "      <td>POINT(-74.12401 40.62167)</td>\n",
       "      <td>23846</td>\n",
       "      <td>POINT(-74.12077 40.62229)</td>\n",
       "      <td>283.016889</td>\n",
       "    </tr>\n",
       "    <tr>\n",
       "      <th>5</th>\n",
       "      <td>3726</td>\n",
       "      <td>POINT(-74.12401 40.62167)</td>\n",
       "      <td>3725</td>\n",
       "      <td>POINT(-74.12374 40.62097)</td>\n",
       "      <td>81.045731</td>\n",
       "    </tr>\n",
       "    <tr>\n",
       "      <th>6</th>\n",
       "      <td>3726</td>\n",
       "      <td>POINT(-74.12401 40.62167)</td>\n",
       "      <td>3727</td>\n",
       "      <td>POINT(-74.12425 40.62227)</td>\n",
       "      <td>69.502831</td>\n",
       "    </tr>\n",
       "    <tr>\n",
       "      <th>7</th>\n",
       "      <td>3726</td>\n",
       "      <td>POINT(-74.12401 40.62167)</td>\n",
       "      <td>34328</td>\n",
       "      <td>POINT(-74.12478 40.62156)</td>\n",
       "      <td>67.753649</td>\n",
       "    </tr>\n",
       "    <tr>\n",
       "      <th>8</th>\n",
       "      <td>569</td>\n",
       "      <td>POINT(-73.95325 40.76754)</td>\n",
       "      <td>570</td>\n",
       "      <td>POINT(-73.95278 40.76818)</td>\n",
       "      <td>81.542318</td>\n",
       "    </tr>\n",
       "    <tr>\n",
       "      <th>9</th>\n",
       "      <td>569</td>\n",
       "      <td>POINT(-73.95325 40.76754)</td>\n",
       "      <td>1223</td>\n",
       "      <td>POINT(-73.95548 40.76848)</td>\n",
       "      <td>215.036670</td>\n",
       "    </tr>\n",
       "  </tbody>\n",
       "</table>\n",
       "</div>"
      ],
      "text/plain": [
       "   src_idx                    src_geo  dest_idx                   dest_geo  \\\n",
       "0    15120  POINT(-73.79481 40.72803)     15121  POINT(-73.79389 40.72822)   \n",
       "1    15120  POINT(-73.79481 40.72803)     17296  POINT(-73.79498 40.72892)   \n",
       "2    15120  POINT(-73.79481 40.72803)     44642  POINT(-73.79459 40.72689)   \n",
       "3    15120  POINT(-73.79481 40.72803)      3943  POINT(-73.79572 40.72784)   \n",
       "4     3726  POINT(-74.12401 40.62167)     23846  POINT(-74.12077 40.62229)   \n",
       "5     3726  POINT(-74.12401 40.62167)      3725  POINT(-74.12374 40.62097)   \n",
       "6     3726  POINT(-74.12401 40.62167)      3727  POINT(-74.12425 40.62227)   \n",
       "7     3726  POINT(-74.12401 40.62167)     34328  POINT(-74.12478 40.62156)   \n",
       "8      569  POINT(-73.95325 40.76754)       570  POINT(-73.95278 40.76818)   \n",
       "9      569  POINT(-73.95325 40.76754)      1223  POINT(-73.95548 40.76848)   \n",
       "\n",
       "       weight  \n",
       "0   79.607033  \n",
       "1  100.141560  \n",
       "2  128.282611  \n",
       "3   79.828638  \n",
       "4  283.016889  \n",
       "5   81.045731  \n",
       "6   69.502831  \n",
       "7   67.753649  \n",
       "8   81.542318  \n",
       "9  215.036670  "
      ]
     },
     "execution_count": 7,
     "metadata": {},
     "output_type": "execute_result"
    }
   ],
   "source": [
    "network = client.query(query).to_dataframe()\n",
    "network"
   ]
  },
  {
   "cell_type": "markdown",
   "metadata": {},
   "source": [
    "### 1.1.1. Visualize network\n",
    "\n",
    "[Link to map](https://gcp-us-east1.app.carto.com/map/4ec3f9d0-95c0-4c9f-b13d-6ac485dc3ae6)"
   ]
  },
  {
   "cell_type": "code",
   "execution_count": null,
   "metadata": {},
   "outputs": [],
   "source": [
    "'''\n",
    "SELECT ST_MAKELINE(src_geo, dest_geo) as geom FROM `cartobq.demos_sdsc21.routing_nyc_road_network`\n",
    "'''"
   ]
  },
  {
   "cell_type": "markdown",
   "metadata": {},
   "source": [
    "<img src=\"img/nyc_network.png\" />"
   ]
  },
  {
   "cell_type": "markdown",
   "metadata": {},
   "source": [
    "### 1.2. Trip data\n",
    "\n",
    "#### 1.2.1. Visualize pickup and drop off locations\n",
    "\n",
    "Before calculating routes, we'd like to visualize where trips start and end. We'll use the H3 [spatial index](https://docs.carto.com/analytics-toolbox-bq/overview/spatial-indexes/) to aggregate trips and understand where most of the trips start and end. Hierarchical spatial indices are an essential tool for analyzing large spatial datasets, especially when dealing with data sources in different spatial aggregations. They provide a direct relationship between grid cells at different resolutions, enabling extremely performant spatial operations.\n",
    "\n",
    "*Note* we don't need a geometry column to visualize the data as CARTO can work directly with spatial indices.\n",
    "\n",
    "For this visualization we use the function [\\`carto-un\\`.h3.LONGLAT_ASH3](https://docs.carto.com/analytics-toolbox-bq/sql-reference/h3/#longlat_ash3) that returns the h3 cell index containing a point with the specified resolution. We're using [h3 resolution](https://h3geo.org/docs/core-library/restable/) 8 that corresponds to cells of size $~0.7373 km^2$."
   ]
  },
  {
   "cell_type": "code",
   "execution_count": 7,
   "metadata": {},
   "outputs": [],
   "source": [
    "# Aggregated by pickup location\n",
    "\n",
    "'''\n",
    "WITH trips_h3 AS (\n",
    "    SELECT *, \n",
    "        `carto-un`.h3.LONGLAT_ASH3(pickup_longitude, pickup_latitude, 8) AS pickup_h3_id,\n",
    "        `carto-un`.h3.LONGLAT_ASH3(dropoff_longitude, dropoff_latitude, 8) AS dropoff_h3_id\n",
    "    FROM `bigquery-public-data.new_york_taxi_trips.tlc_yellow_trips_2015`\n",
    "    WHERE DATE(pickup_datetime)=\"2015-11-26\"\n",
    ")\n",
    "SELECT pickup_h3_id, COUNT(vendor_id) AS n_trips\n",
    "FROM trips_h3 \n",
    "GROUP BY pickup_h3_id\n",
    "'''"
   ]
  },
  {
   "cell_type": "code",
   "execution_count": 9,
   "metadata": {},
   "outputs": [
    {
     "data": {
      "text/html": [
       "<div>\n",
       "<style scoped>\n",
       "    .dataframe tbody tr th:only-of-type {\n",
       "        vertical-align: middle;\n",
       "    }\n",
       "\n",
       "    .dataframe tbody tr th {\n",
       "        vertical-align: top;\n",
       "    }\n",
       "\n",
       "    .dataframe thead th {\n",
       "        text-align: right;\n",
       "    }\n",
       "</style>\n",
       "<table border=\"1\" class=\"dataframe\">\n",
       "  <thead>\n",
       "    <tr style=\"text-align: right;\">\n",
       "      <th></th>\n",
       "      <th>pickup_h3_id</th>\n",
       "      <th>n_trips</th>\n",
       "    </tr>\n",
       "  </thead>\n",
       "  <tbody>\n",
       "    <tr>\n",
       "      <th>0</th>\n",
       "      <td>882a1008b9fffff</td>\n",
       "      <td>4534</td>\n",
       "    </tr>\n",
       "    <tr>\n",
       "      <th>1</th>\n",
       "      <td>882a100f53fffff</td>\n",
       "      <td>1193</td>\n",
       "    </tr>\n",
       "    <tr>\n",
       "      <th>2</th>\n",
       "      <td>882a10089bfffff</td>\n",
       "      <td>5529</td>\n",
       "    </tr>\n",
       "    <tr>\n",
       "      <th>3</th>\n",
       "      <td>882a100d63fffff</td>\n",
       "      <td>7717</td>\n",
       "    </tr>\n",
       "    <tr>\n",
       "      <th>4</th>\n",
       "      <td>882a100d23fffff</td>\n",
       "      <td>6757</td>\n",
       "    </tr>\n",
       "    <tr>\n",
       "      <th>...</th>\n",
       "      <td>...</td>\n",
       "      <td>...</td>\n",
       "    </tr>\n",
       "    <tr>\n",
       "      <th>703</th>\n",
       "      <td>882a100523fffff</td>\n",
       "      <td>1</td>\n",
       "    </tr>\n",
       "    <tr>\n",
       "      <th>704</th>\n",
       "      <td>882a107401fffff</td>\n",
       "      <td>1</td>\n",
       "    </tr>\n",
       "    <tr>\n",
       "      <th>705</th>\n",
       "      <td>882a103a6dfffff</td>\n",
       "      <td>1</td>\n",
       "    </tr>\n",
       "    <tr>\n",
       "      <th>706</th>\n",
       "      <td>882a100e95fffff</td>\n",
       "      <td>1</td>\n",
       "    </tr>\n",
       "    <tr>\n",
       "      <th>707</th>\n",
       "      <td>882a100cd9fffff</td>\n",
       "      <td>1</td>\n",
       "    </tr>\n",
       "  </tbody>\n",
       "</table>\n",
       "<p>708 rows × 2 columns</p>\n",
       "</div>"
      ],
      "text/plain": [
       "        pickup_h3_id  n_trips\n",
       "0    882a1008b9fffff     4534\n",
       "1    882a100f53fffff     1193\n",
       "2    882a10089bfffff     5529\n",
       "3    882a100d63fffff     7717\n",
       "4    882a100d23fffff     6757\n",
       "..               ...      ...\n",
       "703  882a100523fffff        1\n",
       "704  882a107401fffff        1\n",
       "705  882a103a6dfffff        1\n",
       "706  882a100e95fffff        1\n",
       "707  882a100cd9fffff        1\n",
       "\n",
       "[708 rows x 2 columns]"
      ]
     },
     "execution_count": 9,
     "metadata": {},
     "output_type": "execute_result"
    }
   ],
   "source": [
    "client.query(query).to_dataframe()"
   ]
  },
  {
   "cell_type": "code",
   "execution_count": null,
   "metadata": {},
   "outputs": [],
   "source": [
    "# Aggregated by drop off location\n",
    "\n",
    "'''\n",
    "WITH trips_h3 AS (\n",
    "    SELECT *, \n",
    "        `carto-un`.h3.LONGLAT_ASH3(pickup_longitude, pickup_latitude, 8) AS pickup_h3_id,\n",
    "        `carto-un`.h3.LONGLAT_ASH3(dropoff_longitude, dropoff_latitude, 8) AS dropoff_h3_id\n",
    "    FROM `bigquery-public-data.new_york_taxi_trips.tlc_yellow_trips_2015`\n",
    "    WHERE DATE(pickup_datetime)=\"2015-11-26\"\n",
    ")\n",
    "SELECT dropoff_h3_id, COUNT(vendor_id) AS n_trips\n",
    "FROM trips_h3 \n",
    "GROUP BY dropoff_h3_id\n",
    "'''"
   ]
  },
  {
   "cell_type": "markdown",
   "metadata": {},
   "source": [
    "<img src=\"img/nyc_taxi_pu_do.png\" />"
   ]
  },
  {
   "cell_type": "markdown",
   "metadata": {},
   "source": [
    "## 2. Analysis\n",
    "\n",
    "\n",
    "On the previous map, we can see that cell `882a100f35fffff` has a larger number of trips than its surrounding cells. We are interested in knowing where these people are traveling, the distances traveled, and the main roads used."
   ]
  },
  {
   "cell_type": "markdown",
   "metadata": {},
   "source": [
    "### 2.1. Origin-destination matrix calculation\n",
    "\n",
    "We will calculate the origin-destination matrix and the corresponding routes using the function [\\`carto-un\\`.routing.FIND_SHORTEST_PATH_FROM_NETWORK](https://docs.carto.com/analytics-toolbox-bq/sql-reference/routing/#find_shortest_path_from_network) which takes a network, a source point, and a destination point as input, and returns the length and the geometry of the shortest path in terms of weights of links between the node closest to the source point and the node closest to the destination point. The algorithm used for calculating the shortest path is the [Dijkstra algorithm](https://en.wikipedia.org/wiki/Dijkstra%27s_algorithm).\n",
    "\n",
    "In particular, we calculate the trips starting within cell `882a100f35fffff`."
   ]
  },
  {
   "cell_type": "code",
   "execution_count": null,
   "metadata": {},
   "outputs": [],
   "source": [
    "# be careful because we need permissions to run this in CARTO workspace\n",
    "# Cuanto tarda esto? Podemos guardar la tabla o ejecutarlo en vivo o dejar aquí unas vuantas\n",
    "\n",
    "query = '''\n",
    "WITH trips_h3 AS (\n",
    "    SELECT *, \n",
    "           ST_GEOGPOINT(pickup_longitude, pickup_latitude) AS pickup_geom,\n",
    "           `carto-un`.h3.LONGLAT_ASH3(pickup_longitude, pickup_latitude, 8) AS pickup_h3_id,\n",
    "           ST_GEOGPOINT(dropoff_longitude, dropoff_latitude) AS dropoff_geom,\n",
    "           `carto-un`.h3.LONGLAT_ASH3(dropoff_longitude, dropoff_latitude, 8) AS dropoff_h3_id\n",
    "    FROM `bigquery-public-data.new_york_taxi_trips.tlc_yellow_trips_2015`\n",
    "    WHERE DATE(pickup_datetime)=\"2015-11-26\"\n",
    "),\n",
    "agg_network AS (\n",
    "    SELECT ARRAY_AGG(link) as network\n",
    "    FROM `cartobq.demos_sdsc21.routing_nyc_road_network` link\n",
    "),\n",
    "shortest_paths AS (\n",
    "SELECT `carto-un`.routing.FIND_SHORTEST_PATH_FROM_NETWORK(network,\n",
    "       pickup_geom,\n",
    "       dropoff_geom) AS paths, \n",
    "       ROW_NUMBER() OVER() AS trip_id \n",
    "FROM trips_h3, agg_network\n",
    "WHERE pickup_h3_id=\"882a100f35fffff\" \n",
    "      AND dropoff_h3_id != \"882a100f35fffff\"\n",
    ")\n",
    "SELECT paths.geom, paths.weight, trip_id FROM shortest_paths\n",
    "'''"
   ]
  },
  {
   "cell_type": "code",
   "execution_count": null,
   "metadata": {},
   "outputs": [],
   "source": [
    "client.query(query)"
   ]
  },
  {
   "cell_type": "code",
   "execution_count": null,
   "metadata": {},
   "outputs": [],
   "source": [
    ".head()"
   ]
  },
  {
   "cell_type": "code",
   "execution_count": 10,
   "metadata": {},
   "outputs": [],
   "source": [
    "# Compute some statistics on distances"
   ]
  },
  {
   "cell_type": "markdown",
   "metadata": {},
   "source": [
    "### 2.2. Route visualization\n",
    "\n",
    "In order to visualize routes, we use four different layers:\n",
    "- Route linestring geometries generated with the function `carto-un.routing.FIND_SHORTEST_PATH_FROM_NETWORK` in the previous step.\n",
    "- Pickup locations\n",
    "- Drop off locations\n",
    "- H3 cell `882a100f35fffff`"
   ]
  },
  {
   "cell_type": "code",
   "execution_count": null,
   "metadata": {},
   "outputs": [],
   "source": [
    "# If the previous query takes too long, save results on a table and plot the table"
   ]
  },
  {
   "cell_type": "code",
   "execution_count": null,
   "metadata": {},
   "outputs": [],
   "source": [
    "# pickup locations\n",
    "\n",
    "'''\n",
    "WITH trips_h3 AS (\n",
    "    SELECT *, \n",
    "           ST_GEOGPOINT(pickup_longitude, pickup_latitude) AS pickup_geom,\n",
    "           `carto-un`.h3.LONGLAT_ASH3(pickup_longitude, pickup_latitude, 8) AS pickup_h3_id,\n",
    "           `carto-un`.h3.LONGLAT_ASH3(dropoff_longitude, dropoff_latitude, 8) AS dropoff_h3_id\n",
    "    FROM `bigquery-public-data.new_york_taxi_trips.tlc_yellow_trips_2015`\n",
    "    WHERE DATE(pickup_datetime)=\"2015-11-26\"\n",
    ")\n",
    "SELECT pickup_geom as geom \n",
    "FROM trips_h3\n",
    "WHERE pickup_h3_id=\"882a100f35fffff\" AND dropoff_h3_id!=\"882a100f35fffff\"\n",
    "'''"
   ]
  },
  {
   "cell_type": "code",
   "execution_count": null,
   "metadata": {},
   "outputs": [],
   "source": [
    "# dropoff locations\n",
    "\n",
    "'''\n",
    "WITH trips_h3 AS (\n",
    "    SELECT *, \n",
    "           ST_GEOGPOINT(dropoff_longitude, dropoff_latitude) AS dropoff_geom,\n",
    "           `carto-un`.h3.LONGLAT_ASH3(pickup_longitude, pickup_latitude, 8) AS pickup_h3_id,\n",
    "           `carto-un`.h3.LONGLAT_ASH3(dropoff_longitude, dropoff_latitude, 8) AS dropoff_h3_id\n",
    "    FROM `bigquery-public-data.new_york_taxi_trips.tlc_yellow_trips_2015`\n",
    "    WHERE DATE(pickup_datetime)=\"2015-11-26\"\n",
    ")\n",
    "SELECT dropoff_geom as geom \n",
    "FROM trips_h3\n",
    "WHERE pickup_h3_id=\"882a100f35fffff\" AND dropoff_h3_id!=\"882a100f35fffff\"\n",
    "'''"
   ]
  },
  {
   "cell_type": "code",
   "execution_count": null,
   "metadata": {},
   "outputs": [],
   "source": [
    "# for plotting the origins\n",
    "\n",
    "'''\n",
    "SELECT `carto-un`.h3.ST_BOUNDARY(\"882a100f35fffff\") AS geom\n",
    "'''"
   ]
  },
  {
   "cell_type": "markdown",
   "metadata": {},
   "source": [
    "<img src=\"img/nyc_origin_trips.png\" />"
   ]
  },
  {
   "cell_type": "markdown",
   "metadata": {},
   "source": [
    "### 2.3. Road segment frecuency calculation\n",
    "\n",
    "We are also interested in understanding which roads have the highest use and where they are located. This information od key in many sectors such as logistics for cross decking or fast delivery for bundling deliveries, for example.\n",
    "\n",
    "We'll start by calculating use frequencies by road segment. The following table takes all routes, split them by road segment, and calculates frequencies."
   ]
  },
  {
   "cell_type": "code",
   "execution_count": null,
   "metadata": {},
   "outputs": [],
   "source": [
    "query = '''\n",
    "-- Temporary function to split our routes into segments\n",
    "-- so we can later analyze their usage independently\n",
    "CREATE TEMP FUNCTION\n",
    " pairwise(myarray ARRAY<STRUCT<idx INT64,\n",
    "   geom GEOGRAPHY>>) AS ((\n",
    "   SELECT\n",
    "     ARRAY_AGG(STRUCT(x AS a,\n",
    "         myarray[SAFE_OFFSET(off-1)] AS b,\n",
    "         ST_MAKELINE(x.geom,\n",
    "           myarray[SAFE_OFFSET(off-1)].geom) AS geom))\n",
    "   FROM\n",
    "     UNNEST(myarray) AS x\n",
    "   WITH OFFSET off\n",
    "   WHERE myarray[SAFE_OFFSET(off-1)] IS NOT NULL ));\n",
    "\n",
    "-- Get network to compute the shortest paths\n",
    "CREATE TABLE IF NOT EXISTS `cartobq.demos_sdsc21.routing_nyc_segment_frequency` AS\n",
    "WITH agg_network AS (\n",
    " SELECT ARRAY_AGG(link) network\n",
    " FROM `cartobq.demos_sdsc21.routing_nyc_road_network` link ),\n",
    "\n",
    " -- Get taxi trips for 2015-11-26\n",
    "trips_h3 AS (\n",
    "    SELECT *, \n",
    "           ST_GEOGPOINT(pickup_longitude, pickup_latitude) AS pickup_geom,\n",
    "           `carto-un`.h3.LONGLAT_ASH3(pickup_longitude, pickup_latitude, 8) AS pickup_h3_id,\n",
    "           ST_GEOGPOINT(dropoff_longitude, dropoff_latitude) AS dropoff_geom,\n",
    "           `carto-un`.h3.LONGLAT_ASH3(dropoff_longitude, dropoff_latitude, 8) AS dropoff_h3_id\n",
    "    FROM `bigquery-public-data.new_york_taxi_trips.tlc_yellow_trips_2015`\n",
    "    WHERE DATE(pickup_datetime)=\"2015-11-26\"\n",
    "),\n",
    "trips_h3_filtered AS (\n",
    "    SELECT * FROM trips_h3\n",
    "    WHERE pickup_h3_id=\"882a100f35fffff\" AND dropoff_h3_id!=\"882a100f35fffff\"\n",
    "),\n",
    "\n",
    "-- Compute shortest paths\n",
    " routes AS (\n",
    " SELECT `carto-un`.routing.FIND_SHORTEST_PATH_FROM_NETWORK(network,\n",
    "     pickup_geom,\n",
    "     dropoff_geom) compacted_route,\n",
    "   pickup_h3_id, dropoff_h3_id\n",
    " FROM\n",
    "   agg_network, trips_h3_filtered)\n",
    "\n",
    "-- Get usage frequency for each segment of the resulting routes\n",
    "SELECT\n",
    " ANY_VALUE(segments.geom) geo,\n",
    " COUNT(pickup_h3_id) frequency,\n",
    "FROM routes route,\n",
    " UNNEST(pairwise(compacted_route.path)) segments\n",
    "GROUP BY\n",
    " CONCAT(segments.a.idx,segments.b.idx)\n",
    "\n",
    "'''"
   ]
  },
  {
   "cell_type": "code",
   "execution_count": null,
   "metadata": {},
   "outputs": [],
   "source": [
    "client.query(query)"
   ]
  },
  {
   "cell_type": "markdown",
   "metadata": {},
   "source": [
    "### 2.4. Road segment frecuency visualization\n",
    "\n",
    "Finally, we're interesting in visualizing where these road segments with higher frequencies are located."
   ]
  },
  {
   "cell_type": "code",
   "execution_count": null,
   "metadata": {},
   "outputs": [],
   "source": [
    "''' '''"
   ]
  },
  {
   "cell_type": "markdown",
   "metadata": {},
   "source": [
    "<img src=\"img/nyc_segment_frequency.png\" />"
   ]
  }
 ],
 "metadata": {
  "kernelspec": {
   "display_name": "Python 3",
   "language": "python",
   "name": "python3"
  },
  "language_info": {
   "codemirror_mode": {
    "name": "ipython",
    "version": 3
   },
   "file_extension": ".py",
   "mimetype": "text/x-python",
   "name": "python",
   "nbconvert_exporter": "python",
   "pygments_lexer": "ipython3",
   "version": "3.7.3"
  }
 },
 "nbformat": 4,
 "nbformat_minor": 4
}
