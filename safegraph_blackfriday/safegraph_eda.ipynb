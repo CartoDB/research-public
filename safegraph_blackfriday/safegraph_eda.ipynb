{
 "cells": [
  {
   "cell_type": "markdown",
   "id": "6e92eafe-d97d-4322-b0f9-818074a03e15",
   "metadata": {},
   "source": [
    "# Exploratory Data Analysis for the following cities\n",
    "- Chicago, IL\n",
    "- Los Angeles, CA\n",
    "- Buffalo, NY\n",
    "- Raleigh, NC\n"
   ]
  },
  {
   "cell_type": "markdown",
   "id": "8b05eef1-f2c2-482a-8edd-46b5ed057dd5",
   "metadata": {},
   "source": [
    "https://docs.safegraph.com/docs/weekly-patterns"
   ]
  },
  {
   "cell_type": "code",
   "execution_count": 1,
   "id": "3ac2afd4-311a-44f1-b2ff-4dbc5317c4b7",
   "metadata": {},
   "outputs": [],
   "source": [
    "import doutils\n",
    "doutils.nb.megaimport(globals())\n",
    "%load_ext autoreload\n",
    "%autoreload 2\n",
    "\n",
    "from cartoframes import to_carto\n",
    "from cartoframes.viz import Layer, animation_style, time_series_widget\n",
    "from cartoframes import delete_table"
   ]
  },
  {
   "cell_type": "code",
   "execution_count": 6,
   "id": "9edfb198-5e70-4ebb-8d2f-de681eb6eed9",
   "metadata": {},
   "outputs": [],
   "source": [
    "patterns = \"carto-do.safegraph.humanmobility_patterns_usa_latlon_v3_daily_v3\"\n",
    "geography = \"carto-do.safegraph.geography_usa_latlon_v3\"\n",
    "\n",
    "bq_client = get_bq_client()"
   ]
  },
  {
   "cell_type": "code",
   "execution_count": 7,
   "id": "da97c16f-d3cf-4698-99db-e1627ab2e611",
   "metadata": {},
   "outputs": [],
   "source": [
    "from shapely.geometry import box, Polygon\n",
    "import h3\n",
    "from cartoframes.viz import Map, Layer, size_bins_style, color_bins_style, color_continuous_style, basic_style\n",
    "\n",
    "from sf_utils import *"
   ]
  },
  {
   "cell_type": "code",
   "execution_count": 8,
   "id": "92da600a-ba9b-4ee7-8b50-f59d3b7bb55b",
   "metadata": {},
   "outputs": [
    {
     "name": "stdout",
     "output_type": "stream",
     "text": [
      "chicago 0.15773980000000037\n",
      "los_angeles 0.3547760000000067\n",
      "buffalo 0.09005879347200096\n",
      "raleigh 0.02192661899999826\n"
     ]
    }
   ],
   "source": [
    "for k,v in bboxes.items():\n",
    "    print(k, box(*v).area)"
   ]
  },
  {
   "cell_type": "markdown",
   "id": "1b70e5e0-1e99-497d-968b-654324564da7",
   "metadata": {},
   "source": [
    "### POIS categories analysis"
   ]
  },
  {
   "cell_type": "code",
   "execution_count": 5,
   "id": "3336d96f-f186-44bd-ba41-8950b788559d",
   "metadata": {},
   "outputs": [],
   "source": [
    "pois_table_id = \"carto-do.safegraph.pointsofinterest_coreplaces_usa_latlon_v3_daily_v2\""
   ]
  },
  {
   "cell_type": "code",
   "execution_count": 1649,
   "id": "1bad7237-c49d-4338-8cae-f39477670fb9",
   "metadata": {},
   "outputs": [],
   "source": [
    "poi_query = f\"\"\"\n",
    "SELECT top_category, count(top_category) as n , sum(raw_visit_counts) as sum_visits\n",
    "FROM `cartodb-on-gcp-datascience.juanluis.safegraph_blackfriday_chicago`\n",
    "WHERE raw_visit_counts is not null\n",
    "GROUP BY top_category ORDER BY sum_visits DESC\n",
    "\"\"\""
   ]
  },
  {
   "cell_type": "code",
   "execution_count": 1650,
   "id": "7b0b5be0-8b24-4686-a729-74caae503ff2",
   "metadata": {},
   "outputs": [],
   "source": [
    "top_categories = bq_client.query(poi_query).result().to_dataframe()\n",
    "top_categories[\"pctg\"] = top_categories.n / top_categories.n.sum() * 100\n",
    "top_categories[\"pctg_cum_sum\"] = top_categories.pctg.cumsum()"
   ]
  },
  {
   "cell_type": "code",
   "execution_count": 1653,
   "id": "8021c98e-76d2-465a-b864-76d47e41e90d",
   "metadata": {},
   "outputs": [],
   "source": [
    "top_categories.sum_visits = top_categories.sum_visits.astype(np.int64)"
   ]
  },
  {
   "cell_type": "code",
   "execution_count": 1654,
   "id": "259062b3-84b1-4381-8daa-1212a9922588",
   "metadata": {},
   "outputs": [],
   "source": [
    "h = top_categories.head(30)"
   ]
  },
  {
   "cell_type": "code",
   "execution_count": 1655,
   "id": "a19e7abc-bfb9-4861-8a39-fd252eb648c6",
   "metadata": {},
   "outputs": [
    {
     "data": {
      "text/html": [
       "<style  type=\"text/css\" >\n",
       "#T_21bb0_row0_col1,#T_21bb0_row0_col2,#T_21bb0_row0_col3,#T_21bb0_row29_col4{\n",
       "            background-color:  #023858;\n",
       "            color:  #f1f1f1;\n",
       "        }#T_21bb0_row0_col4,#T_21bb0_row17_col1,#T_21bb0_row17_col3,#T_21bb0_row27_col2,#T_21bb0_row28_col2,#T_21bb0_row29_col2{\n",
       "            background-color:  #fff7fb;\n",
       "            color:  #000000;\n",
       "        }#T_21bb0_row1_col1,#T_21bb0_row1_col3,#T_21bb0_row5_col2{\n",
       "            background-color:  #e0deed;\n",
       "            color:  #000000;\n",
       "        }#T_21bb0_row1_col2{\n",
       "            background-color:  #1e80b8;\n",
       "            color:  #000000;\n",
       "        }#T_21bb0_row1_col4,#T_21bb0_row11_col2,#T_21bb0_row12_col2,#T_21bb0_row14_col1,#T_21bb0_row14_col3{\n",
       "            background-color:  #f4eef6;\n",
       "            color:  #000000;\n",
       "        }#T_21bb0_row2_col1,#T_21bb0_row2_col3,#T_21bb0_row15_col2{\n",
       "            background-color:  #f8f1f8;\n",
       "            color:  #000000;\n",
       "        }#T_21bb0_row2_col2{\n",
       "            background-color:  #81aed2;\n",
       "            color:  #000000;\n",
       "        }#T_21bb0_row2_col4,#T_21bb0_row9_col2,#T_21bb0_row12_col1,#T_21bb0_row12_col3,#T_21bb0_row22_col1,#T_21bb0_row22_col3{\n",
       "            background-color:  #f2ecf5;\n",
       "            color:  #000000;\n",
       "        }#T_21bb0_row3_col1,#T_21bb0_row3_col3,#T_21bb0_row4_col1,#T_21bb0_row4_col3{\n",
       "            background-color:  #e4e1ef;\n",
       "            color:  #000000;\n",
       "        }#T_21bb0_row3_col2{\n",
       "            background-color:  #dad9ea;\n",
       "            color:  #000000;\n",
       "        }#T_21bb0_row3_col4{\n",
       "            background-color:  #e6e2ef;\n",
       "            color:  #000000;\n",
       "        }#T_21bb0_row4_col2{\n",
       "            background-color:  #dfddec;\n",
       "            color:  #000000;\n",
       "        }#T_21bb0_row4_col4{\n",
       "            background-color:  #d8d7e9;\n",
       "            color:  #000000;\n",
       "        }#T_21bb0_row5_col1,#T_21bb0_row5_col3{\n",
       "            background-color:  #e7e3f0;\n",
       "            color:  #000000;\n",
       "        }#T_21bb0_row5_col4{\n",
       "            background-color:  #c6cce3;\n",
       "            color:  #000000;\n",
       "        }#T_21bb0_row6_col1,#T_21bb0_row6_col3{\n",
       "            background-color:  #f1ebf4;\n",
       "            color:  #000000;\n",
       "        }#T_21bb0_row6_col2{\n",
       "            background-color:  #ede7f2;\n",
       "            color:  #000000;\n",
       "        }#T_21bb0_row6_col4{\n",
       "            background-color:  #b9c6e0;\n",
       "            color:  #000000;\n",
       "        }#T_21bb0_row7_col1,#T_21bb0_row7_col3{\n",
       "            background-color:  #9ab8d8;\n",
       "            color:  #000000;\n",
       "        }#T_21bb0_row7_col2{\n",
       "            background-color:  #eee9f3;\n",
       "            color:  #000000;\n",
       "        }#T_21bb0_row7_col4{\n",
       "            background-color:  #7dacd1;\n",
       "            color:  #000000;\n",
       "        }#T_21bb0_row8_col1,#T_21bb0_row8_col3{\n",
       "            background-color:  #ebe6f2;\n",
       "            color:  #000000;\n",
       "        }#T_21bb0_row8_col2{\n",
       "            background-color:  #f1ebf5;\n",
       "            color:  #000000;\n",
       "        }#T_21bb0_row8_col4{\n",
       "            background-color:  #65a3cb;\n",
       "            color:  #000000;\n",
       "        }#T_21bb0_row9_col1,#T_21bb0_row9_col3,#T_21bb0_row21_col1,#T_21bb0_row21_col3,#T_21bb0_row25_col1,#T_21bb0_row25_col3,#T_21bb0_row26_col1,#T_21bb0_row26_col3,#T_21bb0_row27_col1,#T_21bb0_row27_col3{\n",
       "            background-color:  #faf3f9;\n",
       "            color:  #000000;\n",
       "        }#T_21bb0_row9_col4{\n",
       "            background-color:  #5ea0ca;\n",
       "            color:  #000000;\n",
       "        }#T_21bb0_row10_col1,#T_21bb0_row10_col3{\n",
       "            background-color:  #ece7f2;\n",
       "            color:  #000000;\n",
       "        }#T_21bb0_row10_col2{\n",
       "            background-color:  #f4edf6;\n",
       "            color:  #000000;\n",
       "        }#T_21bb0_row10_col4{\n",
       "            background-color:  #4496c3;\n",
       "            color:  #000000;\n",
       "        }#T_21bb0_row11_col1,#T_21bb0_row11_col3,#T_21bb0_row16_col1,#T_21bb0_row16_col3,#T_21bb0_row19_col2,#T_21bb0_row20_col2,#T_21bb0_row21_col2,#T_21bb0_row29_col1,#T_21bb0_row29_col3{\n",
       "            background-color:  #fdf5fa;\n",
       "            color:  #000000;\n",
       "        }#T_21bb0_row11_col4{\n",
       "            background-color:  #4295c3;\n",
       "            color:  #000000;\n",
       "        }#T_21bb0_row12_col4{\n",
       "            background-color:  #308cbe;\n",
       "            color:  #000000;\n",
       "        }#T_21bb0_row13_col1,#T_21bb0_row13_col3{\n",
       "            background-color:  #faf2f8;\n",
       "            color:  #000000;\n",
       "        }#T_21bb0_row13_col2{\n",
       "            background-color:  #f5eef6;\n",
       "            color:  #000000;\n",
       "        }#T_21bb0_row13_col4{\n",
       "            background-color:  #2a88bc;\n",
       "            color:  #000000;\n",
       "        }#T_21bb0_row14_col2,#T_21bb0_row19_col1,#T_21bb0_row19_col3{\n",
       "            background-color:  #f6eff7;\n",
       "            color:  #000000;\n",
       "        }#T_21bb0_row14_col4{\n",
       "            background-color:  #2081b9;\n",
       "            color:  #000000;\n",
       "        }#T_21bb0_row15_col1,#T_21bb0_row15_col3{\n",
       "            background-color:  #f0eaf4;\n",
       "            color:  #000000;\n",
       "        }#T_21bb0_row15_col4{\n",
       "            background-color:  #1077b4;\n",
       "            color:  #f1f1f1;\n",
       "        }#T_21bb0_row16_col2,#T_21bb0_row28_col1,#T_21bb0_row28_col3{\n",
       "            background-color:  #f9f2f8;\n",
       "            color:  #000000;\n",
       "        }#T_21bb0_row16_col4,#T_21bb0_row17_col4{\n",
       "            background-color:  #0d75b3;\n",
       "            color:  #f1f1f1;\n",
       "        }#T_21bb0_row17_col2{\n",
       "            background-color:  #fbf4f9;\n",
       "            color:  #000000;\n",
       "        }#T_21bb0_row18_col1,#T_21bb0_row18_col3{\n",
       "            background-color:  #fbf3f9;\n",
       "            color:  #000000;\n",
       "        }#T_21bb0_row18_col2{\n",
       "            background-color:  #fcf4fa;\n",
       "            color:  #000000;\n",
       "        }#T_21bb0_row18_col4{\n",
       "            background-color:  #0872b1;\n",
       "            color:  #f1f1f1;\n",
       "        }#T_21bb0_row19_col4{\n",
       "            background-color:  #056dac;\n",
       "            color:  #f1f1f1;\n",
       "        }#T_21bb0_row20_col1,#T_21bb0_row20_col3{\n",
       "            background-color:  #e3e0ee;\n",
       "            color:  #000000;\n",
       "        }#T_21bb0_row20_col4{\n",
       "            background-color:  #046299;\n",
       "            color:  #f1f1f1;\n",
       "        }#T_21bb0_row21_col4{\n",
       "            background-color:  #046096;\n",
       "            color:  #f1f1f1;\n",
       "        }#T_21bb0_row22_col2,#T_21bb0_row23_col2,#T_21bb0_row24_col2{\n",
       "            background-color:  #fef6fa;\n",
       "            color:  #000000;\n",
       "        }#T_21bb0_row22_col4{\n",
       "            background-color:  #04598c;\n",
       "            color:  #f1f1f1;\n",
       "        }#T_21bb0_row23_col1,#T_21bb0_row23_col3,#T_21bb0_row25_col2,#T_21bb0_row26_col2{\n",
       "            background-color:  #fef6fb;\n",
       "            color:  #000000;\n",
       "        }#T_21bb0_row23_col4{\n",
       "            background-color:  #04588a;\n",
       "            color:  #f1f1f1;\n",
       "        }#T_21bb0_row24_col1,#T_21bb0_row24_col3{\n",
       "            background-color:  #e9e5f1;\n",
       "            color:  #000000;\n",
       "        }#T_21bb0_row24_col4{\n",
       "            background-color:  #034973;\n",
       "            color:  #f1f1f1;\n",
       "        }#T_21bb0_row25_col4{\n",
       "            background-color:  #03466e;\n",
       "            color:  #f1f1f1;\n",
       "        }#T_21bb0_row26_col4{\n",
       "            background-color:  #034267;\n",
       "            color:  #f1f1f1;\n",
       "        }#T_21bb0_row27_col4{\n",
       "            background-color:  #023d60;\n",
       "            color:  #f1f1f1;\n",
       "        }#T_21bb0_row28_col4{\n",
       "            background-color:  #02395a;\n",
       "            color:  #f1f1f1;\n",
       "        }</style><table id=\"T_21bb0_\" ><thead>    <tr>        <th class=\"blank level0\" ></th>        <th class=\"col_heading level0 col0\" >top_category</th>        <th class=\"col_heading level0 col1\" >n</th>        <th class=\"col_heading level0 col2\" >sum_visits</th>        <th class=\"col_heading level0 col3\" >pctg</th>        <th class=\"col_heading level0 col4\" >pctg_cum_sum</th>    </tr></thead><tbody>\n",
       "                <tr>\n",
       "                        <th id=\"T_21bb0_level0_row0\" class=\"row_heading level0 row0\" >0</th>\n",
       "                        <td id=\"T_21bb0_row0_col0\" class=\"data row0 col0\" >Restaurants and Other Eating Places</td>\n",
       "                        <td id=\"T_21bb0_row0_col1\" class=\"data row0 col1\" >39580256</td>\n",
       "                        <td id=\"T_21bb0_row0_col2\" class=\"data row0 col2\" >9085263904</td>\n",
       "                        <td id=\"T_21bb0_row0_col3\" class=\"data row0 col3\" >19.761603</td>\n",
       "                        <td id=\"T_21bb0_row0_col4\" class=\"data row0 col4\" >19.761603</td>\n",
       "            </tr>\n",
       "            <tr>\n",
       "                        <th id=\"T_21bb0_level0_row1\" class=\"row_heading level0 row1\" >1</th>\n",
       "                        <td id=\"T_21bb0_row1_col0\" class=\"data row1 col0\" >Museums, Historical Sites, and Similar Institutions</td>\n",
       "                        <td id=\"T_21bb0_row1_col1\" class=\"data row1 col1\" >7146848</td>\n",
       "                        <td id=\"T_21bb0_row1_col2\" class=\"data row1 col2\" >6302176832</td>\n",
       "                        <td id=\"T_21bb0_row1_col3\" class=\"data row1 col3\" >3.568273</td>\n",
       "                        <td id=\"T_21bb0_row1_col4\" class=\"data row1 col4\" >23.329877</td>\n",
       "            </tr>\n",
       "            <tr>\n",
       "                        <th id=\"T_21bb0_level0_row2\" class=\"row_heading level0 row2\" >2</th>\n",
       "                        <td id=\"T_21bb0_row2_col0\" class=\"data row2 col0\" >Lessors of Real Estate</td>\n",
       "                        <td id=\"T_21bb0_row2_col1\" class=\"data row2 col1\" >1816288</td>\n",
       "                        <td id=\"T_21bb0_row2_col2\" class=\"data row2 col2\" >4380427120</td>\n",
       "                        <td id=\"T_21bb0_row2_col3\" class=\"data row2 col3\" >0.906835</td>\n",
       "                        <td id=\"T_21bb0_row2_col4\" class=\"data row2 col4\" >24.236712</td>\n",
       "            </tr>\n",
       "            <tr>\n",
       "                        <th id=\"T_21bb0_level0_row3\" class=\"row_heading level0 row3\" >3</th>\n",
       "                        <td id=\"T_21bb0_row3_col0\" class=\"data row3 col0\" >Other Amusement and Recreation Industries</td>\n",
       "                        <td id=\"T_21bb0_row3_col1\" class=\"data row3 col1\" >6457736</td>\n",
       "                        <td id=\"T_21bb0_row3_col2\" class=\"data row3 col2\" >2035818168</td>\n",
       "                        <td id=\"T_21bb0_row3_col3\" class=\"data row3 col3\" >3.224214</td>\n",
       "                        <td id=\"T_21bb0_row3_col4\" class=\"data row3 col4\" >27.460926</td>\n",
       "            </tr>\n",
       "            <tr>\n",
       "                        <th id=\"T_21bb0_level0_row4\" class=\"row_heading level0 row4\" >4</th>\n",
       "                        <td id=\"T_21bb0_row4_col0\" class=\"data row4 col0\" >Grocery Stores</td>\n",
       "                        <td id=\"T_21bb0_row4_col1\" class=\"data row4 col1\" >6418728</td>\n",
       "                        <td id=\"T_21bb0_row4_col2\" class=\"data row4 col2\" >1869822256</td>\n",
       "                        <td id=\"T_21bb0_row4_col3\" class=\"data row4 col3\" >3.204738</td>\n",
       "                        <td id=\"T_21bb0_row4_col4\" class=\"data row4 col4\" >30.665664</td>\n",
       "            </tr>\n",
       "            <tr>\n",
       "                        <th id=\"T_21bb0_level0_row5\" class=\"row_heading level0 row5\" >5</th>\n",
       "                        <td id=\"T_21bb0_row5_col0\" class=\"data row5 col0\" >Elementary and Secondary Schools</td>\n",
       "                        <td id=\"T_21bb0_row5_col1\" class=\"data row5 col1\" >5940184</td>\n",
       "                        <td id=\"T_21bb0_row5_col2\" class=\"data row5 col2\" >1804066568</td>\n",
       "                        <td id=\"T_21bb0_row5_col3\" class=\"data row5 col3\" >2.965811</td>\n",
       "                        <td id=\"T_21bb0_row5_col4\" class=\"data row5 col4\" >33.631475</td>\n",
       "            </tr>\n",
       "            <tr>\n",
       "                        <th id=\"T_21bb0_level0_row6\" class=\"row_heading level0 row6\" >6</th>\n",
       "                        <td id=\"T_21bb0_row6_col0\" class=\"data row6 col0\" >Gasoline Stations</td>\n",
       "                        <td id=\"T_21bb0_row6_col1\" class=\"data row6 col1\" >3858944</td>\n",
       "                        <td id=\"T_21bb0_row6_col2\" class=\"data row6 col2\" >1311385752</td>\n",
       "                        <td id=\"T_21bb0_row6_col3\" class=\"data row6 col3\" >1.926691</td>\n",
       "                        <td id=\"T_21bb0_row6_col4\" class=\"data row6 col4\" >35.558166</td>\n",
       "            </tr>\n",
       "            <tr>\n",
       "                        <th id=\"T_21bb0_level0_row7\" class=\"row_heading level0 row7\" >7</th>\n",
       "                        <td id=\"T_21bb0_row7_col0\" class=\"data row7 col0\" >Religious Organizations</td>\n",
       "                        <td id=\"T_21bb0_row7_col1\" class=\"data row7 col1\" >16036088</td>\n",
       "                        <td id=\"T_21bb0_row7_col2\" class=\"data row7 col2\" >1224489136</td>\n",
       "                        <td id=\"T_21bb0_row7_col3\" class=\"data row7 col3\" >8.006487</td>\n",
       "                        <td id=\"T_21bb0_row7_col4\" class=\"data row7 col4\" >43.564653</td>\n",
       "            </tr>\n",
       "            <tr>\n",
       "                        <th id=\"T_21bb0_level0_row8\" class=\"row_heading level0 row8\" >8</th>\n",
       "                        <td id=\"T_21bb0_row8_col0\" class=\"data row8 col0\" >Health and Personal Care Stores</td>\n",
       "                        <td id=\"T_21bb0_row8_col1\" class=\"data row8 col1\" >5180640</td>\n",
       "                        <td id=\"T_21bb0_row8_col2\" class=\"data row8 col2\" >1044493152</td>\n",
       "                        <td id=\"T_21bb0_row8_col3\" class=\"data row8 col3\" >2.586586</td>\n",
       "                        <td id=\"T_21bb0_row8_col4\" class=\"data row8 col4\" >46.151239</td>\n",
       "            </tr>\n",
       "            <tr>\n",
       "                        <th id=\"T_21bb0_level0_row9\" class=\"row_heading level0 row9\" >9</th>\n",
       "                        <td id=\"T_21bb0_row9_col0\" class=\"data row9 col0\" >General Merchandise Stores, including Warehouse Clubs and Supercenters</td>\n",
       "                        <td id=\"T_21bb0_row9_col1\" class=\"data row9 col1\" >1405472</td>\n",
       "                        <td id=\"T_21bb0_row9_col2\" class=\"data row9 col2\" >961833752</td>\n",
       "                        <td id=\"T_21bb0_row9_col3\" class=\"data row9 col3\" >0.701723</td>\n",
       "                        <td id=\"T_21bb0_row9_col4\" class=\"data row9 col4\" >46.852963</td>\n",
       "            </tr>\n",
       "            <tr>\n",
       "                        <th id=\"T_21bb0_level0_row10\" class=\"row_heading level0 row10\" >10</th>\n",
       "                        <td id=\"T_21bb0_row10_col0\" class=\"data row10 col0\" >Drinking Places (Alcoholic Beverages)</td>\n",
       "                        <td id=\"T_21bb0_row10_col1\" class=\"data row10 col1\" >5116672</td>\n",
       "                        <td id=\"T_21bb0_row10_col2\" class=\"data row10 col2\" >896766536</td>\n",
       "                        <td id=\"T_21bb0_row10_col3\" class=\"data row10 col3\" >2.554649</td>\n",
       "                        <td id=\"T_21bb0_row10_col4\" class=\"data row10 col4\" >49.407611</td>\n",
       "            </tr>\n",
       "            <tr>\n",
       "                        <th id=\"T_21bb0_level0_row11\" class=\"row_heading level0 row11\" >11</th>\n",
       "                        <td id=\"T_21bb0_row11_col0\" class=\"data row11 col0\" >General Medical and Surgical Hospitals</td>\n",
       "                        <td id=\"T_21bb0_row11_col1\" class=\"data row11 col1\" >700904</td>\n",
       "                        <td id=\"T_21bb0_row11_col2\" class=\"data row11 col2\" >873971664</td>\n",
       "                        <td id=\"T_21bb0_row11_col3\" class=\"data row11 col3\" >0.349947</td>\n",
       "                        <td id=\"T_21bb0_row11_col4\" class=\"data row11 col4\" >49.757558</td>\n",
       "            </tr>\n",
       "            <tr>\n",
       "                        <th id=\"T_21bb0_level0_row12\" class=\"row_heading level0 row12\" >12</th>\n",
       "                        <td id=\"T_21bb0_row12_col0\" class=\"data row12 col0\" >Other Miscellaneous Store Retailers</td>\n",
       "                        <td id=\"T_21bb0_row12_col1\" class=\"data row12 col1\" >3588352</td>\n",
       "                        <td id=\"T_21bb0_row12_col2\" class=\"data row12 col2\" >863168560</td>\n",
       "                        <td id=\"T_21bb0_row12_col3\" class=\"data row12 col3\" >1.791590</td>\n",
       "                        <td id=\"T_21bb0_row12_col4\" class=\"data row12 col4\" >51.549148</td>\n",
       "            </tr>\n",
       "            <tr>\n",
       "                        <th id=\"T_21bb0_level0_row13\" class=\"row_heading level0 row13\" >13</th>\n",
       "                        <td id=\"T_21bb0_row13_col0\" class=\"data row13 col0\" >Traveler Accommodation</td>\n",
       "                        <td id=\"T_21bb0_row13_col1\" class=\"data row13 col1\" >1528544</td>\n",
       "                        <td id=\"T_21bb0_row13_col2\" class=\"data row13 col2\" >846840592</td>\n",
       "                        <td id=\"T_21bb0_row13_col3\" class=\"data row13 col3\" >0.763170</td>\n",
       "                        <td id=\"T_21bb0_row13_col4\" class=\"data row13 col4\" >52.312318</td>\n",
       "            </tr>\n",
       "            <tr>\n",
       "                        <th id=\"T_21bb0_level0_row14\" class=\"row_heading level0 row14\" >14</th>\n",
       "                        <td id=\"T_21bb0_row14_col0\" class=\"data row14 col0\" >Sporting Goods, Hobby, and Musical Instrument Stores</td>\n",
       "                        <td id=\"T_21bb0_row14_col1\" class=\"data row14 col1\" >2917520</td>\n",
       "                        <td id=\"T_21bb0_row14_col2\" class=\"data row14 col2\" >757354832</td>\n",
       "                        <td id=\"T_21bb0_row14_col3\" class=\"data row14 col3\" >1.456657</td>\n",
       "                        <td id=\"T_21bb0_row14_col4\" class=\"data row14 col4\" >53.768976</td>\n",
       "            </tr>\n",
       "            <tr>\n",
       "                        <th id=\"T_21bb0_level0_row15\" class=\"row_heading level0 row15\" >15</th>\n",
       "                        <td id=\"T_21bb0_row15_col0\" class=\"data row15 col0\" >Clothing Stores</td>\n",
       "                        <td id=\"T_21bb0_row15_col1\" class=\"data row15 col1\" >4054976</td>\n",
       "                        <td id=\"T_21bb0_row15_col2\" class=\"data row15 col2\" >658334040</td>\n",
       "                        <td id=\"T_21bb0_row15_col3\" class=\"data row15 col3\" >2.024566</td>\n",
       "                        <td id=\"T_21bb0_row15_col4\" class=\"data row15 col4\" >55.793541</td>\n",
       "            </tr>\n",
       "            <tr>\n",
       "                        <th id=\"T_21bb0_level0_row16\" class=\"row_heading level0 row16\" >16</th>\n",
       "                        <td id=\"T_21bb0_row16_col0\" class=\"data row16 col0\" >Department Stores</td>\n",
       "                        <td id=\"T_21bb0_row16_col1\" class=\"data row16 col1\" >539040</td>\n",
       "                        <td id=\"T_21bb0_row16_col2\" class=\"data row16 col2\" >600218464</td>\n",
       "                        <td id=\"T_21bb0_row16_col3\" class=\"data row16 col3\" >0.269132</td>\n",
       "                        <td id=\"T_21bb0_row16_col4\" class=\"data row16 col4\" >56.062673</td>\n",
       "            </tr>\n",
       "            <tr>\n",
       "                        <th id=\"T_21bb0_level0_row17\" class=\"row_heading level0 row17\" >17</th>\n",
       "                        <td id=\"T_21bb0_row17_col0\" class=\"data row17 col0\" >Support Activities for Air Transportation</td>\n",
       "                        <td id=\"T_21bb0_row17_col1\" class=\"data row17 col1\" >47584</td>\n",
       "                        <td id=\"T_21bb0_row17_col2\" class=\"data row17 col2\" >464727248</td>\n",
       "                        <td id=\"T_21bb0_row17_col3\" class=\"data row17 col3\" >0.023758</td>\n",
       "                        <td id=\"T_21bb0_row17_col4\" class=\"data row17 col4\" >56.086431</td>\n",
       "            </tr>\n",
       "            <tr>\n",
       "                        <th id=\"T_21bb0_level0_row18\" class=\"row_heading level0 row18\" >18</th>\n",
       "                        <td id=\"T_21bb0_row18_col0\" class=\"data row18 col0\" >Building Material and Supplies Dealers</td>\n",
       "                        <td id=\"T_21bb0_row18_col1\" class=\"data row18 col1\" >1256248</td>\n",
       "                        <td id=\"T_21bb0_row18_col2\" class=\"data row18 col2\" >410756336</td>\n",
       "                        <td id=\"T_21bb0_row18_col3\" class=\"data row18 col3\" >0.627219</td>\n",
       "                        <td id=\"T_21bb0_row18_col4\" class=\"data row18 col4\" >56.713649</td>\n",
       "            </tr>\n",
       "            <tr>\n",
       "                        <th id=\"T_21bb0_level0_row19\" class=\"row_heading level0 row19\" >19</th>\n",
       "                        <td id=\"T_21bb0_row19_col0\" class=\"data row19 col0\" >Automotive Parts, Accessories, and Tire Stores</td>\n",
       "                        <td id=\"T_21bb0_row19_col1\" class=\"data row19 col1\" >2449928</td>\n",
       "                        <td id=\"T_21bb0_row19_col2\" class=\"data row19 col2\" >366648016</td>\n",
       "                        <td id=\"T_21bb0_row19_col3\" class=\"data row19 col3\" >1.223198</td>\n",
       "                        <td id=\"T_21bb0_row19_col4\" class=\"data row19 col4\" >57.936848</td>\n",
       "            </tr>\n",
       "            <tr>\n",
       "                        <th id=\"T_21bb0_level0_row20\" class=\"row_heading level0 row20\" >20</th>\n",
       "                        <td id=\"T_21bb0_row20_col0\" class=\"data row20 col0\" >Automotive Repair and Maintenance</td>\n",
       "                        <td id=\"T_21bb0_row20_col1\" class=\"data row20 col1\" >6551424</td>\n",
       "                        <td id=\"T_21bb0_row20_col2\" class=\"data row20 col2\" >360059264</td>\n",
       "                        <td id=\"T_21bb0_row20_col3\" class=\"data row20 col3\" >3.270991</td>\n",
       "                        <td id=\"T_21bb0_row20_col4\" class=\"data row20 col4\" >61.207838</td>\n",
       "            </tr>\n",
       "            <tr>\n",
       "                        <th id=\"T_21bb0_level0_row21\" class=\"row_heading level0 row21\" >21</th>\n",
       "                        <td id=\"T_21bb0_row21_col0\" class=\"data row21 col0\" >Office Supplies, Stationery, and Gift Stores</td>\n",
       "                        <td id=\"T_21bb0_row21_col1\" class=\"data row21 col1\" >1285704</td>\n",
       "                        <td id=\"T_21bb0_row21_col2\" class=\"data row21 col2\" >353085120</td>\n",
       "                        <td id=\"T_21bb0_row21_col3\" class=\"data row21 col3\" >0.641925</td>\n",
       "                        <td id=\"T_21bb0_row21_col4\" class=\"data row21 col4\" >61.849764</td>\n",
       "            </tr>\n",
       "            <tr>\n",
       "                        <th id=\"T_21bb0_level0_row22\" class=\"row_heading level0 row22\" >22</th>\n",
       "                        <td id=\"T_21bb0_row22_col0\" class=\"data row22 col0\" >Child Day Care Services</td>\n",
       "                        <td id=\"T_21bb0_row22_col1\" class=\"data row22 col1\" >3440672</td>\n",
       "                        <td id=\"T_21bb0_row22_col2\" class=\"data row22 col2\" >323163160</td>\n",
       "                        <td id=\"T_21bb0_row22_col3\" class=\"data row22 col3\" >1.717856</td>\n",
       "                        <td id=\"T_21bb0_row22_col4\" class=\"data row22 col4\" >63.567620</td>\n",
       "            </tr>\n",
       "            <tr>\n",
       "                        <th id=\"T_21bb0_level0_row23\" class=\"row_heading level0 row23\" >23</th>\n",
       "                        <td id=\"T_21bb0_row23_col0\" class=\"data row23 col0\" >Spectator Sports</td>\n",
       "                        <td id=\"T_21bb0_row23_col1\" class=\"data row23 col1\" >217968</td>\n",
       "                        <td id=\"T_21bb0_row23_col2\" class=\"data row23 col2\" >321729104</td>\n",
       "                        <td id=\"T_21bb0_row23_col3\" class=\"data row23 col3\" >0.108827</td>\n",
       "                        <td id=\"T_21bb0_row23_col4\" class=\"data row23 col4\" >63.676447</td>\n",
       "            </tr>\n",
       "            <tr>\n",
       "                        <th id=\"T_21bb0_level0_row24\" class=\"row_heading level0 row24\" >24</th>\n",
       "                        <td id=\"T_21bb0_row24_col0\" class=\"data row24 col0\" >Offices of Physicians</td>\n",
       "                        <td id=\"T_21bb0_row24_col1\" class=\"data row24 col1\" >5508496</td>\n",
       "                        <td id=\"T_21bb0_row24_col2\" class=\"data row24 col2\" >313513504</td>\n",
       "                        <td id=\"T_21bb0_row24_col3\" class=\"data row24 col3\" >2.750278</td>\n",
       "                        <td id=\"T_21bb0_row24_col4\" class=\"data row24 col4\" >66.426725</td>\n",
       "            </tr>\n",
       "            <tr>\n",
       "                        <th id=\"T_21bb0_level0_row25\" class=\"row_heading level0 row25\" >25</th>\n",
       "                        <td id=\"T_21bb0_row25_col0\" class=\"data row25 col0\" >Specialty Food Stores</td>\n",
       "                        <td id=\"T_21bb0_row25_col1\" class=\"data row25 col1\" >1342240</td>\n",
       "                        <td id=\"T_21bb0_row25_col2\" class=\"data row25 col2\" >276195864</td>\n",
       "                        <td id=\"T_21bb0_row25_col3\" class=\"data row25 col3\" >0.670153</td>\n",
       "                        <td id=\"T_21bb0_row25_col4\" class=\"data row25 col4\" >67.096878</td>\n",
       "            </tr>\n",
       "            <tr>\n",
       "                        <th id=\"T_21bb0_level0_row26\" class=\"row_heading level0 row26\" >26</th>\n",
       "                        <td id=\"T_21bb0_row26_col0\" class=\"data row26 col0\" >Florists</td>\n",
       "                        <td id=\"T_21bb0_row26_col1\" class=\"data row26 col1\" >1425944</td>\n",
       "                        <td id=\"T_21bb0_row26_col2\" class=\"data row26 col2\" >270727024</td>\n",
       "                        <td id=\"T_21bb0_row26_col3\" class=\"data row26 col3\" >0.711944</td>\n",
       "                        <td id=\"T_21bb0_row26_col4\" class=\"data row26 col4\" >67.808822</td>\n",
       "            </tr>\n",
       "            <tr>\n",
       "                        <th id=\"T_21bb0_level0_row27\" class=\"row_heading level0 row27\" >27</th>\n",
       "                        <td id=\"T_21bb0_row27_col0\" class=\"data row27 col0\" >Automobile Dealers</td>\n",
       "                        <td id=\"T_21bb0_row27_col1\" class=\"data row27 col1\" >1415768</td>\n",
       "                        <td id=\"T_21bb0_row27_col2\" class=\"data row27 col2\" >259312560</td>\n",
       "                        <td id=\"T_21bb0_row27_col3\" class=\"data row27 col3\" >0.706864</td>\n",
       "                        <td id=\"T_21bb0_row27_col4\" class=\"data row27 col4\" >68.515686</td>\n",
       "            </tr>\n",
       "            <tr>\n",
       "                        <th id=\"T_21bb0_level0_row28\" class=\"row_heading level0 row28\" >28</th>\n",
       "                        <td id=\"T_21bb0_row28_col0\" class=\"data row28 col0\" >Electronics and Appliance Stores</td>\n",
       "                        <td id=\"T_21bb0_row28_col1\" class=\"data row28 col1\" >1714296</td>\n",
       "                        <td id=\"T_21bb0_row28_col2\" class=\"data row28 col2\" >243627144</td>\n",
       "                        <td id=\"T_21bb0_row28_col3\" class=\"data row28 col3\" >0.855913</td>\n",
       "                        <td id=\"T_21bb0_row28_col4\" class=\"data row28 col4\" >69.371598</td>\n",
       "            </tr>\n",
       "            <tr>\n",
       "                        <th id=\"T_21bb0_level0_row29\" class=\"row_heading level0 row29\" >29</th>\n",
       "                        <td id=\"T_21bb0_row29_col0\" class=\"data row29 col0\" >Colleges, Universities, and Professional Schools</td>\n",
       "                        <td id=\"T_21bb0_row29_col1\" class=\"data row29 col1\" >565800</td>\n",
       "                        <td id=\"T_21bb0_row29_col2\" class=\"data row29 col2\" >231178264</td>\n",
       "                        <td id=\"T_21bb0_row29_col3\" class=\"data row29 col3\" >0.282492</td>\n",
       "                        <td id=\"T_21bb0_row29_col4\" class=\"data row29 col4\" >69.654090</td>\n",
       "            </tr>\n",
       "    </tbody></table>"
      ],
      "text/plain": [
       "<pandas.io.formats.style.Styler at 0x7fedb8324880>"
      ]
     },
     "execution_count": 1655,
     "metadata": {},
     "output_type": "execute_result"
    }
   ],
   "source": [
    "h.style.background_gradient()"
   ]
  },
  {
   "cell_type": "code",
   "execution_count": 1661,
   "id": "72e748dd-511c-431e-b5a1-f0560228b396",
   "metadata": {},
   "outputs": [],
   "source": [
    "filtered_categories = top_categories[top_categories.pctg_cum_sum < 90]"
   ]
  },
  {
   "cell_type": "code",
   "execution_count": 1662,
   "id": "a81c9f93-ff10-4f98-86e4-fb3a9e8e0f68",
   "metadata": {},
   "outputs": [
    {
     "data": {
      "text/html": [
       "<div>\n",
       "<style scoped>\n",
       "    .dataframe tbody tr th:only-of-type {\n",
       "        vertical-align: middle;\n",
       "    }\n",
       "\n",
       "    .dataframe tbody tr th {\n",
       "        vertical-align: top;\n",
       "    }\n",
       "\n",
       "    .dataframe thead th {\n",
       "        text-align: right;\n",
       "    }\n",
       "</style>\n",
       "<table border=\"1\" class=\"dataframe\">\n",
       "  <thead>\n",
       "    <tr style=\"text-align: right;\">\n",
       "      <th></th>\n",
       "      <th>n</th>\n",
       "      <th>sum_visits</th>\n",
       "      <th>pctg</th>\n",
       "      <th>pctg_cum_sum</th>\n",
       "    </tr>\n",
       "    <tr>\n",
       "      <th>top_category</th>\n",
       "      <th></th>\n",
       "      <th></th>\n",
       "      <th></th>\n",
       "      <th></th>\n",
       "    </tr>\n",
       "  </thead>\n",
       "  <tbody>\n",
       "    <tr>\n",
       "      <th>Grocery Stores</th>\n",
       "      <td>6418728</td>\n",
       "      <td>1869822256</td>\n",
       "      <td>3.204738</td>\n",
       "      <td>30.665664</td>\n",
       "    </tr>\n",
       "    <tr>\n",
       "      <th>Clothing Stores</th>\n",
       "      <td>4054976</td>\n",
       "      <td>658334040</td>\n",
       "      <td>2.024566</td>\n",
       "      <td>55.793541</td>\n",
       "    </tr>\n",
       "    <tr>\n",
       "      <th>Sporting Goods, Hobby, and Musical Instrument Stores</th>\n",
       "      <td>2917520</td>\n",
       "      <td>757354832</td>\n",
       "      <td>1.456657</td>\n",
       "      <td>53.768976</td>\n",
       "    </tr>\n",
       "    <tr>\n",
       "      <th>General Merchandise Stores, including Warehouse Clubs and Supercenters</th>\n",
       "      <td>1405472</td>\n",
       "      <td>961833752</td>\n",
       "      <td>0.701723</td>\n",
       "      <td>46.852963</td>\n",
       "    </tr>\n",
       "    <tr>\n",
       "      <th>Department Stores</th>\n",
       "      <td>539040</td>\n",
       "      <td>600218464</td>\n",
       "      <td>0.269132</td>\n",
       "      <td>56.062673</td>\n",
       "    </tr>\n",
       "    <tr>\n",
       "      <th>Electronics and Appliance Stores</th>\n",
       "      <td>1714296</td>\n",
       "      <td>243627144</td>\n",
       "      <td>0.855913</td>\n",
       "      <td>69.371598</td>\n",
       "    </tr>\n",
       "  </tbody>\n",
       "</table>\n",
       "</div>"
      ],
      "text/plain": [
       "                                                          n  sum_visits  \\\n",
       "top_category                                                              \n",
       "Grocery Stores                                      6418728  1869822256   \n",
       "Clothing Stores                                     4054976   658334040   \n",
       "Sporting Goods, Hobby, and Musical Instrument S...  2917520   757354832   \n",
       "General Merchandise Stores, including Warehouse...  1405472   961833752   \n",
       "Department Stores                                    539040   600218464   \n",
       "Electronics and Appliance Stores                    1714296   243627144   \n",
       "\n",
       "                                                        pctg  pctg_cum_sum  \n",
       "top_category                                                                \n",
       "Grocery Stores                                      3.204738     30.665664  \n",
       "Clothing Stores                                     2.024566     55.793541  \n",
       "Sporting Goods, Hobby, and Musical Instrument S...  1.456657     53.768976  \n",
       "General Merchandise Stores, including Warehouse...  0.701723     46.852963  \n",
       "Department Stores                                   0.269132     56.062673  \n",
       "Electronics and Appliance Stores                    0.855913     69.371598  "
      ]
     },
     "execution_count": 1662,
     "metadata": {},
     "output_type": "execute_result"
    }
   ],
   "source": [
    "chosen_categories = [\n",
    " 'Grocery Stores',\n",
    " 'Clothing Stores',\n",
    " 'Sporting Goods, Hobby, and Musical Instrument Stores',\n",
    " 'General Merchandise Stores, including Warehouse Clubs and Supercenters',\n",
    " 'Department Stores',\n",
    " 'Electronics and Appliance Stores']\n",
    "\n",
    "filtered_categories.set_index(\"top_category\").loc[chosen_categories]"
   ]
  },
  {
   "cell_type": "code",
   "execution_count": 8,
   "id": "42ca6530-acdd-4944-bc4c-ce2d21b60f5b",
   "metadata": {},
   "outputs": [],
   "source": [
    "cols = ('placekey',\n",
    " 'latitude',\n",
    " 'longitude',\n",
    " 'date_range_start',\n",
    " 'date_range_end',\n",
    " 'raw_visit_counts',\n",
    " 'raw_visitor_counts',\n",
    " 'visits_by_day',\n",
    " 'visitor_home_cbgs',\n",
    " #'popularity_by_hour',\n",
    " #'popularity_by_day',\n",
    " 'top_category',\n",
    " #'sub_category',\n",
    " 'h3_z7',\n",
    " 'h3_z8',\n",
    " 'h3_z9')"
   ]
  },
  {
   "cell_type": "code",
   "execution_count": 1666,
   "id": "96f6b797-4e44-4b6c-950b-15c264e7731f",
   "metadata": {},
   "outputs": [],
   "source": [
    "q2 = f\"\"\"\n",
    "SELECT {\", \".join(cols)}\n",
    "FROM `cartodb-on-gcp-datascience.juanluis.safegraph_blackfriday_chicago`\n",
    "WHERE raw_visit_counts is not null and top_category IN {tuple(chosen_categories)}\n",
    "\"\"\""
   ]
  },
  {
   "cell_type": "code",
   "execution_count": 1667,
   "id": "5296e56f-5f70-4fcb-bb49-5ebe69356347",
   "metadata": {},
   "outputs": [
    {
     "name": "stdout",
     "output_type": "stream",
     "text": [
      "\n",
      "SELECT placekey, latitude, longitude, date_range_start, date_range_end, raw_visit_counts, raw_visitor_counts, visits_by_day, visitor_home_cbgs, top_category, h3_z7, h3_z8, h3_z9\n",
      "FROM `cartodb-on-gcp-datascience.juanluis.safegraph_blackfriday_chicago`\n",
      "WHERE raw_visit_counts is not null and top_category IN ('Grocery Stores', 'Clothing Stores', 'Sporting Goods, Hobby, and Musical Instrument Stores', 'General Merchandise Stores, including Warehouse Clubs and Supercenters', 'Department Stores', 'Electronics and Appliance Stores')\n",
      "\n"
     ]
    }
   ],
   "source": [
    "print(q2)"
   ]
  },
  {
   "cell_type": "code",
   "execution_count": 21,
   "id": "80cb8291-89ef-460c-aff4-2a09c58a6629",
   "metadata": {},
   "outputs": [],
   "source": [
    "bq_table = bq_client.get_table(\"cartodb-on-gcp-datascience.juanluis.safegraph_blackfriday_chicago\")\n",
    "[t.name for t in bq_table.schema]"
   ]
  },
  {
   "cell_type": "code",
   "execution_count": 1670,
   "id": "6d17a7f2-790a-4b85-9d7e-bc35a2e6813b",
   "metadata": {},
   "outputs": [],
   "source": [
    "df = bq_client.query(q2).result().to_dataframe()"
   ]
  },
  {
   "cell_type": "code",
   "execution_count": 1673,
   "id": "fb133218-62f2-40ba-842b-288e51b928c0",
   "metadata": {},
   "outputs": [],
   "source": [
    "raw_visit_counts = df[[\"date_range_start\", \"raw_visit_counts\", \"top_category\"]]\n",
    "daily_visit_counts = df[[\"date_range_start\", \"date_range_end\", \"top_category\", \"visits_by_day\"]]"
   ]
  },
  {
   "cell_type": "code",
   "execution_count": 1674,
   "id": "be945c0f-fcc1-4079-b1eb-d59335af983f",
   "metadata": {},
   "outputs": [],
   "source": [
    "bf_2019 = np.datetime64(\"2019-11-29\")\n",
    "bf_2020 = np.datetime64(\"2020-11-27\")\n",
    "bf_2021 = np.datetime64(\"2021-11-26\")"
   ]
  },
  {
   "cell_type": "code",
   "execution_count": 110,
   "id": "49279327-7c36-4aa3-bf89-00712e9e3a86",
   "metadata": {},
   "outputs": [],
   "source": [
    "import seaborn as sns\n",
    "import matplotlib.pyplot as plt"
   ]
  },
  {
   "cell_type": "markdown",
   "id": "ff1f2d16-7e29-4e5a-b5c8-0dfc2fb3ce14",
   "metadata": {},
   "source": [
    "### Upscale hotspot areas by zooming out"
   ]
  },
  {
   "cell_type": "code",
   "execution_count": 183,
   "id": "0fc2a015-44a6-4827-b4f7-5125e8325a0e",
   "metadata": {},
   "outputs": [],
   "source": [
    "def generate_map(gettis_ord_df, hotspots, city, upload = False):\n",
    "    city_name = title_cities.get(city)\n",
    "    q95_sum = gettis_ord_df.quantile(0.95).values[0]\n",
    "    if upload:\n",
    "        to_carto(gettis_ord_df, f\"{city}_bf_getis_ord\", if_exists = \"replace\")\n",
    "        gettis_ord_df = f\"{city}_bf_getis_ord\"\n",
    "    continuous_l = Layer(\n",
    "    gettis_ord_df,\n",
    "    legends = color_continuous_legend(title = f\"Hotspot Areas - {city_name}\",\n",
    "                                      description = \"Getis-Ord index over nº of visits\",\n",
    "                                      footer = \"Source : Safegraph\",\n",
    "                                      format = \".2f\"),\n",
    "    style = color_continuous_style(\"gi\", range_max=q95_sum, palette = \"Geyser\"),\n",
    "    popup_hover= popup_element(\"gi\", title = \"Getis-Ord\"),\n",
    "    geom_col=\"geometry\",\n",
    "    encode_data=False\n",
    "    )\n",
    "    hotspot_l = Layer(hotspots, style = basic_style(opacity = 0, stroke_width= 3, stroke_color = \"#6E260E\"))\n",
    "    return Map([continuous_l, hotspot_l])\n",
    "    "
   ]
  },
  {
   "cell_type": "code",
   "execution_count": 163,
   "id": "178c6a6e-fd12-4698-84e9-3de58a7ec2b4",
   "metadata": {},
   "outputs": [
    {
     "data": {
      "text/plain": [
       "{'id': 'c9b0056b-372a-4351-8b00-053ee8652686',\n",
       " 'url': 'https://public.carto.com/kuviz/c9b0056b-372a-4351-8b00-053ee8652686',\n",
       " 'name': 'chicago_bf_hostpots_map',\n",
       " 'privacy': 'public'}"
      ]
     },
     "execution_count": 163,
     "metadata": {},
     "output_type": "execute_result"
    }
   ],
   "source": [
    "chicago_map.publish(\"chicago_bf_hotspots_map\", None, if_exists = \"replace\")"
   ]
  },
  {
   "cell_type": "markdown",
   "id": "3f6b2aa4-cc5b-422f-b794-4d0ec113935a",
   "metadata": {},
   "source": [
    "### Compute all cities"
   ]
  },
  {
   "cell_type": "code",
   "execution_count": 263,
   "id": "1d590bec-6b71-4935-9f0f-e72cf241ad53",
   "metadata": {},
   "outputs": [],
   "source": [
    "#maps = {}\n",
    "title_cities = {'chicago' : 'Chicago', 'los_angeles' : 'Los Angeles', 'buffalo' : \"Buffalo\", 'raleigh' : \"Raleigh\"}"
   ]
  },
  {
   "cell_type": "code",
   "execution_count": 181,
   "id": "8bbb17d1-b41f-4b0f-b852-72565a870fea",
   "metadata": {},
   "outputs": [
    {
     "name": "stdout",
     "output_type": "stream",
     "text": [
      "grandparent\n",
      "872664c13ffffff    49\n",
      "872664c1affffff    48\n",
      "872664cadffffff    47\n",
      "872664ca9ffffff    47\n",
      "872664c16ffffff    44\n",
      "872664c1effffff    42\n",
      "872664ca1ffffff    41\n",
      "872664c10ffffff    37\n",
      "Name: gi, dtype: int64\n",
      "min_base_cells 8.0\n",
      "Success! Data uploaded to table \"chicago_bf_getis_ord\" correctly\n"
     ]
    }
   ],
   "source": [
    "#Chicago\n",
    "city = \"chicago\"\n",
    "chicago_gettis_ord_df = get_gettis_ord_df(city, h3_col)\n",
    "chicago_hotspots_gdf = find_hotspot_geometries(chicago_gettis_ord_df, min_base_cells_in_grandparent = None)\n",
    "maps[city] = generate_map(chicago_gettis_ord_df, chicago_hotspots_gdf, city, upload = True)"
   ]
  },
  {
   "cell_type": "code",
   "execution_count": 182,
   "id": "edddb223-0030-4049-a4ee-cb13c0f945b5",
   "metadata": {},
   "outputs": [
    {
     "name": "stdout",
     "output_type": "stream",
     "text": [
      "grandparent\n",
      "872aa6c94ffffff    41\n",
      "872aa6d93ffffff    31\n",
      "872aa6d81ffffff    23\n",
      "872aa6c90ffffff    18\n",
      "872aa6ca0ffffff    16\n",
      "872b9b36dffffff    15\n",
      "872aa6d9dffffff    15\n",
      "872aa6d8affffff     9\n",
      "Name: gi, dtype: int64\n",
      "min_base_cells 6\n"
     ]
    }
   ],
   "source": [
    "# Buffalo\n",
    "city = \"buffalo\"\n",
    "buffalo_gettis_ord_df = get_gettis_ord_df(city, h3_col)\n",
    "buffalo_hotspots_gdf = find_hotspot_geometries(buffalo_gettis_ord_df, min_base_cells_in_grandparent = 6)\n",
    "maps[city] = generate_map(buffalo_gettis_ord_df, buffalo_hotspots_gdf, city)"
   ]
  },
  {
   "cell_type": "code",
   "execution_count": 165,
   "id": "5f85fb14-7a17-441f-9fb9-719916a88f7c",
   "metadata": {},
   "outputs": [
    {
     "name": "stdout",
     "output_type": "stream",
     "text": [
      "grandparent\n",
      "8729a1d62ffffff    49\n",
      "8729a1d63ffffff    49\n",
      "8729a1d75ffffff    48\n",
      "8729a1d6dffffff    47\n",
      "8729a1d66ffffff    46\n",
      "8729a0b43ffffff    45\n",
      "8729a0b49ffffff    44\n",
      "8729a1d6affffff    42\n",
      "Name: gi, dtype: int64\n",
      "min_base_cells 20\n"
     ]
    }
   ],
   "source": [
    "#Los angeles\n",
    "city = \"los_angeles\"\n",
    "los_angeles_gettis_ord_df = get_gettis_ord_df(city, h3_col)\n",
    "los_angeles_hotspots_gdf = find_hotspot_geometries(los_angeles_gettis_ord_df,\n",
    "                                                   min_base_cells_in_grandparent = 20,\n",
    "                                                   top_quantile=0.90,\n",
    "                                                   verbose=True)\n",
    "maps[city] = generate_map(los_angeles_gettis_ord_df, los_angeles_hotspots_gdf, city, upload = True)"
   ]
  },
  {
   "cell_type": "code",
   "execution_count": 186,
   "id": "db50ef41-b242-4ddc-905c-a1a9ba3d3640",
   "metadata": {},
   "outputs": [
    {
     "name": "stdout",
     "output_type": "stream",
     "text": [
      "grandparent\n",
      "872ad69b0ffffff    35\n",
      "872ad69b2ffffff    16\n",
      "872a896edffffff    13\n",
      "872ad69b6ffffff    12\n",
      "872a896e8ffffff     9\n",
      "872a896eeffffff     9\n",
      "872a8965effffff     5\n",
      "872a89653ffffff     3\n",
      "Name: gi, dtype: int64\n",
      "min_base_cells 9\n"
     ]
    }
   ],
   "source": [
    "#Raleigh\n",
    "city = \"raleigh\"\n",
    "raleigh_gettis_ord_df = get_gettis_ord_df(city, h3_col)\n",
    "raleigh_hotspots_gdf = find_hotspot_geometries(raleigh_gettis_ord_df, min_base_cells_in_grandparent = 9)\n",
    "maps[city] = generate_map(raleigh_gettis_ord_df, raleigh_hotspots_gdf, city)"
   ]
  },
  {
   "cell_type": "code",
   "execution_count": 188,
   "id": "632d9cc6-b1cc-42af-99a8-04c4b7cb517a",
   "metadata": {},
   "outputs": [
    {
     "name": "stdout",
     "output_type": "stream",
     "text": [
      "The map has been published. The \"cartoframes_b6d1ba1f9dc76077334da2bed59b257e\" Maps API key with value \"1e9wPMnVPNze9gcEyD2uGw\" is being used for the datasets: \"los_angeles_bf_getis_ord\". You can manage your API keys on your account.\n",
      "los_angeles https://public.carto.com/kuviz/798b45de-f874-4efd-b04f-fb23fca45dea\n",
      "The map has been published. The \"cartoframes_4e556a7c62dde13100c6cb3a3d9367cc\" Maps API key with value \"8h00io45jhiaHrTg24B12Q\" is being used for the datasets: \"chicago_bf_getis_ord\". You can manage your API keys on your account.\n",
      "chicago https://public.carto.com/kuviz/70d7ba34-5707-4355-a5c1-c29e22d82518\n",
      "buffalo https://public.carto.com/kuviz/c18ee1a3-4572-4e4d-9a3a-6e2cb1a736e9\n",
      "raleigh https://public.carto.com/kuviz/7976497a-5742-4456-9da9-be55e6201dbb\n"
     ]
    }
   ],
   "source": [
    "for city, m in maps.items():\n",
    "    out = m.publish(f\"{city}_bf_hotspots_map\", None, if_exists=\"replace\")\n",
    "    print(city, out[\"url\"])"
   ]
  },
  {
   "cell_type": "code",
   "execution_count": 189,
   "id": "010e0815-85b6-4af8-bec5-bc4cd3b38563",
   "metadata": {},
   "outputs": [],
   "source": [
    "hotspot_layout =\\\n",
    "Layout([\n",
    "    maps[\"chicago\"],\n",
    "    maps[\"los_angeles\"],\n",
    "    maps[\"raleigh\"],\n",
    "    maps[\"buffalo\"],\n",
    "], 2, 2)"
   ]
  },
  {
   "cell_type": "code",
   "execution_count": null,
   "id": "5f54e5d4-586c-4eea-8ad9-18d68b71f443",
   "metadata": {},
   "outputs": [],
   "source": [
    "hotspot_layout.publish(\"safegraph_bf_cities_hotspots\", None)"
   ]
  },
  {
   "cell_type": "markdown",
   "id": "e8079b90-b3a1-4746-bf52-22886972f30f",
   "metadata": {},
   "source": [
    "### plot average max value"
   ]
  },
  {
   "cell_type": "code",
   "execution_count": 566,
   "id": "bea45623-4ddc-4e65-87e3-87f30949bb9a",
   "metadata": {},
   "outputs": [],
   "source": [
    "h3_gdf = df.loc[nov_filter].filter(regex = \"raw|h3_z\").groupby(h3_col)[[\"raw_visitor_counts\"]].sum()"
   ]
  },
  {
   "cell_type": "code",
   "execution_count": 646,
   "id": "26f7254c-28a7-42da-8271-462fe4898d13",
   "metadata": {},
   "outputs": [],
   "source": [
    "h3_gdf[\"geometry\"] = list(map(get_h3_pol,h3_gdf.index))\n",
    "h3_gdf = gpd.GeoDataFrame(h3_gdf, geometry = \"geometry\")"
   ]
  },
  {
   "cell_type": "code",
   "execution_count": 647,
   "id": "c54d7cbd-3e66-45a7-82c3-90955d6a5d6d",
   "metadata": {},
   "outputs": [],
   "source": [
    "breaks = h3_gdf.raw_visitor_counts.quantile([0.25,0.5,0.75,0.95]).values"
   ]
  },
  {
   "cell_type": "markdown",
   "id": "ea371efb-fb4f-4753-80ed-afb6d02b11b3",
   "metadata": {},
   "source": [
    "### Calculate Statistics comparing BF 2019  vs 2020"
   ]
  },
  {
   "cell_type": "code",
   "execution_count": 192,
   "id": "52d72df3-e21e-4fbf-ae18-dd3ac914e204",
   "metadata": {},
   "outputs": [],
   "source": [
    "l0 = list(chicago_hotspots_gdf.grandparent.values)\n",
    "l1 = list(los_angeles_hotspots_gdf.grandparent.values)\n",
    "l2 = list(buffalo_hotspots_gdf.grandparent.values)\n",
    "l3 = list(raleigh_hotspots_gdf.grandparent.values)"
   ]
  },
  {
   "cell_type": "code",
   "execution_count": 193,
   "id": "e4e76675-d1f3-4ee3-9307-b0fb30c618b1",
   "metadata": {},
   "outputs": [],
   "source": [
    "hotspots_h3_z7 = {\n",
    "    \"chicago\": l0,\n",
    "    \"los_angeles\" : l1,\n",
    "    \"buffalo\" : l2,\n",
    "    \"raleigh\" : l3\n",
    "}"
   ]
  },
  {
   "cell_type": "code",
   "execution_count": 194,
   "id": "3e04989c-3a6f-49a4-92f8-c7eec9627500",
   "metadata": {},
   "outputs": [],
   "source": [
    "import json\n",
    "with open(\"hotspots_h3_z7.json\", \"w+\") as fp:\n",
    "    json.dump(hotspots_h3_z7, fp) "
   ]
  },
  {
   "cell_type": "code",
   "execution_count": 195,
   "id": "0f774c23-a5f9-4b2c-aef6-8f7ea0447f0e",
   "metadata": {},
   "outputs": [],
   "source": [
    "hotspot_indices = l0 + l1 + l2 + l3"
   ]
  },
  {
   "cell_type": "markdown",
   "id": "39b6c258-bcc8-4bff-ae2d-faf44ed1c4a0",
   "metadata": {},
   "source": [
    "### Comparing Black fridays"
   ]
  },
  {
   "cell_type": "code",
   "execution_count": 298,
   "id": "286e19c5-6b35-47f2-864f-7719e46704fe",
   "metadata": {},
   "outputs": [],
   "source": [
    "stats_dfs = []\n",
    "for k,v in bboxes.items():\n",
    "    stats_q = f\"\"\"\n",
    "    WITH sum_visitors AS (\n",
    "    SELECT SUM(raw_visitor_counts) as sum_visitors_counts\n",
    "    FROM `cartodb-on-gcp-datascience.juanluis.safegraph_blackfriday_weekly_patterns_{k}`)\n",
    "    \n",
    "    SELECT  EXTRACT(DATE FROM date_range_start) as date,\n",
    "    SUM(distance_from_home*raw_visitor_counts/sum_visitors_counts) as avg_distance_from_home,\n",
    "    SUM(raw_visit_counts) as sum_raw_visit_counts,\n",
    "    SUM(median_dwell*raw_visitor_counts/sum_visitors_counts) as avg_median_dwell,\n",
    "    FROM `cartodb-on-gcp-datascience.juanluis.safegraph_blackfriday_weekly_patterns_{k}`, sum_visitors\n",
    "    WHERE raw_visit_counts >= 1 AND h3_z7 IN {tuple(hotspot_indices)}\n",
    "    GROUP BY date_range_start\n",
    "    ORDER BY date_range_start\n",
    "    \"\"\"\n",
    "    stats_df = bq_client.query(stats_q).result().to_dataframe()\n",
    "    stats_df[\"city\"] = k\n",
    "    stats_dfs.append(stats_df)\n"
   ]
  },
  {
   "cell_type": "code",
   "execution_count": 299,
   "id": "ff92a1f2-8e8a-4555-9cac-a098cd623924",
   "metadata": {},
   "outputs": [],
   "source": [
    "city_stats = pd.concat(stats_dfs)\n",
    "city_stats[\"black_friday\"] = city_stats.date.apply(lambda x: \"bf week \" + str(x.year))"
   ]
  },
  {
   "cell_type": "code",
   "execution_count": 300,
   "id": "4eb36c64-7969-471a-910b-76e2c03462cd",
   "metadata": {},
   "outputs": [],
   "source": [
    "group = city_stats.groupby(\"city\")[\"sum_raw_visit_counts\"]\n",
    "city_stats[\"raw_visit_counts_change\"] = group.transform(lambda x: x)/group.transform(max)\n"
   ]
  },
  {
   "cell_type": "code",
   "execution_count": 301,
   "id": "8653f2ee-0534-490f-a049-1e197f4973fb",
   "metadata": {},
   "outputs": [],
   "source": [
    "import seaborn as sns, matplotlib.pyplot as plt"
   ]
  },
  {
   "cell_type": "code",
   "execution_count": 302,
   "id": "bafa741f-83e0-4507-ad7f-755967fc34c9",
   "metadata": {},
   "outputs": [],
   "source": [
    "city_palette = {\n",
    "    \"chicago\": \"#855C75\",\n",
    "    \"los_angeles\" : \"#D9AF6B\",\n",
    "    \"buffalo\" : \"#AF6458\",\n",
    "    \"raleigh\" : \"#736F4C\"\n",
    "}"
   ]
  },
  {
   "cell_type": "code",
   "execution_count": 309,
   "id": "9287826d-24c6-471d-96d0-961b44021c1e",
   "metadata": {},
   "outputs": [],
   "source": [
    "variables = {\n",
    "    \"sum_raw_visit_counts\" : {\"title\" : \"Total Visitors Measured in Hotpot Areas during Black Friday week\",\n",
    "                              \"yscale\" : \"log\",\n",
    "                              \"ylabel\" : \"Sum of raw visit counts (Log scale)\",\n",
    "                             },\n",
    "    \"avg_distance_from_home\" : {\"title\" : \"Average Distance From Home in Hotpot Areas during Black Friday week\",\n",
    "                                \"ylabel\" : \"Average Distance From Home (meters)\",\n",
    "                               },\n",
    "    \"avg_median_dwell\" : {\"title\" : \"Average Dwell Time in Hotpot Areas during Black Friday week\",\n",
    "                         \"ylabel\" : \"Average Dwell Time (minutes)\"}\n",
    "}"
   ]
  },
  {
   "cell_type": "code",
   "execution_count": 323,
   "id": "77de03e9-e0de-4581-ac77-4282dcb75e8f",
   "metadata": {},
   "outputs": [
    {
     "data": {
      "image/png": "[encoded data removed]",
      "text/plain": [
       "<Figure size 936x576 with 1 Axes>"
      ]
     },
     "metadata": {},
     "output_type": "display_data"
    }
   ],
   "source": [
    "sns.set(style=\"whitegrid\")\n",
    "compare_variable = \"avg_median_dwell\" #sum_raw_visit_counts avg_distance_from_home avg_median_dwell, raw_visit_counts_change\n",
    "fig, ax = plt.subplots(figsize = (13,8))\n",
    "sns.lineplot(data = city_stats, x = \"black_friday\", y = compare_variable, hue = \"city\", palette = city_palette, ax = ax)\n",
    "v = variables.get(compare_variable)\n",
    "ax.legend(loc='upper center', labels = title_cities.values())\n",
    "ax.set(**v, xlabel = None)\n",
    "ax.set_title(v[\"title\"], size = 20)\n",
    "\n",
    "if compare_variable in [\"sum_raw_visit_counts\"]:\n",
    "    for i, year in enumerate(city_stats.black_friday.unique()):\n",
    "        y_ticks = city_stats[city_stats.black_friday == year][compare_variable].round(-3)\n",
    "        for y in y_ticks:\n",
    "            ax.annotate(str(y)[:-3] + \"k\", (i,y*1.05), xycoords = \"data\")\n",
    "fig.savefig(f\"{compare_variable}.png\", dpi = 300)"
   ]
  }
 ],
 "metadata": {
  "kernelspec": {
   "display_name": "etl",
   "language": "python",
   "name": "etl"
  },
  "language_info": {
   "codemirror_mode": {
    "name": "ipython",
    "version": 3
   },
   "file_extension": ".py",
   "mimetype": "text/x-python",
   "name": "python",
   "nbconvert_exporter": "python",
   "pygments_lexer": "ipython3",
   "version": "3.8.2"
  }
 },
 "nbformat": 4,
 "nbformat_minor": 5
}
