{
 "cells": [
  {
   "cell_type": "code",
   "execution_count": 1,
   "id": "86d35641-fa7b-4560-af9a-3171442b5c22",
   "metadata": {},
   "outputs": [],
   "source": [
    "import doutils\n",
    "doutils.nb.megaimport(globals())\n",
    "%load_ext autoreload\n",
    "%autoreload 2"
   ]
  },
  {
   "cell_type": "code",
   "execution_count": 2,
   "id": "31d256fc-1ca8-46e5-9ebc-2ac95fb7875b",
   "metadata": {},
   "outputs": [],
   "source": [
    "patterns = \"carto-do.safegraph.humanmobility_patterns_usa_latlon_v3_daily_v3\"\n",
    "geography = \"carto-do.safegraph.geography_usa_latlon_v3\"\n",
    "\n",
    "bq_client = get_bq_client()"
   ]
  },
  {
   "cell_type": "code",
   "execution_count": 3,
   "id": "5dba01c3-e1c3-4020-b0be-715cce0a0242",
   "metadata": {},
   "outputs": [],
   "source": [
    "from shapely.geometry import box, Polygon\n",
    "import h3\n",
    "from cartoframes.viz import Map, Layer, size_bins_style, color_bins_style, color_continuous_style, basic_style\n",
    "\n",
    "from sf_utils import *"
   ]
  },
  {
   "cell_type": "code",
   "execution_count": 5,
   "id": "543fda7d-28bb-40ca-b3e7-1b03c5370567",
   "metadata": {},
   "outputs": [],
   "source": [
    "bboxes = {\n",
    "    \"chicago\" : (-87.9574,41.661,-87.5412,42.04),\n",
    "    \"los_angeles\" : (-118.507,33.66,-117.78, 34.148),\n",
    "    \"buffalo\" : (-78.985778,42.723637,-78.67013,43.008951),\n",
    "    \"raleigh\" : (-78.722225,35.715583,-78.558165,35.849233),\n",
    "}"
   ]
  },
  {
   "cell_type": "code",
   "execution_count": 4,
   "id": "c3fc71e8-b2b4-4211-8453-c272fd4c712d",
   "metadata": {},
   "outputs": [
    {
     "name": "stdout",
     "output_type": "stream",
     "text": [
      "chicago 0.15773980000000037\n",
      "los_angeles 0.3547760000000067\n",
      "buffalo 0.09005879347200096\n",
      "raleigh 0.02192661899999826\n"
     ]
    }
   ],
   "source": [
    "for k,v in bboxes.items():\n",
    "    print(k, box(*v).area)"
   ]
  },
  {
   "cell_type": "code",
   "execution_count": null,
   "id": "afd6432b-fbe9-4af4-a789-ff00d68735c8",
   "metadata": {},
   "outputs": [],
   "source": [
    "jobs = {}\n",
    "for city, bbox in bboxes.items():\n",
    "    q = f\"\"\"\n",
    "        CREATE OR REPLACE TABLE `cartodb-on-gcp-datascience.juanluis.safegraph_blackfriday_weekly_patterns_{city}` AS \n",
    "            WITH categories as (\n",
    "                SELECT geoid, top_category, sub_category, latitude, longitude\n",
    "                FROM `carto-do.safegraph.pointsofinterest_coreplaces_usa_latlon_v3_daily_v2` \n",
    "            )\n",
    "\n",
    "            SELECT * except(geoid),\n",
    "                `bqcarto`.h3.LONGLAT_ASH3(longitude, latitude, 7) as h3_z7,  \n",
    "                `bqcarto`.h3.LONGLAT_ASH3(longitude, latitude, 8) as h3_z8,\n",
    "                `bqcarto`.h3.LONGLAT_ASH3(longitude, latitude, 9) as h3_z9,\n",
    "                `bqcarto`.quadkey.LONGLAT_ASQUADINT(longitude, latitude, 15) as qk_z15,\n",
    "                `bqcarto`.quadkey.LONGLAT_ASQUADINT(longitude, latitude, 17) as qk_z17,\n",
    "                `bqcarto`.quadkey.LONGLAT_ASQUADINT(longitude, latitude, 18) as qk_z18,\n",
    "            FROM `cartodb-on-gcp-datascience.juanluis.safegraph_patterns` d\n",
    "            JOIN categories\n",
    "            ON  d.placekey = categories.geoid\n",
    "            WHERE ST_INTERSECTSBOX(ST_GEOGPOINT(longitude, latitude), {str(bbox)[1: - 1]})\n",
    "        \"\"\"\n",
    "    job = bq_client.query(q)\n",
    "    jobs[city] = job\n",
    "\n",
    "for city, job in jobs.items():\n",
    "    try:\n",
    "        job.result()\n",
    "        print(f\"Job for {city} succeeded\")\n",
    "    except Exception as e:\n",
    "        print(f\"Job for {city} failed\", e)"
   ]
  },
  {
   "cell_type": "code",
   "execution_count": null,
   "id": "249890e2-e5cb-4345-a53c-5b244ee2242d",
   "metadata": {},
   "outputs": [],
   "source": [
    "jobs = {}\n",
    "for city, bbox in bboxes.items():\n",
    "    q = f\"\"\"\n",
    "        CREATE OR REPLACE TABLE `cartodb-on-gcp-datascience.juanluis.safegraph_blackfriday_{city}` AS \n",
    "            WITH categories as (\n",
    "                SELECT geoid, top_category, sub_category\n",
    "                FROM `carto-do.safegraph.pointsofinterest_coreplaces_usa_latlon_v3_daily_v2` \n",
    "            )\n",
    "\n",
    "            SELECT * except(geoid),\n",
    "                bqcarto.h3.LONGLAT_ASH3(longitude, latitude, 7) as h3_z7,  \n",
    "                bqcarto.h3.LONGLAT_ASH3(longitude, latitude, 8) as h3_z8,\n",
    "                bqcarto.h3.LONGLAT_ASH3(longitude, latitude, 9) as h3_z9,\n",
    "                bqcarto.quadkey.LONGLAT_ASQUADINT(longitude, latitude, 15) as qk_z15,\n",
    "                bqcarto.quadkey.LONGLAT_ASQUADINT(longitude, latitude, 17) as qk_z17,\n",
    "                bqcarto.quadkey.LONGLAT_ASQUADINT(longitude, latitude, 18) as qk_z18,\n",
    "            FROM `carto-do.safegraph.humanmobility_patterns_usa_latlon_v3_daily_v3` d\n",
    "            JOIN categories\n",
    "            ON  d.geoid = categories.geoid\n",
    "            JOIN `carto-do.safegraph.geography_usa_latlon_v3` g\n",
    "            ON g.geoid = d.geoid\n",
    "            WHERE ST_INTERSECTSBOX(ST_GEOGPOINT(longitude, latitude), {str(bbox)[1: - 1]})\n",
    "        \"\"\"\n",
    "    job = bq_client.query(q)\n",
    "    jobs[city] = job\n",
    "\n",
    "for city, job in jobs.items():\n",
    "    try:\n",
    "        job.result()\n",
    "        print(f\"Job for {city} succeeded\")\n",
    "    except Exception as e:\n",
    "        print(f\"Job for {city} failed\", e)"
   ]
  },
  {
   "cell_type": "markdown",
   "id": "0e92d098-5af1-4287-9fd2-9d1d2c50fef9",
   "metadata": {},
   "source": [
    "### Upload weekly patterns to BigQuery"
   ]
  },
  {
   "cell_type": "code",
   "execution_count": 630,
   "id": "be28c01a-62e4-4186-8c01-946bb96c2bb0",
   "metadata": {},
   "outputs": [],
   "source": [
    "blobs = list_blobs(\"gs://carto-safegraph/carto/weekly_sample/patterns\", \"uris\")"
   ]
  },
  {
   "cell_type": "code",
   "execution_count": 636,
   "id": "e2c04870-4616-4dbb-a939-7eda15a40eca",
   "metadata": {},
   "outputs": [],
   "source": [
    "SCHEMA = {'placekey': 'STRING',\n",
    "          'parent_placekey': 'STRING',\n",
    "          'location_name': 'STRING',\n",
    "          'street_address': 'STRING',\n",
    "          'city': 'STRING',\n",
    "          'region': 'STRING',\n",
    "          'postal_code': 'INTEGER',\n",
    "          'iso_country_code': 'STRING',\n",
    "          'safegraph_brand_ids': 'STRING',\n",
    "          'brands': 'STRING',\n",
    "          'date_range_start': 'TIMESTAMP',\n",
    "          'date_range_end': 'TIMESTAMP',\n",
    "          'raw_visit_counts': 'INTEGER',\n",
    "          'raw_visitor_counts': 'INTEGER',\n",
    "          'visits_by_day': 'STRING',\n",
    "          'visits_by_each_hour' : 'STRING',\n",
    "          'poi_cbg': 'STRING',\n",
    "          'visitor_home_cbgs': 'STRING',\n",
    "          'visitor_home_aggregation': 'STRING',\n",
    "          'visitor_daytime_cbgs': 'STRING',\n",
    "          'visitor_country_of_origin': 'STRING',\n",
    "          'distance_from_home': 'INTEGER',\n",
    "          'median_dwell': 'FLOAT',\n",
    "          'bucketed_dwell_times': 'STRING',\n",
    "          'related_same_day_brand': 'STRING',\n",
    "          'device_type': 'STRING',\n",
    "          'tcarrier_name' : 'STRING'\n",
    "            }"
   ]
  },
  {
   "cell_type": "code",
   "execution_count": 637,
   "id": "36a0a796-9d0e-4ace-acc8-8defa8bc1bb8",
   "metadata": {},
   "outputs": [],
   "source": [
    "schema = [ {\"name\" : k, \"type\" : v} for k,v in SCHEMA.items()\n",
    "    \n",
    "]"
   ]
  },
  {
   "cell_type": "code",
   "execution_count": 638,
   "id": "151a6e97-0bf3-4a4c-86d6-82cc260b8e90",
   "metadata": {},
   "outputs": [],
   "source": [
    "job_config = get_jobconfig_brute(other_params={\"schema\" : schema})"
   ]
  },
  {
   "cell_type": "code",
   "execution_count": 639,
   "id": "4d186f51-eafc-434f-9468-c15499490a4e",
   "metadata": {},
   "outputs": [],
   "source": [
    "bq_client = get_bq_client(gcloud_project=\"cartodb-on-gcp-datascience\")"
   ]
  },
  {
   "cell_type": "code",
   "execution_count": null,
   "id": "ca51c2ea-d0b1-48b1-b66f-4723afe78631",
   "metadata": {},
   "outputs": [],
   "source": [
    "job = load_blobs_to_bq_job(\n",
    "    \"cartodb-on-gcp-datascience.juanluis.safegraph_patterns\",\n",
    "    blobs,\n",
    "    job_config_dict = job_config,\n",
    "    bq_client = bq_client\n",
    ")"
   ]
  }
 ],
 "metadata": {
  "kernelspec": {
   "display_name": "etl",
   "language": "python",
   "name": "etl"
  },
  "language_info": {
   "codemirror_mode": {
    "name": "ipython",
    "version": 3
   },
   "file_extension": ".py",
   "mimetype": "text/x-python",
   "name": "python",
   "nbconvert_exporter": "python",
   "pygments_lexer": "ipython3",
   "version": "3.8.2"
  }
 },
 "nbformat": 4,
 "nbformat_minor": 5
}
