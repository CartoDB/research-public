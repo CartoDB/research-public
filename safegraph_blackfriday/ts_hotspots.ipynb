{
 "cells": [
  {
   "cell_type": "code",
   "execution_count": 1,
   "id": "db6c1cf9-7979-40db-9442-ab718e2cb6fa",
   "metadata": {
    "tags": []
   },
   "outputs": [],
   "source": [
    "import doutils\n",
    "doutils.nb.megaimport(globals())\n",
    "%load_ext autoreload\n",
    "%autoreload 2\n",
    "\n",
    "from shapely.geometry import box, Polygon\n",
    "import h3\n",
    "from cartoframes.viz import Map, Layer, size_bins_style, color_bins_style, color_continuous_style, basic_style\n",
    "\n",
    "from sf_utils import *"
   ]
  },
  {
   "cell_type": "code",
   "execution_count": 2,
   "id": "c7a2df01-53e5-4bd7-b93d-9ece20d47a40",
   "metadata": {
    "tags": []
   },
   "outputs": [],
   "source": [
    "import json\n",
    "from matplotlib import pyplot as plt\n",
    "import seaborn as sns"
   ]
  },
  {
   "cell_type": "code",
   "execution_count": 3,
   "id": "1b17b3ac-5e2c-4030-a284-ff1e8107143f",
   "metadata": {},
   "outputs": [],
   "source": [
    "with open(\"hotspots_h3_z7.json\", \"r\") as fp:\n",
    "    hotspots_h3_z7 = json.load(fp)"
   ]
  },
  {
   "cell_type": "code",
   "execution_count": 4,
   "id": "11dbde9a-2582-428e-b77d-a1f4e53c646a",
   "metadata": {},
   "outputs": [],
   "source": [
    "bq_client = get_bq_client()"
   ]
  },
  {
   "cell_type": "code",
   "execution_count": 5,
   "id": "0c4c15d0-f5e3-478c-85e8-2c1713bcab90",
   "metadata": {},
   "outputs": [],
   "source": [
    "cities = [\"buffalo\", \"raleigh\", \"los_angeles\", \"chicago\"]"
   ]
  },
  {
   "cell_type": "code",
   "execution_count": 36,
   "id": "21c92458-22e5-43c2-a19a-e1352f0fc490",
   "metadata": {},
   "outputs": [],
   "source": [
    "def plot_time_series_2_years(city):\n",
    "    ts_daily = ts_daily_dict[city]\n",
    "    ts_daily = ts_daily.rename(columns = rename_columns)\n",
    "    ts_daily_bf_2019 = ts_daily.loc[bf_2019 - 7 : bf_2019 + 7]\n",
    "    ts_daily_bf_2020 = ts_daily.loc[bf_2020 - 7 : bf_2020 + 7]\n",
    "    \n",
    "    cat_palette = {}\n",
    "    for i, c in zip(ts_daily.columns, colors):\n",
    "        cat_palette[i] = c\n",
    "    fig, ax = plt.subplots(nrows=2, figsize=(20,14))\n",
    "    ax[0].axvline(bf_2019, 0,1, color = \"black\")\n",
    "    ax[1].axvline(bf_2020, 0,1, color = \"black\")\n",
    "    ax[0].set_title(f\"Total daily visits in hotspot locations per category during Black Friday weeks - {title_cities.get(city)}\", size = 20)\n",
    "    ax[0].set(xlabel = \"Black Friday 2019\", ylabel = \"Total daily visits\")\n",
    "    ax[1].set(xlabel = \"Black Friday 2020\", ylabel = \"Total daily visits\")\n",
    "    sns.lineplot(data = ts_daily_bf_2019, palette = cat_palette, dashes = False, ax = ax[0])\n",
    "    sns.lineplot(data = ts_daily_bf_2020, palette = cat_palette, dashes = False, ax = ax[1], legend = False)\n",
    "    ax[0].legend(loc='upper right')\n",
    "    return fig"
   ]
  },
  {
   "cell_type": "code",
   "execution_count": 31,
   "id": "846d2d05-9722-4e66-b8ab-a17a6253f242",
   "metadata": {},
   "outputs": [],
   "source": [
    "def plot_time_series(city, year):\n",
    "    ts_daily = ts_daily_dict[city]\n",
    "    ts_daily_bf_2019 = ts_daily.loc[bf_2019 - 7 : bf_2019 + 7]\n",
    "    ts_daily_bf_2020 = ts_daily.loc[bf_2020 - 7 : bf_2020 + 7]\n",
    "    if year == 2019:\n",
    "        ts_daily_bf, bf_date = (ts_daily_bf_2019, bf_2019)\n",
    "    elif year == 2020:\n",
    "        ts_daily_bf, bf_date = (ts_daily_bf_2020, bf_2020)\n",
    "    fig, ax = plt.subplots(figsize=(20,8))\n",
    "    plt.axvline(bf_date, 0,1, color = \"black\")\n",
    "    return sns.lineplot(data = ts_daily_bf, palette = cat_palette, dashes = False)"
   ]
  },
  {
   "cell_type": "code",
   "execution_count": 55,
   "id": "371f7f8a-992c-440e-a7fe-e322b20d27c2",
   "metadata": {},
   "outputs": [],
   "source": [
    "rename_columns = {\n",
    "    'General Merchandise Stores, including Warehouse Clubs and Supercenters' : \"Supercenters\",\n",
    "    'Sporting Goods, Hobby, and Musical Instrument Stores': 'Sport, Hobby and Instrument Stores',\n",
    "}\n",
    "colors = \"#855C75,#D9AF6B,#AF6458,#736F4C,#526A83,#625377,#68855C,#9C9C5E,#A06177,#8C785D,#467378,#7C7C7C\".split(\",\")\n",
    "colors = \"#5F4690,#1D6996,#38A6A5,#0F8554,#73AF48,#EDAD08,#E17C05,#CC503E,#94346E,#6F4070,#994E95,#666666\".split(\",\")"
   ]
  },
  {
   "cell_type": "code",
   "execution_count": 15,
   "id": "37465456-325d-4b37-b146-10d70bfe6653",
   "metadata": {},
   "outputs": [
    {
     "name": "stderr",
     "output_type": "stream",
     "text": [
      "100%|██████████| 3/3 [12:14<00:00, 244.92s/it]\n"
     ]
    }
   ],
   "source": [
    "for city in tqdm(cities):\n",
    "    q_hotspots = f\"\"\"\n",
    "    SELECT {\", \".join(cols)}\n",
    "    FROM `cartodb-on-gcp-datascience.juanluis.safegraph_blackfriday_{city}`\n",
    "    WHERE raw_visit_counts is not null and top_category IN {tuple(chosen_categories)}\n",
    "    AND h3_z7 IN {tuple(hotspots_h3_z7.get(city))}\n",
    "    \"\"\"\n",
    "    df = bq_client.query(q_hotspots).result().to_dataframe()\n",
    "    #df.to_csv(f\"hotspots/hotspots_{city}.csv\")\n",
    "    del df"
   ]
  },
  {
   "cell_type": "code",
   "execution_count": 8,
   "id": "6e9f569c-c161-427d-9bf5-b9e3f2684a78",
   "metadata": {},
   "outputs": [
    {
     "name": "stderr",
     "output_type": "stream",
     "text": [
      "100%|██████████| 4/4 [12:51<00:00, 192.91s/it]\n"
     ]
    }
   ],
   "source": [
    "ts_daily_dict = {}\n",
    "for city in tqdm(cities):\n",
    "    df = pd.read_csv(f\"hotspots/hotspots_{city}.csv\",parse_dates=['date_range_start', 'date_range_end'],index_col=0)\n",
    "    ts_daily = explode_daily_counts(df)\n",
    "    ts_daily_dict[city] = ts_daily\n",
    "    ts_daily.to_csv(f\"ts/ts_daily_hotspots_{city}.csv\")\n",
    "    del df"
   ]
  },
  {
   "cell_type": "code",
   "execution_count": null,
   "id": "b23f11ca-d7dd-4138-a4b8-1835823da9ac",
   "metadata": {},
   "outputs": [],
   "source": [
    "for city in cities:\n",
    "    fig = plot_time_series_2_years(city)\n",
    "    fig.savefig(f\"visits_in_hotspots_{city}.png\", dpi = 300)"
   ]
  },
  {
   "cell_type": "code",
   "execution_count": 40,
   "id": "344af5ec-f441-4123-8104-67f7d38c0628",
   "metadata": {},
   "outputs": [],
   "source": [
    "ts_daily = ts_daily_dict[\"chicago\"]"
   ]
  },
  {
   "cell_type": "code",
   "execution_count": 43,
   "id": "1cb112cf-3ca1-4a3f-946c-7925606e9215",
   "metadata": {},
   "outputs": [],
   "source": [
    "cat_palette = {}\n",
    "for i, c in zip(ts_daily.columns, colors):\n",
    "    cat_palette[i] = c"
   ]
  },
  {
   "cell_type": "code",
   "execution_count": null,
   "id": "686b0c38-5786-48da-9f85-2b1291a5caff",
   "metadata": {},
   "outputs": [],
   "source": [
    "for city, ts_daily in ts_daily_dict.items():\n",
    "    ma7 = ts_daily.rolling(7).mean()\n",
    "    ma7_filtered = ma7[(ma7.index > \"2019-05-10\") & (ma7.index < \"2020-12-20\")] #\"2020-05-01\"\n",
    "    fig, ax = plt.subplots(figsize=(20,8))\n",
    "    plt.axvline(bf_2019, 0,1, color = \"black\")\n",
    "    plt.axvline(bf_2020, 0,1, color = \"black\")\n",
    "    sns.lineplot(data = ma7_filtered, dashes = False, palette=cat_palette)\n",
    "    ax.legend(loc='upper right')\n",
    "    ax.set_title(f\"Total visits counts per category 2019 - 2020 - {title_cities.get(city)}\")\n",
    "    #sns.lineplot(data = ma7_filtered/ma7_filtered.quantile(0.9), dashes = False)\n",
    "    fig.savefig(f\"visits_in_hotspots_2019-2020_{city}.png\", dpi = 300)"
   ]
  }
 ],
 "metadata": {
  "kernelspec": {
   "display_name": "etl",
   "language": "python",
   "name": "etl"
  },
  "language_info": {
   "codemirror_mode": {
    "name": "ipython",
    "version": 3
   },
   "file_extension": ".py",
   "mimetype": "text/x-python",
   "name": "python",
   "nbconvert_exporter": "python",
   "pygments_lexer": "ipython3",
   "version": "3.8.2"
  }
 },
 "nbformat": 4,
 "nbformat_minor": 5
}
