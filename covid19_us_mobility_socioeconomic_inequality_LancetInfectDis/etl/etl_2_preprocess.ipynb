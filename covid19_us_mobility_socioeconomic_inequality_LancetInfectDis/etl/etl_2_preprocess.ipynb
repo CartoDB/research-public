{
 "cells": [
  {
   "cell_type": "code",
   "execution_count": null,
   "metadata": {
    "scrolled": true
   },
   "outputs": [],
   "source": [
    "%cd ../\n",
    "\n",
    "from src.requirements import *\n",
    "from src.ppca import PPCA\n",
    "from src.utils import *\n",
    "%matplotlib inline\n",
    "\n",
    "## ******************************************************************************************************************************\n",
    "## OPEN CONFIG FILE\n",
    "## ******************************************************************************************************************************\n",
    "\n",
    "with open('configFile.json') as json_data_file:\n",
    "    configFile = json.load(json_data_file)\n",
    "\n",
    "## ******************************************************************************************************************************\n",
    "## SET BIG QUERY CREDENTIALS\n",
    "## ******************************************************************************************************************************\n",
    "\n",
    "SERVICE_ACCOUNT_FILE = configFile['config']['BQ_key_file']\n",
    "client_bq = bigquery.Client.from_service_account_json(SERVICE_ACCOUNT_FILE)\n",
    "bq_dataset_id = configFile['config']['bq_dataset']\n",
    "bq_dataset_ref = client_bq.dataset(bq_dataset_id)\n",
    "\n",
    "## ******************************************************************************************************************************\n",
    "## CARTO\n",
    "## ******************************************************************************************************************************\n",
    "\n",
    "carto_username = configFile['config']['CARTO']['username']\n",
    "carto_API = configFile['config']['CARTO']['API_key']\n",
    "\n",
    "creds = Credentials(carto_username, carto_API)\n",
    "set_default_credentials(creds)\n",
    "\n",
    "%cd etl/"
   ]
  },
  {
   "cell_type": "markdown",
   "metadata": {},
   "source": [
    "## Select phase: lockdown or recovery"
   ]
  },
  {
   "cell_type": "code",
   "execution_count": null,
   "metadata": {},
   "outputs": [],
   "source": [
    "date_min = '2020-02-20'\n",
    "date_max = '2020-04-13'\n",
    "phase = 'lockdown'\n",
    "\n",
    "#date_min = '2020-04-13'\n",
    "#date_max = '2020-07-17'\n",
    "#phase = 'recovery'\n",
    "\n",
    "idsel = 'idxmax'\n",
    "pc_var_thr = 0.55 # % of retained variance in the Census variables \n",
    "\n",
    "filename = 'mobility_google_county_{}'.format(phase)"
   ]
  },
  {
   "cell_type": "markdown",
   "metadata": {},
   "source": [
    "## Pre-process  Google mobility data"
   ]
  },
  {
   "cell_type": "code",
   "execution_count": null,
   "metadata": {},
   "outputs": [],
   "source": [
    "table_name = '{}.{}.epi_mobility_census_county_full'.format(project,bq_dataset_id)\n",
    "\n",
    "q = \"\"\"SELECT * \n",
    "        FROM  `{}`\n",
    "\"\"\".format(table_name)\n",
    "df = client_bq.query(q).to_dataframe()"
   ]
  },
  {
   "cell_type": "markdown",
   "metadata": {},
   "source": [
    "### Select only counties with a full series"
   ]
  },
  {
   "cell_type": "code",
   "execution_count": null,
   "metadata": {},
   "outputs": [],
   "source": [
    "df['geoid_cnt'] = df.groupby('geoid')['geoid'].transform('count')\n",
    "cnt = df['geoid_cnt'].max()\n",
    "df = df[df.geoid_cnt==cnt]"
   ]
  },
  {
   "cell_type": "markdown",
   "metadata": {},
   "source": [
    "### Interpolate missing data if the gap length is less than 3 days"
   ]
  },
  {
   "cell_type": "code",
   "execution_count": null,
   "metadata": {},
   "outputs": [],
   "source": [
    "df.sort_values(['geoid','date'], inplace = True)\n",
    "df['workplaces_percent_change_from_baseline_interp'] = df[['geoid','workplaces_percent_change_from_baseline']].groupby('geoid').transform(lambda x: x.interpolate(method='linear', order = 3, \n",
    "                                                                                                                                                               limit = 3, \n",
    "                                                                                                                                                               limit_direction='both',\n",
    "                                                                                                                                                               limit_area=None))"
   ]
  },
  {
   "cell_type": "markdown",
   "metadata": {},
   "source": [
    "### Ignore counties with gaps larger than 3 days"
   ]
  },
  {
   "cell_type": "code",
   "execution_count": null,
   "metadata": {},
   "outputs": [],
   "source": [
    "df['workplaces_percent_change_from_baseline_interp_na'] = df.groupby('geoid')['workplaces_percent_change_from_baseline_interp'].transform(lambda x: x.isnull().any())\n",
    "df = df[df.workplaces_percent_change_from_baseline_interp_na==False]"
   ]
  },
  {
   "cell_type": "markdown",
   "metadata": {},
   "source": [
    "### Compute 7-days running mean"
   ]
  },
  {
   "cell_type": "code",
   "execution_count": null,
   "metadata": {},
   "outputs": [],
   "source": [
    "df['workplaces_percent_change_from_baseline_interp_ma'] = df.groupby('geoid')['workplaces_percent_change_from_baseline_interp'].transform(lambda x: x.rolling(7, 1).mean())\n",
    "df = df[(df.date >= '2020-02-20')]\n",
    "df.date = df.date.apply(lambda x : pd.Timestamp(x))"
   ]
  },
  {
   "cell_type": "markdown",
   "metadata": {},
   "source": [
    "### Plot a random sample of 100 counties and the US median "
   ]
  },
  {
   "cell_type": "code",
   "execution_count": null,
   "metadata": {},
   "outputs": [],
   "source": [
    "df_median = df[['date','workplaces_percent_change_from_baseline_interp_ma']].groupby(['date']).apply(np.median)\n",
    "\n",
    "## Get the date that the % change in mobility reaches the minumum\n",
    "date_drop = str(df_median.idxmin())\n",
    "    \n",
    "df_median = df_median.reset_index()\n",
    "df_median.columns = ['date','workplaces_percent_change_from_baseline_interp_ma']\n",
    "df_median.date = df_median.date.apply(lambda x : pd.Timestamp(x))"
   ]
  },
  {
   "cell_type": "code",
   "execution_count": null,
   "metadata": {},
   "outputs": [],
   "source": [
    "df_sample = df[df.geoid.isin(df.geoid.sample(n=100))]\n",
    "\n",
    "fig = plt.figure(figsize=(25,12.5))\n",
    "ax = fig.add_subplot(111)\n",
    "\n",
    "df_sample.groupby('geoid').plot(x=\"date\", y=\"workplaces_percent_change_from_baseline_interp\", \n",
    "                  color = 'darkblue', \n",
    "                  alpha = 0.1,\n",
    "                  legend = False, rot = 45, ax = ax)\n",
    "\n",
    "df_sample.groupby('geoid').plot(x=\"date\", y=\"workplaces_percent_change_from_baseline_interp_ma\", \n",
    "                  color = 'orange', \n",
    "                  linewidth = 2,                         \n",
    "                  alpha = 0.3,\n",
    "                  legend = False, rot = 45,ax = ax)\n",
    "\n",
    "df_median.plot(x=\"date\", y=\"workplaces_percent_change_from_baseline_interp_ma\", \n",
    "                  color = 'red', \n",
    "                  linewidth = 5,                         \n",
    "                  alpha = 1,\n",
    "                  legend = False, rot = 45,ax = ax)\n",
    "\n",
    "ax.set_xlabel(\"\",fontsize=15)\n",
    "ax.set_ylabel(\"\",fontsize=25)\n",
    "ax.set_title(\"% change from baseline in workplaces mobility\",fontsize=25)\n",
    "ax.axhline(y=0.00,c=\"black\",linewidth=2,zorder=0)\n",
    "ax.axvline(x=pd.Timestamp('2020-03-13'),c=\"black\",linewidth=2,linestyle = '--')\n",
    "ax.axvline(x=pd.Timestamp('2020-05-25'),c=\"black\",linewidth=2,linestyle = '--')\n",
    "ax.axvline(x=pd.Timestamp('2020-07-04'),c=\"black\",linewidth=2,linestyle = '--')\n",
    "ax.set_ylim(-60, 10)\n",
    "ax.xaxis.set_major_locator(mdates.WeekdayLocator())\n",
    "ax.xaxis.set_major_formatter(mdates.DateFormatter('%b %d'))\n",
    "ax.tick_params(axis='both', which='minor', pad = 10, size = 0, labelsize=1)\n",
    "ax.tick_params(axis='both', which='major', pad = 10, size = 20, labelsize=25)\n",
    "ax.tick_params(axis = 'x', labelsize = 25)\n",
    "\n",
    "colors = ['darkblue', 'orange','red','coral','coral']\n",
    "linestyles =  ['-', '-', '-', ':','--']\n",
    "lines = [Line2D([0], [0], color=c, linewidth=3, linestyle = s) for c,s in zip(colors, linestyles)]\n",
    "labels = ['daily', \n",
    "          'daily, 7-days running mean',\n",
    "          'daily, 7-days running mean (US median)']\n",
    "plt.legend(lines, labels, fontsize = 25,frameon=False)\n",
    "\n",
    "plt.suptitle(\"Change in mobility by County, source: Google\", fontsize=30)\n",
    "fig.tight_layout(rect=[0, 0.03, 1, 0.95])\n",
    "fig.savefig('../plots/mobility_county.pdf')"
   ]
  },
  {
   "cell_type": "markdown",
   "metadata": {},
   "source": [
    "### Plot the median by median household income percentile group"
   ]
  },
  {
   "cell_type": "code",
   "execution_count": null,
   "metadata": {},
   "outputs": [],
   "source": [
    "df_q1 = df[df.INCCYMEDHH < df.INCCYMEDHH.quantile(.20)]\n",
    "df_q2 = df[(df.INCCYMEDHH >= df.INCCYMEDHH.quantile(.20)) & (df.INCCYMEDHH < df.INCCYMEDHH.quantile(.40))]\n",
    "df_q3 = df[(df.INCCYMEDHH >= df.INCCYMEDHH.quantile(.40)) & (df.INCCYMEDHH < df.INCCYMEDHH.quantile(.60))]\n",
    "df_q4 = df[(df.INCCYMEDHH >= df.INCCYMEDHH.quantile(.60)) & (df.INCCYMEDHH < df.INCCYMEDHH.quantile(.80))]\n",
    "df_q5 = df[df.INCCYMEDHH >= df.INCCYMEDHH.quantile(.80)]\n",
    "\n",
    "df_q1 = df_q1[['date','workplaces_percent_change_from_baseline_interp_ma']].groupby(['date']).apply(np.median)\n",
    "df_q2 = df_q2[['date','workplaces_percent_change_from_baseline_interp_ma']].groupby(['date']).apply(np.median)\n",
    "df_q3 = df_q3[['date','workplaces_percent_change_from_baseline_interp_ma']].groupby(['date']).apply(np.median)\n",
    "df_q4 = df_q4[['date','workplaces_percent_change_from_baseline_interp_ma']].groupby(['date']).apply(np.median)\n",
    "df_q5 = df_q5[['date','workplaces_percent_change_from_baseline_interp_ma']].groupby(['date']).apply(np.median)\n",
    "\n",
    "df_q1 = df_q1.reset_index()\n",
    "df_q1.columns = ['date','workplaces_percent_change_from_baseline_interp_ma']\n",
    "df_q1.date = df_q1.date.apply(lambda x : pd.Timestamp(x))\n",
    "\n",
    "df_q2 = df_q2.reset_index()\n",
    "df_q2.columns = ['date','workplaces_percent_change_from_baseline_interp_ma']\n",
    "df_q2.date = df_q2.date.apply(lambda x : pd.Timestamp(x))\n",
    "\n",
    "df_q3 = df_q3.reset_index()\n",
    "df_q3.columns = ['date','workplaces_percent_change_from_baseline_interp_ma']\n",
    "df_q3.date = df_q3.date.apply(lambda x : pd.Timestamp(x))\n",
    "\n",
    "df_q4 = df_q4.reset_index()\n",
    "df_q4.columns = ['date','workplaces_percent_change_from_baseline_interp_ma']\n",
    "df_q4.date = df_q4.date.apply(lambda x : pd.Timestamp(x))\n",
    "\n",
    "df_q5 = df_q5.reset_index()\n",
    "df_q5.columns = ['date','workplaces_percent_change_from_baseline_interp_ma']\n",
    "df_q5.date = df_q5.date.apply(lambda x : pd.Timestamp(x))"
   ]
  },
  {
   "cell_type": "code",
   "execution_count": null,
   "metadata": {},
   "outputs": [],
   "source": [
    "df_sample = df[df.geoid.isin(df.geoid.sample(n=100))]\n",
    "\n",
    "fig = plt.figure(figsize=(25,12.5))\n",
    "ax = fig.add_subplot(111)\n",
    "\n",
    "df_q1.plot(x=\"date\", y=\"workplaces_percent_change_from_baseline_interp_ma\", \n",
    "                  color = 'darkblue', \n",
    "                  linewidth = 5,                         \n",
    "                  alpha = 1,\n",
    "                  linestyle = ':',\n",
    "                  legend = False, rot = 45,ax = ax)\n",
    "\n",
    "df_q2.plot(x=\"date\", y=\"workplaces_percent_change_from_baseline_interp_ma\", \n",
    "                  color = 'darkblue', \n",
    "                  linewidth = 5,                         \n",
    "                  alpha = 1,\n",
    "                  linestyle = '--',\n",
    "                  legend = False, rot = 45,ax = ax)\n",
    "\n",
    "df_q3.plot(x=\"date\", y=\"workplaces_percent_change_from_baseline_interp_ma\", \n",
    "                  color = 'red', \n",
    "                  linewidth = 5,                         \n",
    "                  alpha = 1,\n",
    "                  linestyle = '-',\n",
    "                  legend = False, rot = 45,ax = ax)\n",
    "\n",
    "df_q4.plot(x=\"date\", y=\"workplaces_percent_change_from_baseline_interp_ma\", \n",
    "                  color = 'coral', \n",
    "                  linewidth = 5,                         \n",
    "                  alpha = 1,\n",
    "                  linestyle = ':',\n",
    "                  legend = False, rot = 45,ax = ax)\n",
    "\n",
    "df_q5.plot(x=\"date\", y=\"workplaces_percent_change_from_baseline_interp_ma\", \n",
    "                  color = 'coral', \n",
    "                  linewidth = 5,                         \n",
    "                  alpha = 1,\n",
    "                  linestyle = '--',\n",
    "                  legend = False, rot = 45,ax = ax)\n",
    "\n",
    "\n",
    "ax.set_xlabel(\"\",fontsize=15)\n",
    "ax.set_ylabel(\"\",fontsize=25)\n",
    "ax.set_title(\"% change from baseline in workplaces mobility\",fontsize=25)\n",
    "ax.axhline(y=0.00,c=\"black\",linewidth=2,zorder=0)\n",
    "ax.axvline(x=pd.Timestamp('2020-03-13'),c=\"black\",linewidth=2,linestyle = '--')\n",
    "ax.axvline(x=pd.Timestamp('2020-05-25'),c=\"black\",linewidth=2,linestyle = '--')\n",
    "ax.axvline(x=pd.Timestamp('2020-07-04'),c=\"black\",linewidth=2,linestyle = '--')\n",
    "ax.set_ylim(-60, 10)\n",
    "ax.xaxis.set_major_locator(mdates.WeekdayLocator())\n",
    "ax.xaxis.set_major_formatter(mdates.DateFormatter('%b %d'))\n",
    "ax.tick_params(axis='both', which='minor', pad = 10, size = 0, labelsize=1)\n",
    "ax.tick_params(axis='both', which='major', pad = 10, size = 20, labelsize=25)\n",
    "ax.tick_params(axis = 'x', labelsize = 25)\n",
    "\n",
    "colors = ['darkblue', 'darkblue','red','coral','coral']\n",
    "linestyles =  [':','--', '-', ':','--']\n",
    "lines = [Line2D([0], [0], color=c, linewidth=3, linestyle = s) for c,s in zip(colors, linestyles)]\n",
    "labels = ['Counties with median household income < 20th quantile', \n",
    "          'Counties with median household income < 40th quantile and > 20th quantile',\n",
    "          'Counties with median household income < 60th quantile and > 40th',\n",
    "          'Counties with median household income < 80th quantile and > 60th',\n",
    "          'Counties with median household income > 80th quantile']\n",
    "plt.legend(lines, labels, fontsize = 25,frameon=False)\n",
    "\n",
    "plt.suptitle(\"Change in mobility by County, source: Google\", fontsize=30)\n",
    "fig.tight_layout(rect=[0, 0.03, 1, 0.95])\n",
    "fig.savefig('../plots/mobility_county_income.pdf')"
   ]
  },
  {
   "cell_type": "markdown",
   "metadata": {},
   "source": [
    "### Get the minumum and maximum % change in mobility before date_max"
   ]
  },
  {
   "cell_type": "code",
   "execution_count": null,
   "metadata": {},
   "outputs": [],
   "source": [
    "df['population'] = df.groupby('geoid')['population'].transform('last')\n",
    "df = df[(df.date >= date_min) & (df.date <= date_max)]\n",
    "df['workplaces_percent_change_from_baseline_interp_ma_min'] = df.groupby('geoid')['workplaces_percent_change_from_baseline_interp_ma'].transform('min')\n",
    "df['workplaces_percent_change_from_baseline_interp_ma_max'] = df.groupby('geoid')['workplaces_percent_change_from_baseline_interp_ma'].transform('max')\n",
    "df['workplaces_percent_change_from_baseline_interp_ma_diff_minmax'] = df['workplaces_percent_change_from_baseline_interp_ma_min'] - df['workplaces_percent_change_from_baseline_interp_ma_max']\n",
    "df['workplaces_percent_change_from_baseline_interp_ma_diff_maxmin'] = -df['workplaces_percent_change_from_baseline_interp_ma_diff_minmax']"
   ]
  },
  {
   "cell_type": "markdown",
   "metadata": {},
   "source": [
    "### Get the cumulative number of cases and deaths by county"
   ]
  },
  {
   "cell_type": "code",
   "execution_count": null,
   "metadata": {},
   "outputs": [],
   "source": [
    "df['cases_cum'] = df.groupby('geoid')['cases'].transform('last')\n",
    "df['deaths_cum'] = df.groupby('geoid')['deaths'].transform('last')\n",
    "\n",
    "df['cases_cum_dens'] = df['cases_cum'].div(df['population'])\n",
    "df['deaths_cum_dens'] =  df['deaths_cum'].div(df['population'])"
   ]
  },
  {
   "cell_type": "markdown",
   "metadata": {},
   "source": [
    "## PCA \n",
    "Note: since the signs of the eigenvectors are essentially arbitrary (e.g. Harman, H.H. Modern Factor Analysis. 3rd Edition, The University of Chicago Press, Chicago, 1976), for a given % of retained variance the PC scores are only saved once to ease the comparison of the results between the lockdown and recovery phase"
   ]
  },
  {
   "cell_type": "code",
   "execution_count": null,
   "metadata": {},
   "outputs": [],
   "source": [
    "df = df.drop_duplicates('geoid')\n",
    "X, var_exp = run_ppca(df, var_cols, ncomponents = 100, min_obs = 0.95)"
   ]
  },
  {
   "cell_type": "markdown",
   "metadata": {},
   "source": [
    "### Plot explained variance"
   ]
  },
  {
   "cell_type": "code",
   "execution_count": null,
   "metadata": {},
   "outputs": [],
   "source": [
    "plot_pc_var(var_exp, textsize = 15, title = 'PPCA explained variance ratio', cum_var_thr = pc_var_thr)\n",
    "plt.savefig('../plots/'+ filename +'_var_exp.pdf')   # save the figure to file"
   ]
  },
  {
   "cell_type": "markdown",
   "metadata": {},
   "source": [
    "### Plot PC correlations"
   ]
  },
  {
   "cell_type": "code",
   "execution_count": null,
   "metadata": {},
   "outputs": [],
   "source": [
    "plot_pc_corr(X, var_exp, var_cols, var_exp_thr = pc_var_thr)\n",
    "plt.savefig('../plots/'+ filename +'_pc_corr.pdf')   # save the figure to file"
   ]
  },
  {
   "cell_type": "markdown",
   "metadata": {},
   "source": [
    "### Select only the first six PCs (which expalain 55% of the variance)"
   ]
  },
  {
   "cell_type": "code",
   "execution_count": null,
   "metadata": {},
   "outputs": [],
   "source": [
    "cum_var_exp = np.cumsum(var_exp)\n",
    "ncomponents = np.where(cum_var_exp > pc_var_thr)[0][0]\n",
    "df_pc = X[['geoid'] + ['pc_' +  str(j) for j in range(ncomponents)]]"
   ]
  },
  {
   "cell_type": "markdown",
   "metadata": {},
   "source": [
    "### Save files to local"
   ]
  },
  {
   "cell_type": "markdown",
   "metadata": {},
   "source": [
    "#### Convert geoid to integer "
   ]
  },
  {
   "cell_type": "code",
   "execution_count": null,
   "metadata": {},
   "outputs": [],
   "source": [
    "df['ID'] = pd.factorize(df.geoid)[0]+1\n",
    "df_pc['ID'] = pd.factorize(df_pc.geoid)[0]+1"
   ]
  },
  {
   "cell_type": "code",
   "execution_count": null,
   "metadata": {},
   "outputs": [],
   "source": [
    "df[df.columns[df.columns!='geom']].to_csv(\"../data/{}.csv\".format(filename),index = False)"
   ]
  },
  {
   "cell_type": "code",
   "execution_count": null,
   "metadata": {},
   "outputs": [],
   "source": [
    "if os.path.exists(\"../data/{}_pc_scores_{}.csv\".format(filename, str(pc_var_thr)):\n",
    "    print('File with PC scores already exists')\n",
    "else:\n",
    "    df_pc.to_csv(\"../data/{}_pc_scores_{}.csv\".format(filename, str(pc_var_thr)),index = False)"
   ]
  },
  {
   "cell_type": "code",
   "execution_count": null,
   "metadata": {},
   "outputs": [],
   "source": [
    "gdf = df[['geom','ID','geoid']]\n",
    "gdf['geometry'] = gdf['geom'].apply(lambda x: str_to_geom(x))\n",
    "gdf.drop(['geom'], axis = 1, inplace = True)\n",
    "gdf = gpd.GeoDataFrame(gdf, geometry = gdf.geometry)\n",
    "gdf.to_file(driver = 'ESRI Shapefile', filename= \"../data/{}.shp\".format(filename))"
   ]
  },
  {
   "cell_type": "markdown",
   "metadata": {},
   "source": [
    "## Plot and publish maps"
   ]
  },
  {
   "cell_type": "code",
   "execution_count": null,
   "metadata": {},
   "outputs": [],
   "source": [
    "pc_var_thr = 0.55\n",
    "gdf = df.copy()\n",
    "gdf = gdf[~gdf.duplicated(subset=['geoid'],keep='first')]\n",
    "gdf['geometry'] = gdf['geom'].apply(lambda x: str_to_geom(x))\n",
    "gdf.drop(['geom'], axis = 1, inplace = True)\n",
    "\n",
    "try:\n",
    "    df_pc = pd.read_csv(\"../data/{}_pc_scores_{}.csv\".format(filename, str(pc_var_thr)))              \n",
    "except:\n",
    "    print('Run script with pc_var_thr = 0.55 first!')\n",
    "    sys.exit(1)"
   ]
  },
  {
   "cell_type": "code",
   "execution_count": null,
   "metadata": {},
   "outputs": [],
   "source": [
    "gdf = gdf.merge(df_pc, on = ['ID','geoid'])\n",
    "gdf = gpd.GeoDataFrame(gdf, geometry = gdf.geometry)\n",
    "to_carto(gdf[['geometry',\n",
    "              'sub_region_1',\n",
    "              'sub_region_2','workplaces_percent_change_from_baseline_interp_ma_diff_maxmin',\n",
    "              'cases_cum','deaths_cum',\n",
    "              'cases_cum_dens','deaths_cum_dens',\n",
    "              'BUSCYEMP_dens', 'HHDCY_dens','INCCYMEDHH','AGECYMED','HISCYHISP_dens','RCHCYMUNHS_dens'] + pc_cols],\"{}\".format(filename), if_exists = 'replace')"
   ]
  },
  {
   "cell_type": "code",
   "execution_count": null,
   "metadata": {},
   "outputs": [],
   "source": [
    "pubmap_pc0 = Map(Layer(\"mobility_google_county_drop\", \n",
    "            style = color_bins_style('pc_0', \n",
    "                                     stroke_width= 0.5,\n",
    "                                     palette = ['#0571b0','#92c5de','#f7f7f7','#f4a582','#ca0020'],\n",
    "                                     breaks = [-10,-7.5,-5,-2.5,0,2.5,5,7.5, 10],                                                           \n",
    "                                     opacity = 1),\n",
    "            legends = color_bins_legend(title='PC0 score', \n",
    "                                        description='Density of Workforce: lower values correspond to higher density of employees', \n",
    "                                        footer =''),\n",
    "            popup_hover=[popup_element('sub_region_1', title='State'),\n",
    "                         popup_element('sub_region_2', title='County'),\n",
    "                         popup_element('BUSCYEMP_dens'.lower(), title='Total Employees (Density)')],\n",
    "))\n",
    "\n",
    "pubmap_pc1 = Map(Layer(\"mobility_google_county_drop\", \n",
    "            style = color_bins_style('pc_1', \n",
    "                                     stroke_width= 0.5,\n",
    "                                     palette = ['#0571b0','#92c5de','#f7f7f7','#f4a582','#ca0020'],\n",
    "                                     breaks = [-10,-7.5,-5,-2.5,0,2.5,5,7.5, 10],                                                           \n",
    "                                     opacity = 1),\n",
    "            legends = color_bins_legend(title='PC1 score', \n",
    "                                        description='Density of Households: higher values correspond to higher density of households', \n",
    "                                        footer =''),\n",
    "            popup_hover=[popup_element('sub_region_1', title='State'),\n",
    "                         popup_element('sub_region_2', title='County'),\n",
    "                         popup_element('HHDCY_dens'.lower(), title='Households (Density)')],\n",
    "\n",
    "))\n",
    "\n",
    "pubmap_pc2 = Map(Layer(\"mobility_google_county_drop\", \n",
    "            style = color_bins_style('pc_2', \n",
    "                                     stroke_width= 0.5,\n",
    "                                     palette = ['#0571b0','#92c5de','#f7f7f7','#f4a582','#ca0020'],\n",
    "                                     breaks = [-10,-7.5,-5,-2.5,0,2.5,5,7.5, 10],                                                           \n",
    "                                     opacity = 1),\n",
    "            legends = color_bins_legend(title='PC2 score', \n",
    "                                        description='Household Income: lower values correspond to higher household income', \n",
    "                                        footer =''),\n",
    "            popup_hover=[popup_element('sub_region_1', title='State'),\n",
    "                         popup_element('sub_region_2', title='County'),\n",
    "                         popup_element('INCCYMEDHH'.lower(), title='Household income')],\n",
    "\n",
    "))\n",
    "\n",
    "pubmap_pc3 = Map(Layer(\"mobility_google_county_drop\", \n",
    "            style = color_bins_style('pc_3', \n",
    "                                    stroke_width= 0.5,\n",
    "                                    palette = ['#0571b0','#92c5de','#f7f7f7','#f4a582','#ca0020'],\n",
    "                                    breaks = [-10,-7.5,-5,-2.5,0,2.5,5,7.5, 10],                                                           \n",
    "                                    opacity = 1),\n",
    "            legends = color_bins_legend(title='PC3 score', \n",
    "                                        description='Median Age: lower values correspond to a higher median age', \n",
    "                                        footer =''),\n",
    "            popup_hover=[popup_element('sub_region_1', title='State'),\n",
    "                         popup_element('sub_region_2', title='County'),\n",
    "                         popup_element('AGECYMED'.lower(), title='Median Age (Density)')],\n",
    "                                               \n",
    "))\n",
    "\n",
    "pubmap_pc4 = Map(Layer(\"mobility_google_county_drop\", \n",
    "            syle = color_bins_style('pc_4', \n",
    "                                    stroke_width= 0.5,\n",
    "                                    palette = ['#0571b0','#92c5de','#f7f7f7','#f4a582','#ca0020'],\n",
    "                                    breaks = [-10,-7.5,-5,-2.5,0,2.5,5,7.5, 10],                                                           \n",
    "                                    opacity = 1),\n",
    "            legends = color_bins_legend(title='PC4 score', \n",
    "                                   description='Spanish Population Density: lower values correspond to a higher density of Hispanic population', \n",
    "                                   footer =''),\n",
    "            popup_hover=[popup_element('sub_region_1', title='State'),\n",
    "                         popup_element('sub_region_2', title='County'),\n",
    "                         popup_element('HISCYHISP_dens'.lower(), title='Hispanic Population (Density)')],         \n",
    "))\n",
    "\n",
    "pubmap_pc5 = Map(Layer(\"mobility_google_county_drop\", \n",
    "            style = color_bins_style('pc_5', \n",
    "                                     stroke_width= 0.5,\n",
    "                                     palette = ['#0571b0','#92c5de','#f7f7f7','#f4a582','#ca0020'],\n",
    "                                     breaks = [-10,-7.5,-5,-2.5,0,2.5,5,7.5, 10],                                                                                                                                   \n",
    "                                     opacity = 1),\n",
    "            legends = color_bins_legend(title='PC5 score', \n",
    "                                        description='Multiple-race Population Density: lower values correspond to a higher density of multiple-race population', \n",
    "                                        footer =''),\n",
    "            popup_hover=[popup_element('sub_region_1', title='State'),\n",
    "                         popup_element('sub_region_2', title='County'),\n",
    "                         popup_element('RCHCYMUNHS_dens'.lower(), title='Multiple Race Population (Density)')],                                  \n",
    "))\n",
    "                 \n",
    "pubmap1 = Layout([pubmap_pc0, pubmap_pc1],\n",
    "                2,1,\n",
    "                is_static=False,map_height=500, \n",
    "                viewport={'zoom': 2, 'lat': 40.6, 'lng': -101}\n",
    ")\n",
    "  \n",
    "pubmap2 = Layout([pubmap_pc2, pubmap_pc3],\n",
    "                2,1,\n",
    "                is_static=False,map_height=500, \n",
    "                viewport={'zoom': 2, 'lat': 40.6, 'lng': -101}\n",
    ")\n",
    "  \n",
    "    \n",
    "pubmap3 = Layout([pubmap_pc4, pubmap_pc5],\n",
    "                2,1,\n",
    "                is_static=False,map_height=500, \n",
    "                viewport={'zoom': 2, 'lat': 40.6, 'lng': -101}\n",
    ")\n",
    "  \n",
    "pubmap1.publish(\"mobility_county_pc01\", \n",
    "               password=None,\n",
    "               if_exists='replace')\n",
    "\n",
    "pubmap2.publish(\"mobility_county_pc23\", \n",
    "               password=None,\n",
    "               if_exists='replace')\n",
    "\n",
    "pubmap3.publish(\"mobility_county_pc45\", \n",
    "               password=None,\n",
    "               if_exists='replace')\n",
    "    \n",
    "pubmap = Layout([pubmap_pc0, pubmap_pc1, pubmap_pc2, pubmap_pc3, pubmap_pc4, pubmap_pc5],\n",
    "                3,2,\n",
    "                is_static=False,map_height=500, \n",
    "                viewport={'zoom': 2, 'lat': 40.6, 'lng': -101}\n",
    ")\n",
    "\n",
    "pubmap.publish(\"mobility_county_pc\", \n",
    "               password=None,\n",
    "               if_exists='replace')"
   ]
  },
  {
   "cell_type": "code",
   "execution_count": null,
   "metadata": {},
   "outputs": [],
   "source": [
    "pubmap_mob_lockdown = Map(Layer(\"mobility_google_county_drop\", \n",
    "            style = color_bins_style('workplaces_percent_change_from_baseline_interp_ma_diff_maxmin', \n",
    "                                     stroke_width= 0.5,\n",
    "                                     palette = ['#edf8fb','#bfd3e6','#9ebcda','#8c96c6','#8856a7','#810f7c'], \n",
    "                                     breaks = [0, 10, 20, 30, 40, 50, 60],                                                           \n",
    "                                     opacity = 1),\n",
    "            legends = color_bins_legend(title='% change from baseline in workplaces mobility', \n",
    "                                        description='from 2020-02-20 to 2020-04-13 (lockdown phase)', \n",
    "                                        footer ='SOURCE: Google'),\n",
    "            popup_hover=[popup_element('sub_region_1', title='State'),\n",
    "                         popup_element('sub_region_2', title='County'),\n",
    "                         popup_element('workplaces_percent_change_from_baseline_interp_ma_diff_maxmin', title='% change from baseline in workplaces mobility'),\n",
    "                         popup_element('cases_cum', title='Cumulative COVID19 case by County'),\n",
    "                         popup_element('deaths_cum', title='Cumulative COVID19 deaths by County')],\n",
    "))\n",
    "\n",
    "pubmap_mob_recovery = Map(Layer(\"mobility_google_county_up\", \n",
    "            syle = color_bins_style('workplaces_percent_change_from_baseline_interp_ma_diff_maxmin', \n",
    "                                    stroke_width= 0.5,\n",
    "                                    palette = ['#feebe2','#fcc5c0','#fa9fb5','#f768a1','#c51b8a','#7a0177'], \n",
    "                                    breaks = [0,5,10,15,20,25,30],                                                           \n",
    "                                    opacity = 1),\n",
    "            legends = color_bins_legend(title='% change from baseline in workplaces mobility', \n",
    "                                        description='from 2020-04-13 to 2020-07-17 (recovery phase)', \n",
    "                                        footer ='SOURCE: Google'),\n",
    "            popup_hover=[popup_element('sub_region_1', title='State'),\n",
    "                         popup_element('sub_region_2', title='County'),\n",
    "                         popup_element('workplaces_percent_change_from_baseline_interp_ma_diff_maxmin', title='% change from baseline in workplaces mobility'),\n",
    "                         popup_element('cases_cum', title='Cumulative COVID19 case by County'),\n",
    "                         popup_element('deaths_cum', title='Cumulative COVID19 deaths by County')],\n",
    "))\n",
    "\n",
    "pubmap_mob = Layout([pubmap_mob_lockdown, pubmap_mob_recovery],\n",
    "                1,2,\n",
    "                is_static=False,map_height=500, \n",
    "                viewport={'zoom': 3, 'lat': 40.6, 'lng': -101}\n",
    ")\n",
    "\n",
    "pubmap_mob.publish(\"mobility_county_Feb20_Apr13_July17\", \n",
    "               password=None,\n",
    "               if_exists='replace')"
   ]
  },
  {
   "cell_type": "code",
   "execution_count": null,
   "metadata": {},
   "outputs": [],
   "source": [
    "pubmap_cases_lockdown = Map(Layer(\"SELECT *, CASE WHEN cases_cum_dens='NaN' THEN 0 ELSE cases_cum_dens*100000 END as c from mobility_google_county_lockdown\", \n",
    "            style = color_bins_style('c', \n",
    "                                    stroke_width= 0.5,\n",
    "                                    breaks = [10,50,100,200,300,400,500, 600, 700, 800, 900,1000,2500,5000],                                                           \n",
    "                                    palette = 'SunsetDark', \n",
    "                                    opacity = 1),\n",
    "            legends = color_bins_legend(title='Cumulative cases per 100,000', \n",
    "                                        description='as of 2020-04-13', \n",
    "                                        footer ='SOURCE: Google'),\n",
    "            popup_hover=[popup_element('sub_region_1', title='State'),\n",
    "                         popup_element('sub_region_2', title='County'),\n",
    "                         popup_element('workplaces_percent_change_from_baseline_interp_ma_diff_maxmin', title='% change from baseline in workplaces mobility'),\n",
    "                         popup_element('cases_cum', title='Cumulative COVID19 case by County'),\n",
    "                         popup_element('deaths_cum', title='Cumulative COVID19 deaths by County')],\n",
    "))\n",
    "\n",
    "pubmap_cases_recovery = Map(Layer(\"SELECT *, CASE WHEN cases_cum_dens='NaN' THEN 0 ELSE cases_cum_dens*100000 END as c from mobility_google_county_up\", \n",
    "            style = color_bins_style('c', \n",
    "                                     stroke_width= 0.5,\n",
    "                                     palette = 'SunsetDark', \n",
    "                                     breaks = [10,50,100,200,300,400,500, 600, 700, 800, 900,1000,2500,5000],                                                           \n",
    "                                     opacity = 1),\n",
    "            legends = color_bins_legend(title='Cumulative cases per 100,000', \n",
    "                                        description='as of 2020-07-17', \n",
    "                                        footer ='SOURCE: Google'),\n",
    "            popup_hover=[popup_element('sub_region_1', title='State'),\n",
    "                         popup_element('sub_region_2', title='County'),\n",
    "                         popup_element('workplaces_percent_change_from_baseline_interp_ma_diff_maxmin', title='% change from baseline in workplaces mobility'),\n",
    "                         popup_element('cases_cum', title='Cumulative COVID19 case by County'),\n",
    "                         popup_element('deaths_cum', title='Cumulative COVID19 deaths by County')],\n",
    "))\n",
    "\n",
    "pubmap_cases = Layout([pubmap_cases_lockdown, pubmap_cases_recovery],\n",
    "                1,2,      \n",
    "                is_static=False,map_height=500, \n",
    "                viewport={'zoom': 3, 'lat': 40.6, 'lng': -101}\n",
    ")\n",
    "\n",
    "pubmap_cases.publish(\"cases_county_Feb20_Apr13_July17\", \n",
    "               password=None,\n",
    "               if_exists='replace')"
   ]
  }
 ],
 "metadata": {
  "kernelspec": {
   "display_name": "Python 3",
   "language": "python",
   "name": "python3"
  },
  "language_info": {
   "codemirror_mode": {
    "name": "ipython",
    "version": 3
   },
   "file_extension": ".py",
   "mimetype": "text/x-python",
   "name": "python",
   "nbconvert_exporter": "python",
   "pygments_lexer": "ipython3",
   "version": "3.6.5"
  }
 },
 "nbformat": 4,
 "nbformat_minor": 4
}
