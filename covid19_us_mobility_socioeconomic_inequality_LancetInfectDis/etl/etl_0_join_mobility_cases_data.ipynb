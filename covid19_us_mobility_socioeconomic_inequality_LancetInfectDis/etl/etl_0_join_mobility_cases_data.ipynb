{
 "cells": [
  {
   "cell_type": "code",
   "execution_count": null,
   "metadata": {},
   "outputs": [],
   "source": [
    "%cd ../\n",
    "\n",
    "from src.requirements import *\n",
    "from src.ppca import PPCA\n",
    "from src.utils import *\n",
    "%matplotlib inline\n",
    "os.mkdir('plots')\n",
    "\n",
    "## ******************************************************************************************************************************\n",
    "## OPEN CONFIG FILE\n",
    "## ******************************************************************************************************************************\n",
    "\n",
    "with open('configFile.json') as json_data_file:\n",
    "    configFile = json.load(json_data_file)\n",
    "\n",
    "## ******************************************************************************************************************************\n",
    "## SET BIG QUERY CREDENTIALS\n",
    "## ******************************************************************************************************************************\n",
    "\n",
    "SERVICE_ACCOUNT_FILE = configFile['config']['BQ_key_file']\n",
    "client_bq = bigquery.Client.from_service_account_json(SERVICE_ACCOUNT_FILE)\n",
    "bq_dataset_id = configFile['config']['bq_dataset']\n",
    "bq_dataset_ref = client_bq.dataset(bq_dataset_id)\n",
    "\n",
    "## ******************************************************************************************************************************\n",
    "## CARTO\n",
    "## ******************************************************************************************************************************\n",
    "\n",
    "carto_username = configFile['config']['CARTO']['username']\n",
    "carto_API = configFile['config']['CARTO']['API_key']\n",
    "\n",
    "creds = Credentials(carto_username, carto_API)\n",
    "set_default_credentials(creds)\n",
    "\n",
    "%cd etl/\n",
    "\n",
    "rc('mathtext', default='regular')"
   ]
  },
  {
   "cell_type": "code",
   "execution_count": null,
   "metadata": {},
   "outputs": [],
   "source": [
    "vars_mob = ['retail_and_recreation_percent_change_from_baseline',\n",
    "                'grocery_and_pharmacy_percent_change_from_baseline',\n",
    "                'workplaces_percent_change_from_baseline']"
   ]
  },
  {
   "cell_type": "markdown",
   "metadata": {},
   "source": [
    "## Join Google mobility report and COVID-10 county-level data"
   ]
  },
  {
   "cell_type": "code",
   "execution_count": null,
   "metadata": {},
   "outputs": [],
   "source": [
    "q_cases = \"\"\"\n",
    "    SELECT a.active,\n",
    "            a.cases,\n",
    "            a.deaths,\n",
    "            a.discharged, \n",
    "            a.growthFactor,\n",
    "            a.hospitalized, \n",
    "            a.icu,a.recovered,\n",
    "            a.tested, \n",
    "            b.population,\n",
    "            a.do_date as date, \n",
    "            b.name as sub_region_2,\n",
    "            b.geoid as geoid,\n",
    "            SUBSTR(b.geoid, 6, 7) as geoid_state,\n",
    "            b.geom FROM `carto-do-public-data.coronadatascraper.covid19_summarycases_glo_coronalocations_v1_daily_v1` a\n",
    "    JOIN `carto-do-public-data.coronadatascraper.geography_glo_coronalocations_v1` b\n",
    "    ON a.geoid=b.geoid\n",
    "    WHERE b.country LIKE 'US' and b.level=4\n",
    "\"\"\"\n",
    "df_cases = client_bq.query(q_cases).to_dataframe()\n",
    "df_cases['date']= pd.to_datetime(df_cases['date']) \n",
    "df_cases['geoid_state'] = df_cases['geoid_state'].apply(lambda x: x[:2])"
   ]
  },
  {
   "cell_type": "code",
   "execution_count": null,
   "metadata": {},
   "outputs": [],
   "source": [
    "df_fips_states = pd.read_csv('../data/FIPS_states.csv', dtype = {'fips_state':str})"
   ]
  },
  {
   "cell_type": "code",
   "execution_count": null,
   "metadata": {},
   "outputs": [],
   "source": [
    "df_cases = df_cases.merge(df_fips_states[['sub_region_1','fips_state']], \n",
    "                          how = 'left', \n",
    "                          left_on = 'geoid_state',right_on = 'fips_state').drop(['geoid_state','fips_state'], axis = 1)"
   ]
  },
  {
   "cell_type": "code",
   "execution_count": null,
   "metadata": {},
   "outputs": [],
   "source": [
    "q_mob=\"\"\"\n",
    "    SELECT *\n",
    "    FROM `bigquery-public-data.covid19_google_mobility.mobility_report` \n",
    "    WHERE country_region LIKE 'United States'\n",
    "\"\"\"\n",
    "df_mob = client_bq.query(q_mob).to_dataframe()\n",
    "df_mob['date']= pd.to_datetime(df_mob['date'])\n",
    "df_mob = df_mob.merge(df_cases[['sub_region_1','sub_region_2','geoid','geom']].drop_duplicates(), on = ['sub_region_1','sub_region_2'])"
   ]
  },
  {
   "cell_type": "code",
   "execution_count": null,
   "metadata": {},
   "outputs": [],
   "source": [
    "df_mob.date.max()"
   ]
  },
  {
   "cell_type": "code",
   "execution_count": null,
   "metadata": {},
   "outputs": [],
   "source": [
    "df_cases.date.max()"
   ]
  },
  {
   "cell_type": "code",
   "execution_count": null,
   "metadata": {},
   "outputs": [],
   "source": [
    "df = df_cases.merge(df_mob, on = ['sub_region_1','sub_region_2', 'geoid','geom','date'], how = 'right')\n",
    "df['date'] = df['date'].apply(lambda x: x.strftime(\"%Y-%m-%d\"))\n",
    "df.geoid=df.geoid.apply(lambda x: x.replace('fips:',''))"
   ]
  },
  {
   "cell_type": "markdown",
   "metadata": {},
   "source": [
    "### Upload result to Bigquery"
   ]
  },
  {
   "cell_type": "code",
   "execution_count": null,
   "metadata": {},
   "outputs": [],
   "source": [
    "df_bq = df.where(pd.notnull(df), None)"
   ]
  },
  {
   "cell_type": "code",
   "execution_count": null,
   "metadata": {},
   "outputs": [],
   "source": [
    "table_name = bq_dataset_ref.project + '.' + bq_dataset_ref.dataset_id + '.epi_mobility_county'\n",
    "client_bq.delete_table(table_name, not_found_ok=True)  \n",
    "upload_df_to_bigquery(df_bq, 'epi_mobility_county', bq_dataset_ref, client_bq)"
   ]
  },
  {
   "cell_type": "code",
   "execution_count": null,
   "metadata": {},
   "outputs": [],
   "source": []
  }
 ],
 "metadata": {
  "kernelspec": {
   "display_name": "Python 3",
   "language": "python",
   "name": "python3"
  },
  "language_info": {
   "codemirror_mode": {
    "name": "ipython",
    "version": 3
   },
   "file_extension": ".py",
   "mimetype": "text/x-python",
   "name": "python",
   "nbconvert_exporter": "python",
   "pygments_lexer": "ipython3",
   "version": "3.6.5"
  }
 },
 "nbformat": 4,
 "nbformat_minor": 4
}
