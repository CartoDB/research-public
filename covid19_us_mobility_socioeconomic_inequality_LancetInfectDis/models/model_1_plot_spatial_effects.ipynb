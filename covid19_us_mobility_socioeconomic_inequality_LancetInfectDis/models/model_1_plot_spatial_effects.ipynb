{
 "cells": [
  {
   "cell_type": "code",
   "execution_count": null,
   "metadata": {},
   "outputs": [],
   "source": [
    "%cd ../\n",
    "\n",
    "from src.requirements import *\n",
    "from src.ppca import PPCA\n",
    "from src.utils import *\n",
    "%matplotlib inline\n",
    "\n",
    "## ******************************************************************************************************************************\n",
    "## OPEN CONFIG FILE\n",
    "## ******************************************************************************************************************************\n",
    "\n",
    "with open('configFile.json') as json_data_file:\n",
    "    configFile = json.load(json_data_file)\n",
    "\n",
    "## ******************************************************************************************************************************\n",
    "## CARTO\n",
    "## ******************************************************************************************************************************\n",
    "\n",
    "carto_username = configFile['config']['CARTO']['username']\n",
    "carto_API = configFile['config']['CARTO']['API_key']\n",
    "\n",
    "creds = Credentials(carto_username, carto_API)\n",
    "set_default_credentials(creds)\n",
    "\n",
    "%cd models/"
   ]
  },
  {
   "cell_type": "markdown",
   "metadata": {},
   "source": [
    "# Upload data to CARTO"
   ]
  },
  {
   "cell_type": "markdown",
   "metadata": {},
   "source": [
    "## Read States geometries and merge with Counties geometries"
   ]
  },
  {
   "cell_type": "code",
   "execution_count": null,
   "metadata": {},
   "outputs": [],
   "source": [
    "gdf_states = gpd.read_file('../data/cb_2018_us_state_500k.shp')\n",
    "gdf_states.to_crs(epsg=4326, inplace = True)\n",
    "to_carto(gdf_states,\"us_states_geoms\", if_exists = 'replace')"
   ]
  },
  {
   "cell_type": "markdown",
   "metadata": {},
   "source": [
    "## Lockdown phase"
   ]
  },
  {
   "cell_type": "code",
   "execution_count": null,
   "metadata": {},
   "outputs": [],
   "source": [
    "phase = 'drop'\n",
    "admunit = 'county'\n",
    "pc_var_thr = '0.55'\n",
    "filename = 'mobility_google_county_{}'.format(phase)\n",
    "df_drop = pd.read_csv('../data/{}_{}_random.csv'.format(filename,pc_var_thr))\n",
    "\n",
    "## Read Counties geometries\n",
    "gdf = gpd.read_file(\"../data/{}.shp\".format(filename))\n",
    "gdf['geoid_state'] = gdf['geoid'].apply(lambda x: x[:2])"
   ]
  },
  {
   "cell_type": "markdown",
   "metadata": {},
   "source": [
    "### The dataframe has the number of rows equal to 2 times the number of selected counties (1946 * 2) where the first 1946 rows correspond to the sum of the \"iid\"+\"besag\" effects"
   ]
  },
  {
   "cell_type": "code",
   "execution_count": null,
   "metadata": {},
   "outputs": [],
   "source": [
    "df_drop = df_drop.iloc[:int(df_drop.shape[0]/2),:]"
   ]
  },
  {
   "cell_type": "markdown",
   "metadata": {},
   "source": [
    "### Merge data and geometries and upload"
   ]
  },
  {
   "cell_type": "code",
   "execution_count": null,
   "metadata": {},
   "outputs": [],
   "source": [
    "gdf_drop = gdf.merge(df_drop, on = 'ID')\n",
    "gdf_drop['exp_mean'] = np.exp(gdf_drop['mean'])\n",
    "to_carto(gdf_drop,\"{}_random_sp\".format(filename), if_exists = 'replace')"
   ]
  },
  {
   "cell_type": "markdown",
   "metadata": {},
   "source": [
    "## Recovery phase"
   ]
  },
  {
   "cell_type": "code",
   "execution_count": null,
   "metadata": {},
   "outputs": [],
   "source": [
    "phase = 'up'\n",
    "filename = 'mobility_google_county_{}'.format(phase)\n",
    "df_up = pd.read_csv('../data/{}_{}_random.csv'.format(filename,pc_var_thr))"
   ]
  },
  {
   "cell_type": "markdown",
   "metadata": {},
   "source": [
    "### The dataframe has the number of rows equal to 2 times the number of selected counties (1946 * 2) where the first 1946 rows correspond to the sum of the \"iid\"+\"besag\" effects"
   ]
  },
  {
   "cell_type": "code",
   "execution_count": null,
   "metadata": {},
   "outputs": [],
   "source": [
    "df_up = df_up.iloc[:int(df_up.shape[0]/2),:]"
   ]
  },
  {
   "cell_type": "markdown",
   "metadata": {},
   "source": [
    "### Merge data and geometries and upload"
   ]
  },
  {
   "cell_type": "code",
   "execution_count": null,
   "metadata": {},
   "outputs": [],
   "source": [
    "gdf_up = gdf.merge(df_up, on = 'ID')\n",
    "gdf_up['exp_mean'] = np.exp(gdf_up['mean'])\n",
    "to_carto(gdf_up,\"{}_random_sp\".format(filename), if_exists = 'replace')"
   ]
  },
  {
   "cell_type": "markdown",
   "metadata": {},
   "source": [
    "# Make a map of the posterior mean of the BYM random effect"
   ]
  },
  {
   "cell_type": "code",
   "execution_count": null,
   "metadata": {},
   "outputs": [],
   "source": [
    "pubmap_random_drop = Map([Layer(\"mobility_google_county_drop_random_sp\",\n",
    "                             encode_data=False,\n",
    "                             style = color_bins_style('mean', \n",
    "                                               stroke_width= 0.5,\n",
    "                                               palette = ['#0571b0','#92c5de','#f7f7f7','#f4a582','#ca0020'],\n",
    "                                               breaks = [-1,-0.75,-0.5,-0.25,0,0.25,0.5,0.75,1],                                                           \n",
    "                                               opacity = 1),\n",
    "                             legends = color_bins_legend(title='Lockdown phase', \n",
    "                                   description='Posterior mean of the spatial random effects (corresponding to the sum of the \"IID\" and \"ICAR\" terms)', \n",
    "                                   footer =''),\n",
    "                             popup_hover=[popup_element('mean', title='Spatial Random Effects')]),\n",
    "                             Layer(\"us_states_geoms\", \n",
    "                                   style = basic_style(color = 'white', \n",
    "                                                       stroke_width= 2.5,\n",
    "                                                       opacity = 0),\n",
    "                                    popup_hover=[popup_element('name', title='State')])],\n",
    "                                                viewport={'zoom': 2, 'lat': 40.587755, 'lng': -102.973985}\n",
    ")"
   ]
  },
  {
   "cell_type": "code",
   "execution_count": null,
   "metadata": {},
   "outputs": [],
   "source": [
    "pubmap_random_up = Map([Layer(\"mobility_google_county_up_random_sp\",\n",
    "                             encode_data=False,\n",
    "                             style = color_bins_style('mean', \n",
    "                                               stroke_width= 0.5,\n",
    "                                               palette = ['#0571b0','#92c5de','#f7f7f7','#f4a582','#ca0020'],\n",
    "                                               breaks = [-1,-0.75,-0.5,-0.25,0,0.25,0.5,0.75,1],                                                           \n",
    "                                               opacity = 1),\n",
    "                             legends = color_bins_legend(title='Recovery phase', \n",
    "                                   description='Posterior mean of the spatial random effects (corresponding to the sum of the \"IID\" and \"ICAR\" terms)', \n",
    "                                   footer =''),\n",
    "                             popup_hover=[popup_element('mean', title='Spatial Random Effects')]),\n",
    "                             Layer(\"us_states_geoms\", \n",
    "                                   style = basic_style(color = 'white', \n",
    "                                                       stroke_width= 2.5,\n",
    "                                                       opacity = 0),\n",
    "                                    popup_hover=[popup_element('name', title='State')])]\n",
    ")"
   ]
  },
  {
   "cell_type": "code",
   "execution_count": null,
   "metadata": {},
   "outputs": [],
   "source": [
    "from cartoframes.viz import Layout\n",
    "pubmap = Layout([pubmap_random_drop, pubmap_random_up],\n",
    "                1,2,\n",
    "                is_static=False,map_height=500, \n",
    "                viewport={'zoom': 2.7, 'lat': 40.587755, 'lng': -102.973985}\n",
    ")"
   ]
  },
  {
   "cell_type": "code",
   "execution_count": null,
   "metadata": {},
   "outputs": [],
   "source": [
    "pubmap.publish(\"mobility_{}_random_spatial\".format(admunit), \n",
    "               password=None,\n",
    "               if_exists='replace')"
   ]
  },
  {
   "cell_type": "code",
   "execution_count": null,
   "metadata": {},
   "outputs": [],
   "source": []
  }
 ],
 "metadata": {
  "kernelspec": {
   "display_name": "Python 3",
   "language": "python",
   "name": "python3"
  },
  "language_info": {
   "codemirror_mode": {
    "name": "ipython",
    "version": 3
   },
   "file_extension": ".py",
   "mimetype": "text/x-python",
   "name": "python",
   "nbconvert_exporter": "python",
   "pygments_lexer": "ipython3",
   "version": "3.6.5"
  }
 },
 "nbformat": 4,
 "nbformat_minor": 2
}
