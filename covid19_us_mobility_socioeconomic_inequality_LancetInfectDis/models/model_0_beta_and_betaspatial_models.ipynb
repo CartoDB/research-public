{
 "cells": [
  {
   "cell_type": "code",
   "execution_count": null,
   "metadata": {},
   "outputs": [],
   "source": [
    "source('../src/requirements.R')\n",
    "source('../src/utils.R')"
   ]
  },
  {
   "cell_type": "markdown",
   "metadata": {},
   "source": [
    "# Read files and pre-process"
   ]
  },
  {
   "cell_type": "code",
   "execution_count": null,
   "metadata": {},
   "outputs": [],
   "source": [
    "phase = 'lockdown' # select between 'lockdown' or 'recovery'\n",
    "response_var = 'workplaces_percent_change_from_baseline_interp_ma_diff_maxmin'\n",
    "filename = paste0('mobility_google_county_',phase)\n",
    "pc_var_thr = '0.55' # select between '0.55' or '0.90'"
   ]
  },
  {
   "cell_type": "code",
   "execution_count": null,
   "metadata": {},
   "outputs": [],
   "source": [
    "data.sp <- readOGR(paste0(\"../data/\",filename,\".shp\"))\n",
    "data.df <- read.delim(paste0(\"../data/\",filename,'.csv'), \n",
    "                      header = TRUE, \n",
    "                      sep = ',',na.strings = \"\")\n",
    "data.df_pc <- read.delim(paste0(\"../data/\",filename,'_pc_scores_',pc_var_thr,'.csv'), \n",
    "                      header = TRUE, \n",
    "                      sep = ',',na.strings = \"\")\n",
    "\n",
    "data.df <- merge(data.df,data.df_pc,by=c(\"ID\",\"geoid\"))"
   ]
  },
  {
   "cell_type": "markdown",
   "metadata": {},
   "source": [
    "## Compute the density of cases per 100,000"
   ]
  },
  {
   "cell_type": "code",
   "execution_count": null,
   "metadata": {},
   "outputs": [],
   "source": [
    "data.df['cases_cum_dens'] = data.df['cases_cum_dens']*100000"
   ]
  },
  {
   "cell_type": "markdown",
   "metadata": {},
   "source": [
    "## Select the fixed effects "
   ]
  },
  {
   "cell_type": "code",
   "execution_count": null,
   "metadata": {},
   "outputs": [],
   "source": [
    "cov = c(colnames(select(data.df,contains(\"pc_\"))),'cases_cum_dens')"
   ]
  },
  {
   "cell_type": "markdown",
   "metadata": {},
   "source": [
    "## Compute adjecency matrix"
   ]
  },
  {
   "cell_type": "code",
   "execution_count": null,
   "metadata": {},
   "outputs": [],
   "source": [
    "#Compute first order neighbours\n",
    "data.nb <- poly2nb(data.sp, row.names = data.sp$ID)\n",
    "names(data.nb) <- attr(data.nb, \"region.id\")\n",
    "\n",
    "#Convert it to a binary adjacency matrix\n",
    "data.adj <- nb2mat(data.nb , style = \"B\",zero.policy=TRUE)"
   ]
  },
  {
   "cell_type": "markdown",
   "metadata": {},
   "source": [
    "## Scale response (beta likelihood)"
   ]
  },
  {
   "cell_type": "code",
   "execution_count": null,
   "metadata": {},
   "outputs": [],
   "source": [
    "data.df[[response_var]] <- data.df[[response_var]]/100"
   ]
  },
  {
   "cell_type": "markdown",
   "metadata": {},
   "source": [
    "# Models"
   ]
  },
  {
   "cell_type": "code",
   "execution_count": null,
   "metadata": {},
   "outputs": [],
   "source": [
    "INLA:::inla.dynload.workaround() ## LINUX WORKAROUND"
   ]
  },
  {
   "cell_type": "markdown",
   "metadata": {},
   "source": [
    "## Priors"
   ]
  },
  {
   "cell_type": "code",
   "execution_count": null,
   "metadata": {},
   "outputs": [],
   "source": [
    "bym.prior <- list(\n",
    "    prec = list(\n",
    "        prior =\"pc.prec\",\n",
    "        param = c(0.5/0.31, 0.01)),\n",
    "    phi = list(\n",
    "        prior = \"pc\",\n",
    "        param = c(0.5, 2/3))\n",
    ")\n",
    "\n",
    "prior.iid = c(1,0.01)\n",
    "prior.besag = c(1,0.001)"
   ]
  },
  {
   "cell_type": "markdown",
   "metadata": {},
   "source": [
    "## Beta-model"
   ]
  },
  {
   "cell_type": "code",
   "execution_count": null,
   "metadata": {},
   "outputs": [],
   "source": [
    "ff  <- as.formula(paste(response_var, paste(c(cov),\n",
    "                                            collapse=\" + \"),sep='~'))\n",
    "\n",
    "out <- inla(ff,data = data.df, \n",
    "            family = \"beta\", \n",
    "            control.compute = list(cpo=TRUE,waic = TRUE),\n",
    "            control.predictor = list(compute = TRUE, link = 1), \n",
    "            control.fixed = list(mean = 0, prec = 1), \n",
    "            num.threads=16, \n",
    "            verbose = TRUE)\n",
    "\n",
    "summary(out)"
   ]
  },
  {
   "cell_type": "markdown",
   "metadata": {},
   "source": [
    "### Plot the marginals for the fixed parameters  "
   ]
  },
  {
   "cell_type": "code",
   "execution_count": null,
   "metadata": {},
   "outputs": [],
   "source": [
    "options(repr.plot.width = 20, repr.plot.height = 14)\n",
    "p <- bri.fixed.plot(out, together=FALSE)\n",
    "ggsave(paste0('../plots/',filename,'_',pc_var_thr,'_fixed.pdf'), width = 20, height = 14)"
   ]
  },
  {
   "cell_type": "markdown",
   "metadata": {},
   "source": [
    "### Plot the marginals for the hyperparameters "
   ]
  },
  {
   "cell_type": "code",
   "execution_count": null,
   "metadata": {},
   "outputs": [],
   "source": [
    "options(repr.plot.width = 30, repr.plot.height = 10)\n",
    "p <- bri.hyperpar.plot(out, together=FALSE)\n",
    "ggsave(paste0('../plots/',filename,'_',pc_var_thr,'_hyper.pdf'), width = 30, height = 10)"
   ]
  },
  {
   "cell_type": "code",
   "execution_count": null,
   "metadata": {},
   "outputs": [],
   "source": [
    "out_residuals <- inla_ppcheck(out, data.df[[response_var]])\n",
    "out_residuals <-  out_residuals[complete.cases(out_residuals), ] "
   ]
  },
  {
   "cell_type": "code",
   "execution_count": null,
   "metadata": {},
   "outputs": [],
   "source": [
    "pseudoR2(out_residuals$predicted-out_residuals$observed,out_residuals$observed)"
   ]
  },
  {
   "cell_type": "code",
   "execution_count": null,
   "metadata": {},
   "outputs": [],
   "source": [
    "options(repr.plot.width = 42, repr.plot.height = 10)\n",
    "p <- ggplot_inla_ppcheck(out_residuals, CI = TRUE, binwidth=0.05)\n",
    "ggsave(paste0('../plots/',filename,'_',pc_var_thr,'_residuals.pdf'), p, width = 42, height = 10)"
   ]
  },
  {
   "cell_type": "code",
   "execution_count": null,
   "metadata": {},
   "outputs": [],
   "source": [
    "plot(p)"
   ]
  },
  {
   "cell_type": "markdown",
   "metadata": {},
   "source": [
    "## Spatial Beta-model"
   ]
  },
  {
   "cell_type": "code",
   "execution_count": null,
   "metadata": {},
   "outputs": [],
   "source": [
    "ff.sp  <- as.formula(paste(response_var, paste(c(\"f(ID, model = 'bym', param = c(prior.iid, prior.besag), graph=data.adj, adjust.for.con.comp = TRUE, scale.model = TRUE)\",\n",
    "                                                 cov\n",
    "                                             ),\n",
    "                                            collapse=\" + \"),sep='~'))\n",
    "\n",
    "out.sp <- inla(ff.sp,data = data.df, \n",
    "            family = \"beta\", \n",
    "            control.compute = list(cpo=TRUE,waic = TRUE),\n",
    "            control.predictor = list(compute = TRUE, link = 1), \n",
    "            control.fixed = list(mean = 0, prec = 1),\n",
    "            num.threads=2,\n",
    "            verbose = TRUE)\n",
    "out.sp = inla.rerun(out.sp)\n",
    "summary(out.sp)\n",
    "\n",
    "data.df[,paste0(response_var, '_mean')] <- as.numeric(out.sp$summary.fitted.values[, \"mean\"])\n",
    "data.df[,paste0(response_var, '_sd')] <- as.numeric(out.sp$summary.fitted.values[, \"sd\"])"
   ]
  },
  {
   "cell_type": "markdown",
   "metadata": {},
   "source": [
    "### Plot the marginals for the fixed parameters  "
   ]
  },
  {
   "cell_type": "code",
   "execution_count": null,
   "metadata": {},
   "outputs": [],
   "source": [
    "options(repr.plot.width = 20, repr.plot.height = 14)\n",
    "p <- bri.fixed.plot(out.sp, together=FALSE)\n",
    "ggsave(paste0('../plots/',filename,'_',pc_var_thr,'_fixed_sp.pdf'), width = 20, height = 14)"
   ]
  },
  {
   "cell_type": "markdown",
   "metadata": {},
   "source": [
    "### Plot the marginals for the hyperparameters "
   ]
  },
  {
   "cell_type": "code",
   "execution_count": null,
   "metadata": {},
   "outputs": [],
   "source": [
    "options(repr.plot.width = 30, repr.plot.height = 10)\n",
    "p <- bri.hyperpar.plot(out.sp, together=FALSE)\n",
    "ggsave(paste0('../plots/',filename,'_',pc_var_thr,'_hyper_sp.pdf'), width = 30, height = 10)"
   ]
  },
  {
   "cell_type": "code",
   "execution_count": null,
   "metadata": {},
   "outputs": [],
   "source": [
    "out_residuals <- inla_ppcheck(out.sp, data.df[[response_var]])"
   ]
  },
  {
   "cell_type": "code",
   "execution_count": null,
   "metadata": {},
   "outputs": [],
   "source": [
    "pseudoR2(out_residuals$predicted-out_residuals$observed,out_residuals$observed)"
   ]
  },
  {
   "cell_type": "code",
   "execution_count": null,
   "metadata": {},
   "outputs": [],
   "source": [
    "options(repr.plot.width = 42, repr.plot.height = 10)\n",
    "p <- ggplot_inla_ppcheck(out_residuals, CI = TRUE, binwidth=0.05)\n",
    "ggsave(paste0('../plots/',filename,'_',pc_var_thr,'_residuals_sp.pdf'), p, width = 42, height = 10)"
   ]
  },
  {
   "cell_type": "markdown",
   "metadata": {},
   "source": [
    "### Save outputs"
   ]
  },
  {
   "cell_type": "code",
   "execution_count": null,
   "metadata": {},
   "outputs": [],
   "source": [
    "save.image(file = paste0('../data/',filename,'_',pc_var_thr,'.RData'))\n",
    "\n",
    "write.table(data.df,paste0('../data/',filename,'_',pc_var_thr,'_output.csv'), \n",
    "            col.names = TRUE, row.names = FALSE, sep=',')"
   ]
  },
  {
   "cell_type": "markdown",
   "metadata": {},
   "source": [
    "## Load model results"
   ]
  },
  {
   "cell_type": "code",
   "execution_count": null,
   "metadata": {},
   "outputs": [],
   "source": [
    "phase = 'lockdown' # select between 'lockdown' or 'recovery'\n",
    "response_var = 'workplaces_percent_change_from_baseline_interp_ma_diff_maxmin'\n",
    "filename = paste0(source,'mobility_google_county_',phase)\n",
    "pc_var_thr = '0.55' # select between '0.55' or '0.90'"
   ]
  },
  {
   "cell_type": "code",
   "execution_count": null,
   "metadata": {},
   "outputs": [],
   "source": [
    "load(file = paste0(\"../data/\",filename,'_',pc_var_thr,\".RData\"))"
   ]
  },
  {
   "cell_type": "code",
   "execution_count": null,
   "metadata": {},
   "outputs": [],
   "source": [
    "inla.show.hyperspec(out.sp)"
   ]
  },
  {
   "cell_type": "markdown",
   "metadata": {},
   "source": [
    "### Compute  odds percentage relative change"
   ]
  },
  {
   "cell_type": "code",
   "execution_count": null,
   "metadata": {},
   "outputs": [],
   "source": [
    "out_fixed = round(out$summary.fixed,6)\n",
    "out_fixed$sig = ifelse(0> out_fixed['0.025quant'] & 0 < out_fixed['0.975quant'], 'non_sig','sig')\n",
    "out_fixed$pc_increase = c(NA,(exp(out_fixed$mean[-1])-1)*100)\n",
    "out_fixed"
   ]
  },
  {
   "cell_type": "code",
   "execution_count": null,
   "metadata": {},
   "outputs": [],
   "source": [
    "for(i in seq(1,length(out$marginals.fixed))){\n",
    "    m = out$marginals.fixed[[i]]\n",
    "    print(paste0(round(inla.beta.marginal.summary(m)[[1]],2),\" (\",round(inla.beta.marginal.summary(m)[[2]],2),\")\"))\n",
    "}"
   ]
  },
  {
   "cell_type": "code",
   "execution_count": null,
   "metadata": {},
   "outputs": [],
   "source": [
    "out.sp_fixed = round(out.sp$summary.fixed,6)\n",
    "out.sp_fixed$sig = ifelse(0> out.sp_fixed['0.025quant'] & 0 < out.sp_fixed['0.975quant'], 'non_sig','sig')\n",
    "out.sp_fixed$pc_increase = c(NA,(exp(out.sp_fixed$mean[-1])-1)*100)\n",
    "out.sp_fixed"
   ]
  },
  {
   "cell_type": "code",
   "execution_count": null,
   "metadata": {},
   "outputs": [],
   "source": [
    "for(i in seq(1,length(out.sp$marginals.fixed))){\n",
    "    m = out.sp$marginals.fixed[[i]]\n",
    "    print(paste0(round(inla.beta.marginal.summary(m)[[1]],2),\" (\",round(inla.beta.marginal.summary(m)[[2]],2),\")\"))\n",
    "}"
   ]
  },
  {
   "cell_type": "markdown",
   "metadata": {},
   "source": [
    "### Save to file posterior estimates for the spatial random effects"
   ]
  },
  {
   "cell_type": "code",
   "execution_count": null,
   "metadata": {},
   "outputs": [],
   "source": [
    "out.sp_random = out.sp$summary.random$ID\n",
    "write.table(out.sp_random, paste0('../data/',filename,'_',pc_var_thr,'_random.csv'), sep = ',', row.names = F, col.names = T)"
   ]
  }
 ],
 "metadata": {
  "kernelspec": {
   "display_name": "R",
   "language": "R",
   "name": "ir"
  },
  "language_info": {
   "codemirror_mode": "r",
   "file_extension": ".r",
   "mimetype": "text/x-r-source",
   "name": "R",
   "pygments_lexer": "r",
   "version": "3.5.3"
  }
 },
 "nbformat": 4,
 "nbformat_minor": 4
}
