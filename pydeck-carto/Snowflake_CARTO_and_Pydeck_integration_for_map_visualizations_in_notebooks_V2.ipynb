{
 "cells": [
  {
   "cell_type": "markdown",
   "id": "a3dfb435-655e-4f93-a7bc-46c49bc52d75",
   "metadata": {
    "id": "a3dfb435-655e-4f93-a7bc-46c49bc52d75"
   },
   "source": [
    "# How to access CARTO's Analytics Toolbox for Snowflake and create visualizations via Python notebooks\n",
    "\n",
    "This notebook guides the user through the process for connecting to both CARTO and Snowflake accounts and leverage CARTO's Analytics Toolbox and CARTO's integration with Pydeck to be able to perform spatial analytics at scale and create map visualizations from Python notebooks.  \n",
    "\n",
    "The outline of this notebooks is as follows:\n",
    "\n",
    "* Authentication to CARTO: to be able to use 'CartoLayer' in Pydeck;\n",
    "* Authentication to Snowflake (credentials that have access to the database connected to CARTO with the Analytics Toolbox installed)   \n",
    "* Operations and analysis using Snowpark Python connector and CARTO's Analytics Toolbox\n",
    "* Map visualizations with CARTO and Pydeck"
   ]
  },
  {
   "cell_type": "markdown",
   "id": "1247b7ec-6ad6-4d67-a3c9-eefe9f981cf0",
   "metadata": {
    "id": "1247b7ec-6ad6-4d67-a3c9-eefe9f981cf0"
   },
   "source": [
    "\n",
    "\n",
    "**NOTE**: snowflake-snowpark-python is only compatible with python >= 3.8, so be sure to run the notebook in an appropriate environment\n"
   ]
  },
  {
   "cell_type": "code",
   "execution_count": null,
   "id": "a40ead20-40f1-438d-9300-5f23583de4a4",
   "metadata": {
    "id": "a40ead20-40f1-438d-9300-5f23583de4a4"
   },
   "outputs": [],
   "source": [
    "!pip install snowflake-snowpark-python pandas pydeck pydeck-carto shapely python-dotenv"
   ]
  },
  {
   "cell_type": "markdown",
   "id": "80a0d398-a7c7-45c6-9a55-e16c30d854d7",
   "metadata": {},
   "source": [
    "## Loading libraries"
   ]
  },
  {
   "cell_type": "code",
   "execution_count": 54,
   "id": "806e866c-3449-481c-aa99-bf41bca533a2",
   "metadata": {},
   "outputs": [],
   "source": [
    "import pydeck as pdk\n",
    "from carto_auth import CartoAuth\n",
    "from pydeck_carto import register_carto_layer, get_layer_credentials, get_error_notifier\n",
    "from pydeck_carto.layer import MapType, CartoConnection\n",
    "from pydeck_carto.styles import color_continuous, color_categories\n",
    "\n",
    "\n",
    "import os\n",
    "import json\n",
    "from shapely.geometry import shape\n",
    "from dotenv import load_dotenv\n",
    "import pandas as pd\n",
    "\n",
    "\n",
    "from snowflake.snowpark.session import Session\n"
   ]
  },
  {
   "cell_type": "markdown",
   "id": "34cedcdb-1334-46f8-8700-86f9554b6ca5",
   "metadata": {},
   "source": [
    "## Authentication to CARTO\n",
    "In order to authenticate to your CARTO account, install the `carto_oauth` package and use it to login with your credentials."
   ]
  },
  {
   "cell_type": "code",
   "execution_count": 79,
   "id": "2bcdb1ce-0a63-4310-9b8f-d15c51d14fff",
   "metadata": {},
   "outputs": [],
   "source": [
    "# Authentication with CARTO\n",
    "carto_auth = CartoAuth.from_oauth()"
   ]
  },
  {
   "cell_type": "markdown",
   "id": "ecfac7bb-4481-4b72-8a57-293dd59090ed",
   "metadata": {
    "id": "ecfac7bb-4481-4b72-8a57-293dd59090ed"
   },
   "source": [
    "## Authentication to Snowflake\n",
    "The cell below creates an .env file with the environment variables used for connecting to snowflake"
   ]
  },
  {
   "cell_type": "code",
   "execution_count": 2,
   "id": "66dcb101-ded6-4db2-a875-5298239e37be",
   "metadata": {},
   "outputs": [
    {
     "data": {
      "text/plain": [
       "True"
      ]
     },
     "execution_count": 2,
     "metadata": {},
     "output_type": "execute_result"
    }
   ],
   "source": [
    "with open(\".env\", \"w+\") as f:\n",
    "    f.write(\n",
    "\"\"\"\n",
    "SF_ACCOUNT=XXXXXX\n",
    "SF_USER=XXXXXX\n",
    "SF_PASSWORD=XXXXXX\n",
    "CARTO_APP_CREDS_FILE=creds.json\n",
    "\"\"\")\n",
    "\n",
    "load_dotenv() #loads env variables in .env file\n",
    "    "
   ]
  },
  {
   "cell_type": "markdown",
   "id": "4de48670-639b-4a60-abe1-1975d8aa2a02",
   "metadata": {},
   "source": [
    "We load our Snowflake credentials from the environment with `os` to create a Python connector to Snowpark \n"
   ]
  },
  {
   "cell_type": "code",
   "execution_count": 3,
   "id": "cf457721-ae0c-4ced-956e-9c336318ccf8",
   "metadata": {
    "id": "cf457721-ae0c-4ced-956e-9c336318ccf8"
   },
   "outputs": [],
   "source": [
    "def create_session_object(database, schema, verbose = True):\n",
    "    connection_parameters = {\n",
    "      \"account\": os.environ.get(\"SF_ACCOUNT\"),\n",
    "      \"user\": os.environ.get(\"SF_USER\"),\n",
    "      \"password\": os.environ.get(\"SF_PASSWORD\"),\n",
    "      \"database\": database,\n",
    "      \"schema\": schema,\n",
    "    }\n",
    "    session = Session.builder.configs(connection_parameters).create()\n",
    "    if verbose:\n",
    "        print(session.sql('select current_warehouse(), current_database(), current_schema()').collect())\n",
    "    return session"
   ]
  },
  {
   "cell_type": "code",
   "execution_count": 4,
   "id": "8bb518d3-8857-4345-aebc-4c8a702cbaee",
   "metadata": {
    "id": "8bb518d3-8857-4345-aebc-4c8a702cbaee",
    "outputId": "c43ab539-7b79-4294-a136-efc1c64ce579"
   },
   "outputs": [
    {
     "name": "stdout",
     "output_type": "stream",
     "text": [
      "[Row(CURRENT_WAREHOUSE()='COMPUTE_WH', CURRENT_DATABASE()='SFDATABASE', CURRENT_SCHEMA()='CARTO')]\n"
     ]
    }
   ],
   "source": [
    "sf_client = create_session_object(\"SFDATABASE\",\"CARTO\")"
   ]
  },
  {
   "cell_type": "markdown",
   "id": "66bbf4fc-7a39-461d-a19d-01f58014747c",
   "metadata": {
    "id": "66bbf4fc-7a39-461d-a19d-01f58014747c"
   },
   "source": [
    "## Downloading data from Snowflake into a Python dataframe\n",
    "\n",
    "\"Crossfit\" is a gym chain located in California. We will be running a location analysis of \"Crossfit\" venues vs its competitors. \n",
    "\n",
    "We use the `h3` module in [CARTO's Analytics Toolbox for Snowflake](https://docs.carto.com/analytics-toolbox-snowflake/overview/getting-started/) to compute the H3 cell of each gym in the \"Crossfit\" and \"Competition\" tables, we then join them by h3 id and download the data."
   ]
  },
  {
   "cell_type": "code",
   "execution_count": 45,
   "id": "859adf3f-89b2-4794-8f49-217a9116e291",
   "metadata": {
    "id": "859adf3f-89b2-4794-8f49-217a9116e291"
   },
   "outputs": [],
   "source": [
    "q = \"\"\"\n",
    "WITH crossfit_count AS (\n",
    "SELECT CARTO_DEV_DATA.carto.H3_FROMGEOGPOINT(geom, 5) h3, COUNT(*) crossfit_gyms\n",
    "FROM SFDATABASE.CARTO.GYMS_CA_CROSSFIT\n",
    "GROUP BY h3\n",
    "),\n",
    "competition_count AS (\n",
    "SELECT CARTO_DEV_DATA.carto.H3_FROMGEOGPOINT(geom, 5) h3, COUNT(*) competition_gyms\n",
    "FROM SFDATABASE.CARTO.GYMS_CA_COMPETITION\n",
    "GROUP BY h3\n",
    ")\n",
    "SELECT coalesce(a.h3,b.h3) h3, crossfit_gyms, competition_gyms, CARTO_DEV_DATA.carto.H3_BOUNDARY(coalesce(a.h3,b.h3)) geom\n",
    "FROM crossfit_count a FULL OUTER JOIN competition_count b ON a.h3 = b.h3  \n",
    "\"\"\""
   ]
  },
  {
   "cell_type": "code",
   "execution_count": 46,
   "id": "cce00882-5de2-42fa-ab6d-ca9982f6a21e",
   "metadata": {
    "id": "cce00882-5de2-42fa-ab6d-ca9982f6a21e"
   },
   "outputs": [],
   "source": [
    "gyms_df = sf_client.sql(q).to_pandas()"
   ]
  },
  {
   "cell_type": "markdown",
   "id": "dd1eed52-e114-4f13-aa54-45abed219ba1",
   "metadata": {
    "id": "dd1eed52-e114-4f13-aa54-45abed219ba1"
   },
   "source": [
    "We can export directly the output of a query as a pandas dataframe. The geometry column is downloaded as geojson text"
   ]
  },
  {
   "cell_type": "code",
   "execution_count": 47,
   "id": "f8f63ec5-1e0b-491a-b482-d41f49cb3291",
   "metadata": {
    "id": "f8f63ec5-1e0b-491a-b482-d41f49cb3291",
    "outputId": "17569573-c814-42c2-8f16-ab9d1f10de70"
   },
   "outputs": [
    {
     "data": {
      "text/html": [
       "<div>\n",
       "<style scoped>\n",
       "    .dataframe tbody tr th:only-of-type {\n",
       "        vertical-align: middle;\n",
       "    }\n",
       "\n",
       "    .dataframe tbody tr th {\n",
       "        vertical-align: top;\n",
       "    }\n",
       "\n",
       "    .dataframe thead th {\n",
       "        text-align: right;\n",
       "    }\n",
       "</style>\n",
       "<table border=\"1\" class=\"dataframe\">\n",
       "  <thead>\n",
       "    <tr style=\"text-align: right;\">\n",
       "      <th></th>\n",
       "      <th>H3</th>\n",
       "      <th>CROSSFIT_GYMS</th>\n",
       "      <th>COMPETITION_GYMS</th>\n",
       "      <th>GEOM</th>\n",
       "    </tr>\n",
       "  </thead>\n",
       "  <tbody>\n",
       "    <tr>\n",
       "      <th>0</th>\n",
       "      <td>8529127bfffffff</td>\n",
       "      <td>4.0</td>\n",
       "      <td>14.0</td>\n",
       "      <td>{\\n  \"coordinates\": [\\n    [\\n      [\\n       ...</td>\n",
       "    </tr>\n",
       "    <tr>\n",
       "      <th>1</th>\n",
       "      <td>8529a4c7fffffff</td>\n",
       "      <td>4.0</td>\n",
       "      <td>15.0</td>\n",
       "      <td>{\\n  \"coordinates\": [\\n    [\\n      [\\n       ...</td>\n",
       "    </tr>\n",
       "    <tr>\n",
       "      <th>2</th>\n",
       "      <td>8528308ffffffff</td>\n",
       "      <td>4.0</td>\n",
       "      <td>11.0</td>\n",
       "      <td>{\\n  \"coordinates\": [\\n    [\\n      [\\n       ...</td>\n",
       "    </tr>\n",
       "    <tr>\n",
       "      <th>3</th>\n",
       "      <td>8529a0b3fffffff</td>\n",
       "      <td>2.0</td>\n",
       "      <td>41.0</td>\n",
       "      <td>{\\n  \"coordinates\": [\\n    [\\n      [\\n       ...</td>\n",
       "    </tr>\n",
       "    <tr>\n",
       "      <th>4</th>\n",
       "      <td>8529a187fffffff</td>\n",
       "      <td>4.0</td>\n",
       "      <td>20.0</td>\n",
       "      <td>{\\n  \"coordinates\": [\\n    [\\n      [\\n       ...</td>\n",
       "    </tr>\n",
       "  </tbody>\n",
       "</table>\n",
       "</div>"
      ],
      "text/plain": [
       "                H3  CROSSFIT_GYMS  COMPETITION_GYMS  \\\n",
       "0  8529127bfffffff            4.0              14.0   \n",
       "1  8529a4c7fffffff            4.0              15.0   \n",
       "2  8528308ffffffff            4.0              11.0   \n",
       "3  8529a0b3fffffff            2.0              41.0   \n",
       "4  8529a187fffffff            4.0              20.0   \n",
       "\n",
       "                                                GEOM  \n",
       "0  {\\n  \"coordinates\": [\\n    [\\n      [\\n       ...  \n",
       "1  {\\n  \"coordinates\": [\\n    [\\n      [\\n       ...  \n",
       "2  {\\n  \"coordinates\": [\\n    [\\n      [\\n       ...  \n",
       "3  {\\n  \"coordinates\": [\\n    [\\n      [\\n       ...  \n",
       "4  {\\n  \"coordinates\": [\\n    [\\n      [\\n       ...  "
      ]
     },
     "execution_count": 47,
     "metadata": {},
     "output_type": "execute_result"
    }
   ],
   "source": [
    "gyms_df.head()"
   ]
  },
  {
   "cell_type": "code",
   "execution_count": 48,
   "id": "c499c228-bd28-437e-98f7-e62d7570ef65",
   "metadata": {
    "id": "c499c228-bd28-437e-98f7-e62d7570ef65",
    "outputId": "c9ed76dd-06b0-4b6b-d2a0-7e15a05e143e"
   },
   "outputs": [
    {
     "data": {
      "text/html": [
       "<div>\n",
       "<style scoped>\n",
       "    .dataframe tbody tr th:only-of-type {\n",
       "        vertical-align: middle;\n",
       "    }\n",
       "\n",
       "    .dataframe tbody tr th {\n",
       "        vertical-align: top;\n",
       "    }\n",
       "\n",
       "    .dataframe thead th {\n",
       "        text-align: right;\n",
       "    }\n",
       "</style>\n",
       "<table border=\"1\" class=\"dataframe\">\n",
       "  <thead>\n",
       "    <tr style=\"text-align: right;\">\n",
       "      <th></th>\n",
       "      <th>H3</th>\n",
       "      <th>CROSSFIT_GYMS</th>\n",
       "      <th>COMPETITION_GYMS</th>\n",
       "      <th>GEOM</th>\n",
       "    </tr>\n",
       "  </thead>\n",
       "  <tbody>\n",
       "    <tr>\n",
       "      <th>0</th>\n",
       "      <td>8529127bfffffff</td>\n",
       "      <td>4.0</td>\n",
       "      <td>14.0</td>\n",
       "      <td>POLYGON ((-119.2317042463678 34.14533352609908...</td>\n",
       "    </tr>\n",
       "    <tr>\n",
       "      <th>1</th>\n",
       "      <td>8529a4c7fffffff</td>\n",
       "      <td>4.0</td>\n",
       "      <td>15.0</td>\n",
       "      <td>POLYGON ((-117.0082238592645 32.50331559370144...</td>\n",
       "    </tr>\n",
       "    <tr>\n",
       "      <th>2</th>\n",
       "      <td>8528308ffffffff</td>\n",
       "      <td>4.0</td>\n",
       "      <td>11.0</td>\n",
       "      <td>POLYGON ((-122.2928434969964 37.8726679394976,...</td>\n",
       "    </tr>\n",
       "    <tr>\n",
       "      <th>3</th>\n",
       "      <td>8529a0b3fffffff</td>\n",
       "      <td>2.0</td>\n",
       "      <td>41.0</td>\n",
       "      <td>POLYGON ((-117.6961146421374 33.63108937602753...</td>\n",
       "    </tr>\n",
       "    <tr>\n",
       "      <th>4</th>\n",
       "      <td>8529a187fffffff</td>\n",
       "      <td>4.0</td>\n",
       "      <td>20.0</td>\n",
       "      <td>POLYGON ((-118.7219957116625 34.08471109375114...</td>\n",
       "    </tr>\n",
       "  </tbody>\n",
       "</table>\n",
       "</div>"
      ],
      "text/plain": [
       "                H3  CROSSFIT_GYMS  COMPETITION_GYMS  \\\n",
       "0  8529127bfffffff            4.0              14.0   \n",
       "1  8529a4c7fffffff            4.0              15.0   \n",
       "2  8528308ffffffff            4.0              11.0   \n",
       "3  8529a0b3fffffff            2.0              41.0   \n",
       "4  8529a187fffffff            4.0              20.0   \n",
       "\n",
       "                                                GEOM  \n",
       "0  POLYGON ((-119.2317042463678 34.14533352609908...  \n",
       "1  POLYGON ((-117.0082238592645 32.50331559370144...  \n",
       "2  POLYGON ((-122.2928434969964 37.8726679394976,...  \n",
       "3  POLYGON ((-117.6961146421374 33.63108937602753...  \n",
       "4  POLYGON ((-118.7219957116625 34.08471109375114...  "
      ]
     },
     "execution_count": 48,
     "metadata": {},
     "output_type": "execute_result"
    }
   ],
   "source": [
    "# converts from geojson string to polygon\n",
    "text_to_geom = lambda t : shape(json.loads(t))\n",
    "\n",
    "gyms_df[\"GEOM\"] = gyms_df.GEOM.apply(text_to_geom)\n",
    "gyms_df = gyms_df.fillna(0)\n",
    "gyms_df.head()"
   ]
  },
  {
   "cell_type": "markdown",
   "id": "41f0d7b1-bd8e-4268-8ab0-4f1d2ebe874a",
   "metadata": {
    "id": "41f0d7b1-bd8e-4268-8ab0-4f1d2ebe874a"
   },
   "source": [
    "## Uploading a dataframe back to Snowflake\n",
    "\n",
    "We transform our current dataframe, and we upload it back into our Snowflake database"
   ]
  },
  {
   "cell_type": "code",
   "execution_count": 50,
   "id": "5cd05086-6a82-4183-9f2c-0a18288d3b58",
   "metadata": {
    "id": "35f8de3a-4867-46ec-9ad1-827c6b62a570"
   },
   "outputs": [],
   "source": [
    "total_gyms = gyms_df.drop(columns = [\"GEOM\"])\n",
    "total_gyms[\"TOTAL_GYMS\"] = gyms_df.CROSSFIT_GYMS + gyms_df.COMPETITION_GYMS\n",
    "\n",
    "# We go from pandas DF to Snowflake DF. This creates a temp table with the data, which will be dropped at the end of the session.\n",
    "snowflake_df = sf_client.create_dataframe(total_gyms)\n",
    "\n",
    "# We persist such table.\n",
    "snowflake_df.write.save_as_table(\"SFDATABASE.CARTO.GYMS_CA_TOTAL_CENTROID\", mode = \"overwrite\")"
   ]
  },
  {
   "cell_type": "markdown",
   "id": "453c8732-d745-4600-a7a2-bcf779ecc74f",
   "metadata": {
    "id": "453c8732-d745-4600-a7a2-bcf779ecc74f"
   },
   "source": [
    "## Visualizing data in Snowflake with the pydeck-carto library \n",
    "\n",
    "Here we visualize the uploaded data in two layers, using the new styling functions and the Analytics Toolbox installed in SF.\n",
    "* hexagons: renders the h3 cells with a colour continuos style representing the dominance ratio of crossfit gyms vs total number of gyms\n",
    "* points: plots the location of the gyms, with a color category style representing the gym type (crossfit gyms vs competition gyms)"
   ]
  },
  {
   "cell_type": "code",
   "execution_count": 78,
   "id": "491b3a84-3b26-41de-bbd4-ddc95ef0a913",
   "metadata": {
    "id": "491b3a84-3b26-41de-bbd4-ddc95ef0a913",
    "outputId": "bc7b5f4a-6758-4650-f5c9-c3fd4993d0b7"
   },
   "outputs": [
    {
     "data": {
      "text/html": [
       "\n",
       "        <iframe\n",
       "            width=\"100%\"\n",
       "            height=700\n",
       "            frameborder=\"0\"\n",
       "            srcdoc=\"&lt;!DOCTYPE html&gt;\n",
       "&lt;html&gt;\n",
       "  &lt;head&gt;\n",
       "    &lt;meta http-equiv=&quot;content-type&quot; content=&quot;text/html; charset=UTF-8&quot; /&gt;\n",
       "    &lt;title&gt;pydeck&lt;/title&gt;\n",
       "        &lt;script src=&quot;https://api.tiles.mapbox.com/mapbox-gl-js/v1.13.0/mapbox-gl.js&quot;&gt;&lt;/script&gt;\n",
       "        &lt;link rel=&quot;stylesheet&quot; href=&quot;https://maxcdn.bootstrapcdn.com/bootstrap/3.2.0/css/bootstrap-theme.min.css&quot; /&gt;\n",
       "    &lt;link rel=&quot;stylesheet&quot; href=&quot;https://maxcdn.bootstrapcdn.com/font-awesome/4.6.3/css/font-awesome.min.css&quot; /&gt;\n",
       "    &lt;script src=&#x27;https://cdn.jsdelivr.net/npm/@deck.gl/jupyter-widget@~8.8.10/dist/index.js&#x27;&gt;&lt;/script&gt;\n",
       "    &lt;style&gt;\n",
       "    body {\n",
       "  margin: 0;\n",
       "  padding: 0;\n",
       "  overflow: hidden;\n",
       "}\n",
       "\n",
       "#deck-container {\n",
       "  width: 100vw;\n",
       "  height: 100vh;\n",
       "}\n",
       "\n",
       "#deck-container canvas {\n",
       "  z-index: 1;\n",
       "  background: none;\n",
       "}\n",
       "    &lt;/style&gt;\n",
       "  &lt;/head&gt;\n",
       "  &lt;body&gt;\n",
       "    &lt;div id=&quot;deck-container&quot;&gt;\n",
       "    &lt;/div&gt;\n",
       "  &lt;/body&gt;\n",
       "  &lt;script&gt;\n",
       "    const container = document.getElementById(&#x27;deck-container&#x27;);\n",
       "    const jsonInput = {\n",
       "  &quot;initialViewState&quot;: {\n",
       "    &quot;latitude&quot;: 33.64,\n",
       "    &quot;longitude&quot;: -117.94,\n",
       "    &quot;zoom&quot;: 5\n",
       "  },\n",
       "  &quot;layers&quot;: [\n",
       "    {\n",
       "      &quot;@@type&quot;: &quot;CartoLayer&quot;,\n",
       "      &quot;connection&quot;: &quot;snowflake&quot;,\n",
       "      &quot;credentials&quot;: {\n",
       "        &quot;accessToken&quot;: &quot;eyJhbGciOiJSUzI1NiIsInR5cCI6IkpXVCIsImtpZCI6ImRVNGNZTHAwaThjYnVMNkd0LTE0diJ9.eyJodHRwOi8vYXBwLmNhcnRvLmNvbS9lbWFpbCI6Imp1YW5sdWlzQGNhcnRvZGIuY29tIiwiaHR0cDovL2FwcC5jYXJ0by5jb20vYWNjb3VudF9pZCI6ImFjXzd4aGZ3eW1sIiwiaXNzIjoiaHR0cHM6Ly9hdXRoLmNhcnRvLmNvbS8iLCJzdWIiOiJnb29nbGUtb2F1dGgyfDEwMjc3MDIzNDU3MjYzMTI4MjI0MSIsImF1ZCI6ImNhcnRvLWNsb3VkLW5hdGl2ZS1hcGkiLCJpYXQiOjE2NjM5MjU2NTAsImV4cCI6MTY2NDAxMjA1MCwiYXpwIjoiQXR4dkhEZXVYbFI4WFBmRjJuajJVdjJJMjlwdm1DeHUiLCJwZXJtaXNzaW9ucyI6WyJyZWFkOmFjY291bnQiLCJyZWFkOmFwcHMiLCJyZWFkOmNvbm5lY3Rpb25zIiwicmVhZDpjdXJyZW50X3VzZXIiLCJyZWFkOmltcG9ydHMiLCJyZWFkOmxpc3RlZF9hcHBzIiwicmVhZDptYXBzIiwicmVhZDp0aWxlc2V0cyIsInJlYWQ6dG9rZW5zIiwidXBkYXRlOmN1cnJlbnRfdXNlciIsIndyaXRlOmFwcHMiLCJ3cml0ZTpjb25uZWN0aW9ucyIsIndyaXRlOmltcG9ydHMiLCJ3cml0ZTptYXBzIiwid3JpdGU6dG9rZW5zIl19.EOc6PWDlnk_6aBTH03Uw9GwcjeRqUUgHxTNSGHCvO231CtxDiwPzRFGVJLcTlKwn_KEm-IizcZspG4z2n4S5mV97MTKW2rJLo8iVJyW7ylX5ZMV_C1JW1gBvwkzutWjggXfNHg10SoC-kjxKEFCypt744YqlTCf6yJhJ6ZT08s6V_6aPXfKRek2fece41iMSs0rQ9LVfR4al153dMLsU4POPKdg5CZ6Zlkz5i3wwaJUr97XjNRb0x382Z8T3qlHOFxRnil2tgWopowohkarGGwY1hgz2UdXlDPSu7DQNXAt0GDp5ml-vj5ata8V82eHxzs03phsvfa6I3ILDYaz7wg&quot;,\n",
       "        &quot;apiBaseUrl&quot;: &quot;https://gcp-us-east1.api.carto.com&quot;,\n",
       "        &quot;apiVersion&quot;: &quot;v3&quot;\n",
       "      },\n",
       "      &quot;data&quot;: &quot;\\nSELECT  CARTO_DEV_DATA.carto.H3_BOUNDARY(\\&quot;H3\\&quot;) H3_GEOM,\\n        CROSSFIT_GYMS / TOTAL_GYMS AS dominance_ratio\\n        FROM SFDATABASE.CARTO.GYMS_CA_TOTAL_CENTROID\\n        &quot;,\n",
       "      &quot;geoColumn&quot;: &quot;H3_GEOM&quot;,\n",
       "      &quot;getFillColor&quot;: {\n",
       "        &quot;@@function&quot;: &quot;colorContinuous&quot;,\n",
       "        &quot;attr&quot;: &quot;DOMINANCE_RATIO&quot;,\n",
       "        &quot;colors&quot;: &quot;Tropic&quot;,\n",
       "        &quot;domain&quot;: [\n",
       "          0.0,\n",
       "          0.1,\n",
       "          0.2,\n",
       "          0.3,\n",
       "          0.4,\n",
       "          0.5,\n",
       "          0.6,\n",
       "          0.7,\n",
       "          0.8,\n",
       "          0.9\n",
       "        ],\n",
       "        &quot;nullColor&quot;: [\n",
       "          204,\n",
       "          204,\n",
       "          204\n",
       "        ]\n",
       "      },\n",
       "      &quot;getLineColor&quot;: [\n",
       "        0,\n",
       "        42,\n",
       "        42\n",
       "      ],\n",
       "      &quot;id&quot;: &quot;b18abc2b-d3dd-4a4e-9c0c-fa48e2c02a58&quot;,\n",
       "      &quot;lineWidthMinPixels&quot;: 2,\n",
       "      &quot;onDataError&quot;: {\n",
       "        &quot;@@function&quot;: &quot;notifyError&quot;\n",
       "      },\n",
       "      &quot;opacity&quot;: 0.2,\n",
       "      &quot;stroked&quot;: true,\n",
       "      &quot;type&quot;: &quot;query&quot;\n",
       "    },\n",
       "    {\n",
       "      &quot;@@type&quot;: &quot;CartoLayer&quot;,\n",
       "      &quot;connection&quot;: &quot;snowflake&quot;,\n",
       "      &quot;credentials&quot;: {\n",
       "        &quot;accessToken&quot;: &quot;eyJhbGciOiJSUzI1NiIsInR5cCI6IkpXVCIsImtpZCI6ImRVNGNZTHAwaThjYnVMNkd0LTE0diJ9.eyJodHRwOi8vYXBwLmNhcnRvLmNvbS9lbWFpbCI6Imp1YW5sdWlzQGNhcnRvZGIuY29tIiwiaHR0cDovL2FwcC5jYXJ0by5jb20vYWNjb3VudF9pZCI6ImFjXzd4aGZ3eW1sIiwiaXNzIjoiaHR0cHM6Ly9hdXRoLmNhcnRvLmNvbS8iLCJzdWIiOiJnb29nbGUtb2F1dGgyfDEwMjc3MDIzNDU3MjYzMTI4MjI0MSIsImF1ZCI6ImNhcnRvLWNsb3VkLW5hdGl2ZS1hcGkiLCJpYXQiOjE2NjM5MjU2NTAsImV4cCI6MTY2NDAxMjA1MCwiYXpwIjoiQXR4dkhEZXVYbFI4WFBmRjJuajJVdjJJMjlwdm1DeHUiLCJwZXJtaXNzaW9ucyI6WyJyZWFkOmFjY291bnQiLCJyZWFkOmFwcHMiLCJyZWFkOmNvbm5lY3Rpb25zIiwicmVhZDpjdXJyZW50X3VzZXIiLCJyZWFkOmltcG9ydHMiLCJyZWFkOmxpc3RlZF9hcHBzIiwicmVhZDptYXBzIiwicmVhZDp0aWxlc2V0cyIsInJlYWQ6dG9rZW5zIiwidXBkYXRlOmN1cnJlbnRfdXNlciIsIndyaXRlOmFwcHMiLCJ3cml0ZTpjb25uZWN0aW9ucyIsIndyaXRlOmltcG9ydHMiLCJ3cml0ZTptYXBzIiwid3JpdGU6dG9rZW5zIl19.EOc6PWDlnk_6aBTH03Uw9GwcjeRqUUgHxTNSGHCvO231CtxDiwPzRFGVJLcTlKwn_KEm-IizcZspG4z2n4S5mV97MTKW2rJLo8iVJyW7ylX5ZMV_C1JW1gBvwkzutWjggXfNHg10SoC-kjxKEFCypt744YqlTCf6yJhJ6ZT08s6V_6aPXfKRek2fece41iMSs0rQ9LVfR4al153dMLsU4POPKdg5CZ6Zlkz5i3wwaJUr97XjNRb0x382Z8T3qlHOFxRnil2tgWopowohkarGGwY1hgz2UdXlDPSu7DQNXAt0GDp5ml-vj5ata8V82eHxzs03phsvfa6I3ILDYaz7wg&quot;,\n",
       "        &quot;apiBaseUrl&quot;: &quot;https://gcp-us-east1.api.carto.com&quot;,\n",
       "        &quot;apiVersion&quot;: &quot;v3&quot;\n",
       "      },\n",
       "      &quot;data&quot;: &quot;\\nSELECT GEOM, &#x27;crossfit&#x27; AS CATEGORY\\nFROM SFDATABASE.CARTO.GYMS_CA_CROSSFIT\\nUNION ALL\\nSELECT GEOM, &#x27;competitors&#x27; AS CATEGORY\\nFROM SFDATABASE.CARTO.GYMS_CA_COMPETITION\\n&quot;,\n",
       "      &quot;geoColumn&quot;: &quot;GEOM&quot;,\n",
       "      &quot;getFillColor&quot;: {\n",
       "        &quot;@@function&quot;: &quot;colorCategories&quot;,\n",
       "        &quot;attr&quot;: &quot;CATEGORY&quot;,\n",
       "        &quot;colors&quot;: &quot;Tropic&quot;,\n",
       "        &quot;domain&quot;: [\n",
       "          &quot;competitors&quot;,\n",
       "          &quot;crossfit&quot;\n",
       "        ],\n",
       "        &quot;nullColor&quot;: [\n",
       "          204,\n",
       "          204,\n",
       "          204\n",
       "        ],\n",
       "        &quot;othersColor&quot;: [\n",
       "          119,\n",
       "          119,\n",
       "          119\n",
       "        ]\n",
       "      },\n",
       "      &quot;id&quot;: &quot;afc17d38-5389-4f80-ad17-7ede2fa5feee&quot;,\n",
       "      &quot;onDataError&quot;: {\n",
       "        &quot;@@function&quot;: &quot;notifyError&quot;\n",
       "      },\n",
       "      &quot;opacity&quot;: 0.8,\n",
       "      &quot;pickable&quot;: true,\n",
       "      &quot;pointRadiusMinPixels&quot;: 2,\n",
       "      &quot;stroked&quot;: true,\n",
       "      &quot;type&quot;: &quot;query&quot;\n",
       "    }\n",
       "  ],\n",
       "  &quot;mapProvider&quot;: &quot;carto&quot;,\n",
       "  &quot;mapStyle&quot;: &quot;https://basemaps.cartocdn.com/gl/positron-gl-style/style.json&quot;,\n",
       "  &quot;views&quot;: [\n",
       "    {\n",
       "      &quot;@@type&quot;: &quot;MapView&quot;,\n",
       "      &quot;controller&quot;: true\n",
       "    }\n",
       "  ]\n",
       "};\n",
       "    const tooltip = true;\n",
       "    const customLibraries = [{&#x27;libraryName&#x27;: &#x27;CartoLayerLibrary&#x27;, &#x27;resourceUri&#x27;: &#x27;https://cdn.jsdelivr.net/combine/npm/h3-js@~3.7.*/dist/h3-js.umd.js,npm/@deck.gl/extensions@~8.8.10/dist.min.js,npm/@deck.gl/carto@~8.8.10/dist.min.js&#x27;}];\n",
       "    const configuration = {\n",
       "        functions: {\n",
       "            notifyError: () =&gt; {\n",
       "                return (e) =&gt; {\n",
       "                    document.body.style.cssText = &#x27;padding:24px;font-size:14px;font-family:monospace&#x27;;\n",
       "                    document.body.innerHTML = `&lt;b&gt;Layer Error&lt;/b&gt;: ${e.message}`;\n",
       "                }\n",
       "            }\n",
       "        }\n",
       "    };\n",
       "\n",
       "    const deckInstance = createDeck({\n",
       "                  container,\n",
       "      jsonInput,\n",
       "      tooltip,\n",
       "      customLibraries,\n",
       "      configuration\n",
       "    });\n",
       "\n",
       "  &lt;/script&gt;\n",
       "&lt;/html&gt;\"\n",
       "        ></iframe>\n",
       "    "
      ],
      "text/plain": [
       "<IPython.core.display.HTML object>"
      ]
     },
     "execution_count": 78,
     "metadata": {},
     "output_type": "execute_result"
    }
   ],
   "source": [
    "# Note that the attribute name must be cased when passed to the styling functions even though in the query is uncased. \n",
    "# This is because column names in SF tables are always with capital letters\n",
    "# Snowflake\n",
    "\n",
    "# Register CartoLayer in pydeck\n",
    "register_carto_layer()\n",
    "\n",
    "hexagons_query = \"\"\"\n",
    "SELECT  CARTO_DEV_DATA.carto.H3_BOUNDARY(\"H3\") H3_GEOM,\n",
    "        CROSSFIT_GYMS / TOTAL_GYMS AS dominance_ratio\n",
    "        FROM SFDATABASE.CARTO.GYMS_CA_TOTAL_CENTROID\n",
    "        \"\"\"\n",
    "\n",
    "credentials = get_layer_credentials(carto_auth)\n",
    "\n",
    "hexagons = pdk.Layer(\n",
    "    \"CartoLayer\",\n",
    "    data = hexagons_query,\n",
    "    geo_column=pdk.types.String(\"H3_GEOM\"),\n",
    "    type_=MapType.QUERY,\n",
    "    connection=pdk.types.String(\"snowflake\"),\n",
    "    credentials=credentials,\n",
    "    opacity=0.2,\n",
    "    stroked=True,\n",
    "    get_fill_color = color_continuous(\"DOMINANCE_RATIO\", [x/10 for x in range(10)], colors = \"Tropic\"),\n",
    "    get_line_color=[0,42,42],\n",
    "    line_width_min_pixels=2,\n",
    "    on_data_error=get_error_notifier(),\n",
    "    )\n",
    "\n",
    "points_query = \"\"\"\n",
    "SELECT GEOM, 'crossfit' AS CATEGORY\n",
    "FROM SFDATABASE.CARTO.GYMS_CA_CROSSFIT\n",
    "UNION ALL\n",
    "SELECT GEOM, 'competitors' AS CATEGORY\n",
    "FROM SFDATABASE.CARTO.GYMS_CA_COMPETITION\n",
    "\"\"\"\n",
    "\n",
    "points = pdk.Layer(\n",
    "    \"CartoLayer\",\n",
    "    data = points_query,\n",
    "    geo_column=pdk.types.String(\"GEOM\"),\n",
    "    type_=MapType.QUERY,\n",
    "    connection=pdk.types.String(\"snowflake\"),\n",
    "    credentials=credentials,\n",
    "    opacity=0.8,\n",
    "    stroked=True,\n",
    "    pickable=True,\n",
    "    point_radius_min_pixels=2,\n",
    "    get_fill_color = color_categories(\"CATEGORY\", [\"competitors\", \"crossfit\"], colors = \"Tropic\"),\n",
    "    \n",
    "    on_data_error=get_error_notifier(),\n",
    "    )\n",
    "\n",
    "view_state = pdk.ViewState(latitude=33.64, longitude=-117.94, zoom=5)\n",
    "r = pdk.Deck(\n",
    "    [hexagons, points],\n",
    "    initial_view_state=view_state,\n",
    "    map_style=pdk.map_styles.LIGHT,\n",
    ")\n",
    "r.to_html(iframe_height = 700)"
   ]
  }
 ],
 "metadata": {
  "colab": {
   "collapsed_sections": [],
   "name": "Snowflake - CARTO and Pydeck integration for map visualizations in notebooks",
   "provenance": []
  },
  "kernelspec": {
   "display_name": "Python 3 (ipykernel)",
   "language": "python",
   "name": "python3"
  },
  "language_info": {
   "codemirror_mode": {
    "name": "ipython",
    "version": 3
   },
   "file_extension": ".py",
   "mimetype": "text/x-python",
   "name": "python",
   "nbconvert_exporter": "python",
   "pygments_lexer": "ipython3",
   "version": "3.8.8"
  }
 },
 "nbformat": 4,
 "nbformat_minor": 5
}
