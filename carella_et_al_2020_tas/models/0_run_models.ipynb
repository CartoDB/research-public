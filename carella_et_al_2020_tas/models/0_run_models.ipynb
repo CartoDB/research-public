{
 "cells": [
  {
   "cell_type": "code",
   "execution_count": null,
   "metadata": {},
   "outputs": [],
   "source": [
    "source('../src/requirements.R')\n",
    "source('../src/utils.R')\n",
    "#INLA:::inla.dynload.workaround() ## LINUX WORKAROUND"
   ]
  },
  {
   "cell_type": "markdown",
   "metadata": {},
   "source": [
    "# Read files"
   ]
  },
  {
   "cell_type": "code",
   "execution_count": null,
   "metadata": {},
   "outputs": [],
   "source": [
    "admunit = 'county'\n",
    "\n",
    "source = 'mobility_google'\n",
    "response_var = 'workplaces_percent_change_from_baseline_interp_ma_diff_maxmin'\n",
    "phase = 'drop'\n",
    "pp_checks <- data.frame(matrix(ncol=6,nrow=0, dimnames=list(NULL, c(\"model\", \"ags_var\", \"bayes_r2_train\", \"bayes_r2_test\", \"waic\", \"cpo_fail\"))))\n",
    "filename = paste0(source,'_',admunit,'_',phase)"
   ]
  },
  {
   "cell_type": "code",
   "execution_count": null,
   "metadata": {},
   "outputs": [],
   "source": [
    "## Read geometries\n",
    "data_sp <- readOGR(paste0(\"../data/\",filename,\".shp\"))\n",
    "data_sp_states <- readOGR(paste0(\"../data/us_states_geoms.shp\"))\n",
    "\n",
    "## Read data (55% PCs)\n",
    "pc_thr = '0.55'\n",
    "data_55 <- read.delim(paste0(\"../data/\",filename,'_',pc_thr,'.csv'), \n",
    "                      header = TRUE, \n",
    "                      sep = ',',na.strings = \"\",  colClasses = list(geoid = \"character\"))\n",
    "cov_55 = c(colnames(select(data_55,contains(\"pc_\"))),'cases_cum_dens')\n",
    "\n",
    "\n",
    "## Read data (90% PCs)\n",
    "pc_thr = '0.9'\n",
    "data <- read.delim(paste0(\"../data/\",filename,'_',pc_thr,'.csv'), \n",
    "                      header = TRUE, \n",
    "                      sep = ',',na.strings = \"\",colClasses = list(geoid = \"character\"))\n",
    "cov_90 = c(colnames(select(data,contains(\"pc_\"))),'cases_cum_dens')\n",
    "\n",
    "## Proportion of cases per 100,000 people\n",
    "data['cases_cum_dens'] = data['cases_cum_dens']*100000\n",
    "\n",
    "## Add state ID\n",
    "data = merge(data,data_sp_states@data[,c('name','ID')],\n",
    "             by.x='sub_region_1', by.y='name',how = 'left',\n",
    "             suffixes = c(\"\",\"_sub_region_1\"))\n",
    "data$ID_sub_region_1 <- as.numeric(data$ID_sub_region_1)"
   ]
  },
  {
   "cell_type": "code",
   "execution_count": null,
   "metadata": {},
   "outputs": [],
   "source": [
    "dim(data)"
   ]
  },
  {
   "cell_type": "markdown",
   "metadata": {},
   "source": [
    "# Compute adjecency matrix for US counties"
   ]
  },
  {
   "cell_type": "code",
   "execution_count": null,
   "metadata": {},
   "outputs": [],
   "source": [
    "#Compute first order neighbours\n",
    "data_nb <- poly2nb(data_sp, row.names = data_sp$ID)\n",
    "names(data_nb) <- attr(data_nb, \"region.id\")\n",
    "\n",
    "#Convert it to a binary adjacency matrix\n",
    "data_adj <- nb2mat(data_nb , style = \"B\",zero.policy=TRUE)"
   ]
  },
  {
   "cell_type": "markdown",
   "metadata": {},
   "source": [
    "# Scale covariates"
   ]
  },
  {
   "cell_type": "code",
   "execution_count": null,
   "metadata": {},
   "outputs": [],
   "source": [
    "data[c(cov_90)] <- lapply(data[c(cov_90)], function(x) c(scale(x)))"
   ]
  },
  {
   "cell_type": "markdown",
   "metadata": {},
   "source": [
    "# Priors"
   ]
  },
  {
   "cell_type": "code",
   "execution_count": null,
   "metadata": {},
   "outputs": [],
   "source": [
    "prior.iid = c(1,0.001)\n",
    "prior.besag = c(1,0.001)"
   ]
  },
  {
   "cell_type": "markdown",
   "metadata": {},
   "source": [
    "# Held-out data"
   ]
  },
  {
   "cell_type": "code",
   "execution_count": null,
   "metadata": {},
   "outputs": [],
   "source": [
    "data[['y']] <- data[[response_var]]\n",
    "data[['y_scaled']] <- data[[response_var]]/100"
   ]
  },
  {
   "cell_type": "code",
   "execution_count": null,
   "metadata": {},
   "outputs": [],
   "source": [
    "smp_size <- floor(0.7 * nrow(data))\n",
    "\n",
    "set.seed(123)\n",
    "train_ind <- sample(seq_len(nrow(data)), size = smp_size)\n",
    "\n",
    "data_train <- data[train_ind, ]\n",
    "data_test <- data[-train_ind, ]\n",
    "\n",
    "data[-train_ind, 'y'] <- NA\n",
    "data[-train_ind, 'y_scaled'] <- NA"
   ]
  },
  {
   "cell_type": "markdown",
   "metadata": {},
   "source": [
    "# Models"
   ]
  },
  {
   "cell_type": "markdown",
   "metadata": {},
   "source": [
    "## 0. Fixed effects only - log transform, Gaussian likelihood, 55% retained AGS variance"
   ]
  },
  {
   "cell_type": "code",
   "execution_count": null,
   "metadata": {},
   "outputs": [],
   "source": [
    "ff  <- as.formula(paste('y_scaled', paste(c(cov_55),\n",
    "                                       collapse=\" + \"),sep='~'))\n",
    "\n",
    "out55_gau <- inla(ff,data = data, \n",
    "            control.compute = list(cpo=TRUE,waic = TRUE),\n",
    "            control.predictor = list(compute = TRUE, link = 1), \n",
    "            control.fixed = list(mean = 0, prec = 1, prec.intercept = 1), \n",
    "            num.threads=1, \n",
    "            verbose = TRUE)\n",
    "\n",
    "summary(out55_gau)"
   ]
  },
  {
   "cell_type": "markdown",
   "metadata": {},
   "source": [
    "### Compute odds percentage relative change"
   ]
  },
  {
   "cell_type": "code",
   "execution_count": null,
   "metadata": {},
   "outputs": [],
   "source": [
    "fixed = round(out55_gau$summary.fixed,6)\n",
    "fixed$sig = ifelse(0> fixed['0.025quant'] & 0 < fixed['0.975quant'], 'non_sig','sig')\n",
    "fixed$pc_increase = c(NA,(exp(fixed$mean[-1])-1)*100)\n",
    "fixed"
   ]
  },
  {
   "cell_type": "code",
   "execution_count": null,
   "metadata": {},
   "outputs": [],
   "source": [
    "for(i in seq(1,length(out55_gau$marginals.fixed))){\n",
    "    m = out55_gau$marginals.fixed[[i]]\n",
    "    print(paste0(round(inla.beta.marginal.summary(m)[[1]],2),\" (\",round(inla.beta.marginal.summary(m)[[2]],2),\")\"))\n",
    "}"
   ]
  },
  {
   "cell_type": "code",
   "execution_count": null,
   "metadata": {},
   "outputs": [],
   "source": [
    "write.table(fixed,paste0(\"../data/\",filename,'_odds_fixed_55_gau.csv'), \n",
    "            col.names = TRUE, row.names = FALSE, sep=',')"
   ]
  },
  {
   "cell_type": "markdown",
   "metadata": {},
   "source": [
    "### Predictive checks"
   ]
  },
  {
   "cell_type": "code",
   "execution_count": null,
   "metadata": {},
   "outputs": [],
   "source": [
    "pp_checks[1,'model'] <- 'fixed'\n",
    "pp_checks[1,'ags_var'] <- '55'\n",
    "pp_checks[1,'lik'] <- 'gaussian'\n",
    "pp_checks[1,'bayes_r2_train'] <- bayes_pseudoR2(out55_gau, data_train[['y_scaled']],index_obs = as.numeric(row.names(data_train)))\n",
    "pp_checks[1,'bayes_r2_test'] <- bayes_pseudoR2(out55_gau, data_test[['y_scaled']],index_obs = as.numeric(row.names(data_test)))\n",
    "pp_checks[1,'waic'] <- out55_gau$waic$waic\n",
    "pp_checks[1,'cpo_fail'] <- sum(out55_gau$cpo$failure, na.rm = TRUE)/dim(data)[1]*100\n",
    "pp_checks"
   ]
  },
  {
   "cell_type": "code",
   "execution_count": null,
   "metadata": {},
   "outputs": [],
   "source": [
    "pp_checks_train <- inla_ppcheck(out55_gau, data_train[['y_scaled']], index_obs = as.numeric(row.names(data_train)))\n",
    "pp_checks_test <- inla_ppcheck(out55_gau, data_test[['y_scaled']], index_obs = as.numeric(row.names(data_test)))\n",
    "options(repr.plot.width = 40, repr.plot.height = 12.5)\n",
    "p <- ggplot_inla_ppcheck(pp_checks_train, pp_checks_test,CI = TRUE, binwidth=0.05)\n",
    "ggsave(paste0(\"../plots/\",filename,\"_fixed_55_gau_pp_checks.pdf\"), p, width = 42, height = 10)\n",
    "\n",
    "plot(p)"
   ]
  },
  {
   "cell_type": "markdown",
   "metadata": {},
   "source": [
    "## 1. Fixed effects only - Beta likelihood, 55% retained AGS variance"
   ]
  },
  {
   "cell_type": "code",
   "execution_count": null,
   "metadata": {},
   "outputs": [],
   "source": [
    "ff  <- as.formula(paste('y_scaled', paste(c(cov_55),\n",
    "                                            collapse=\" + \"),sep='~'))\n",
    "\n",
    "out55 <- inla(ff,data = data, \n",
    "            family = 'beta',\n",
    "            control.compute = list(cpo=TRUE,waic = TRUE),\n",
    "            control.predictor = list(compute = TRUE, link = 1), \n",
    "            control.fixed = list(mean = 0, prec = 1, prec.intercept = 1), \n",
    "            num.threads=1, \n",
    "            verbose = TRUE)\n",
    "\n",
    "summary(out55)"
   ]
  },
  {
   "cell_type": "markdown",
   "metadata": {},
   "source": [
    "### Compute odds percentage relative change"
   ]
  },
  {
   "cell_type": "code",
   "execution_count": null,
   "metadata": {},
   "outputs": [],
   "source": [
    "fixed = round(out55$summary.fixed,6)\n",
    "fixed$sig = ifelse(0> fixed['0.025quant'] & 0 < fixed['0.975quant'], 'non_sig','sig')\n",
    "fixed$pc_increase = c(NA,(exp(fixed$mean[-1])-1)*100)\n",
    "fixed"
   ]
  },
  {
   "cell_type": "code",
   "execution_count": null,
   "metadata": {},
   "outputs": [],
   "source": [
    "for(i in seq(1,length(out55$marginals.fixed))){\n",
    "    m = out55$marginals.fixed[[i]]\n",
    "    print(paste0(round(inla.beta.marginal.summary(m)[[1]],2),\" (\",round(inla.beta.marginal.summary(m)[[2]],2),\")\"))\n",
    "}"
   ]
  },
  {
   "cell_type": "code",
   "execution_count": null,
   "metadata": {},
   "outputs": [],
   "source": [
    "write.table(fixed,paste0(\"../data/\",filename,'_odds_fixed_55.csv'), \n",
    "            col.names = TRUE, row.names = FALSE, sep=',')"
   ]
  },
  {
   "cell_type": "markdown",
   "metadata": {},
   "source": [
    "### Predictive checks"
   ]
  },
  {
   "cell_type": "code",
   "execution_count": null,
   "metadata": {},
   "outputs": [],
   "source": [
    "pp_checks[2,'model'] <- 'fixed'\n",
    "pp_checks[2,'ags_var'] <- '55'\n",
    "pp_checks[2,'lik'] <- 'beta'\n",
    "pp_checks[2,'bayes_r2_train'] <- bayes_pseudoR2(out55, data_train[['y_scaled']],index_obs = as.numeric(row.names(data_train)))\n",
    "pp_checks[2,'bayes_r2_test'] <- bayes_pseudoR2(out55, data_test[['y_scaled']],index_obs = as.numeric(row.names(data_test)))\n",
    "pp_checks[2,'waic'] <- out55$waic$waic\n",
    "pp_checks[2,'cpo_fail'] <- sum(out55$cpo$failure, na.rm = TRUE)/dim(data)[1]*100\n",
    "pp_checks"
   ]
  },
  {
   "cell_type": "code",
   "execution_count": null,
   "metadata": {},
   "outputs": [],
   "source": [
    "pp_checks_train <- inla_ppcheck(out55, data_train[['y_scaled']], index_obs = as.numeric(row.names(data_train)))\n",
    "pp_checks_test <- inla_ppcheck(out55, data_test[['y_scaled']], index_obs = as.numeric(row.names(data_test)))\n",
    "options(repr.plot.width = 40, repr.plot.height = 12.5)\n",
    "p <- ggplot_inla_ppcheck(pp_checks_train, pp_checks_test,CI = TRUE, binwidth=0.05)\n",
    "ggsave(paste0(\"../plots/\",filename,\"_fixed_55_pp_checks.pdf\"), p, width = 42, height = 10)\n",
    "\n",
    "plot(p)"
   ]
  },
  {
   "cell_type": "markdown",
   "metadata": {},
   "source": [
    "## 2. Fixed effects only - Beta likelihood, 90% retained AGS variance"
   ]
  },
  {
   "cell_type": "code",
   "execution_count": null,
   "metadata": {},
   "outputs": [],
   "source": [
    "ff  <- as.formula(paste('y_scaled', paste(c(cov_90),\n",
    "                                            collapse=\" + \"),sep='~'))\n",
    "\n",
    "out90 <- inla(ff,data = data, \n",
    "            family = 'beta',\n",
    "            control.compute = list(cpo=TRUE,waic = TRUE),\n",
    "            control.predictor = list(compute = TRUE, link = 1), \n",
    "            control.fixed = list(mean = 0, prec = 1, prec.intercept = 1), \n",
    "            num.threads=1, \n",
    "            verbose = TRUE)\n",
    "\n",
    "summary(out90)"
   ]
  },
  {
   "cell_type": "markdown",
   "metadata": {},
   "source": [
    "### Compute odds percentage relative change"
   ]
  },
  {
   "cell_type": "code",
   "execution_count": null,
   "metadata": {},
   "outputs": [],
   "source": [
    "fixed = round(out90$summary.fixed,6)\n",
    "fixed$sig = ifelse(0> fixed['0.025quant'] & 0 < fixed['0.975quant'], 'non_sig','sig')\n",
    "fixed$pc_increase = c(NA,(exp(fixed$mean[-1])-1)*100)\n",
    "fixed"
   ]
  },
  {
   "cell_type": "code",
   "execution_count": null,
   "metadata": {},
   "outputs": [],
   "source": [
    "for(i in seq(1,length(out90$marginals.fixed))){\n",
    "    m = out90$marginals.fixed[[i]]\n",
    "    print(paste0(round(inla.beta.marginal.summary(m)[[1]],2),\" (\",round(inla.beta.marginal.summary(m)[[2]],2),\")\"))\n",
    "}"
   ]
  },
  {
   "cell_type": "code",
   "execution_count": null,
   "metadata": {},
   "outputs": [],
   "source": [
    "write.table(fixed,paste0(\"../data/\",filename,'_odds_fixed_90.csv'), \n",
    "            col.names = TRUE, row.names = FALSE, sep=',')"
   ]
  },
  {
   "cell_type": "markdown",
   "metadata": {},
   "source": [
    "### Predictive checks"
   ]
  },
  {
   "cell_type": "code",
   "execution_count": null,
   "metadata": {},
   "outputs": [],
   "source": [
    "pp_checks[3,'model'] <- 'fixed'\n",
    "pp_checks[3,'ags_var'] <- '90'\n",
    "pp_checks[3,'lik'] <- 'beta'\n",
    "pp_checks[3,'bayes_r2_train'] <- bayes_pseudoR2(out90, data_train[['y_scaled']],index_obs = as.numeric(row.names(data_train)))\n",
    "pp_checks[3,'bayes_r2_test'] <- bayes_pseudoR2(out90, data_test[['y_scaled']],index_obs = as.numeric(row.names(data_test)))\n",
    "pp_checks[3,'waic'] <- out90$waic$waic\n",
    "pp_checks[3,'cpo_fail'] <- sum(out90$cpo$failure, na.rm = TRUE)/dim(data)[1]*100\n",
    "pp_checks"
   ]
  },
  {
   "cell_type": "code",
   "execution_count": null,
   "metadata": {},
   "outputs": [],
   "source": [
    "pp_checks_train <- inla_ppcheck(out90, data_train[['y_scaled']], index_obs = as.numeric(row.names(data_train)))\n",
    "pp_checks_test <- inla_ppcheck(out90, data_test[['y_scaled']], index_obs = as.numeric(row.names(data_test)))\n",
    "options(repr.plot.width = 40, repr.plot.height = 12.5)\n",
    "p <- ggplot_inla_ppcheck(pp_checks_train, pp_checks_test,CI = TRUE, binwidth=0.05)\n",
    "ggsave(paste0(\"../plots/\",filename,\"_90_fixed_pp_checks.pdf\"), p, width = 42, height = 10)\n",
    "\n",
    "plot(p)"
   ]
  },
  {
   "cell_type": "markdown",
   "metadata": {},
   "source": [
    "## 2. IID only - Beta likelihood, 55% retained AGS variance"
   ]
  },
  {
   "cell_type": "code",
   "execution_count": null,
   "metadata": {},
   "outputs": [],
   "source": [
    "ff.iid  <- as.formula(paste('y_scaled', paste(c(\"f(ID, param = c(prior.iid), model = 'iid')\",\n",
    "                                              cov_55),\n",
    "                                              collapse=\" + \"),sep='~'))\n",
    "\n",
    "out.iid <- inla(ff.iid,data = data,\n",
    "                family = 'beta',\n",
    "                control.compute = list(cpo=TRUE,waic = TRUE),\n",
    "                control.predictor = list(compute = TRUE, link = 1), \n",
    "                control.fixed = list(mean = 0, prec = 1, prec.intercept=1), \n",
    "                num.threads=1, \n",
    "                verbose = TRUE)\n",
    "\n",
    "summary(out.iid)"
   ]
  },
  {
   "cell_type": "markdown",
   "metadata": {},
   "source": [
    "### Compute odds percentage relative change"
   ]
  },
  {
   "cell_type": "code",
   "execution_count": null,
   "metadata": {},
   "outputs": [],
   "source": [
    "fixed = round(out.iid$summary.fixed,6)\n",
    "fixed$sig = ifelse(0> fixed['0.025quant'] & 0 < fixed['0.975quant'], 'non_sig','sig')\n",
    "fixed$pc_increase = c(NA,(exp(fixed$mean[-1])-1)*100)\n",
    "fixed"
   ]
  },
  {
   "cell_type": "code",
   "execution_count": null,
   "metadata": {},
   "outputs": [],
   "source": [
    "for(i in seq(1,length(out.iid$marginals.fixed))){\n",
    "    m = out.iid$marginals.fixed[[i]]\n",
    "    print(paste0(round(inla.beta.marginal.summary(m)[[1]],2),\" (\",round(inla.beta.marginal.summary(m)[[2]],2),\")\"))\n",
    "}"
   ]
  },
  {
   "cell_type": "code",
   "execution_count": null,
   "metadata": {},
   "outputs": [],
   "source": [
    "write.table(fixed,paste0(\"../data/\",filename,'_odds_iid.csv'), \n",
    "            col.names = TRUE, row.names = FALSE, sep=',')"
   ]
  },
  {
   "cell_type": "markdown",
   "metadata": {},
   "source": [
    "### Predictive checks"
   ]
  },
  {
   "cell_type": "code",
   "execution_count": null,
   "metadata": {},
   "outputs": [],
   "source": [
    "pp_checks[4,'model'] <- 'iid'\n",
    "pp_checks[4,'ags_var'] <- '55'\n",
    "pp_checks[4,'lik'] <- 'beta'\n",
    "pp_checks[4,'bayes_r2_train'] <- bayes_pseudoR2(out.iid, data_train[['y_scaled']],index_obs = as.numeric(row.names(data_train)))\n",
    "pp_checks[4,'bayes_r2_test'] <- bayes_pseudoR2(out.iid, data_test[['y_scaled']],index_obs = as.numeric(row.names(data_test)))\n",
    "pp_checks[4,'waic'] <- out.iid$waic$waic\n",
    "pp_checks[4,'cpo_fail'] <- sum(out.iid$cpo$failure, na.rm = TRUE)/dim(data)[1]*100\n",
    "pp_checks"
   ]
  },
  {
   "cell_type": "code",
   "execution_count": null,
   "metadata": {},
   "outputs": [],
   "source": [
    "pp_checks_train <- inla_ppcheck(out.iid, data_train[['y_scaled']], index_obs = as.numeric(row.names(data_train)))\n",
    "pp_checks_test <- inla_ppcheck(out.iid, data_test[['y_scaled']], index_obs = as.numeric(row.names(data_test)))\n",
    "options(repr.plot.width = 40, repr.plot.height = 12.5)\n",
    "p <- ggplot_inla_ppcheck(pp_checks_train, pp_checks_test,CI = TRUE, binwidth=0.05)\n",
    "ggsave(paste0(\"../plots/\",filename,\"_iid_pp_checks.pdf\"), p, width = 42, height = 10)\n",
    "\n",
    "plot(p)"
   ]
  },
  {
   "cell_type": "markdown",
   "metadata": {},
   "source": [
    "## 3. IID + Spatial random effect model - Beta likelihood, 55% retained AGS variance"
   ]
  },
  {
   "cell_type": "code",
   "execution_count": null,
   "metadata": {},
   "outputs": [],
   "source": [
    "ff.sre <- as.formula(paste('y_scaled', paste(c(\"f(ID, model = 'bym', param = c(prior.iid,prior.besag), graph=data_adj, adjust.for.con.comp = TRUE, scale.model = TRUE)\",\n",
    "                                             cov_55),\n",
    "                                             collapse=\" + \"),sep='~'))\n",
    "\n",
    "out.sre <- inla(ff.sre,data = data, \n",
    "                family = 'beta',\n",
    "                control.compute = list(cpo=TRUE,waic = TRUE),\n",
    "                control.predictor = list(compute = TRUE, link = 1), \n",
    "                control.fixed = list(mean = 0, prec = 1, prec.intercept=1),\n",
    "                num.threads=1,\n",
    "                verbose = TRUE)\n",
    "out.sre = inla.rerun(out.sre)\n",
    "summary(out.sre)"
   ]
  },
  {
   "cell_type": "markdown",
   "metadata": {},
   "source": [
    "### Compute odds percentage relative change"
   ]
  },
  {
   "cell_type": "code",
   "execution_count": null,
   "metadata": {},
   "outputs": [],
   "source": [
    "fixed = round(out.sre$summary.fixed,6)\n",
    "fixed$sig = ifelse(0> fixed['0.025quant'] & 0 < fixed['0.975quant'], 'non_sig','sig')\n",
    "fixed$pc_increase = c(NA,(exp(fixed$mean[-1])-1)*100)\n",
    "fixed"
   ]
  },
  {
   "cell_type": "code",
   "execution_count": null,
   "metadata": {},
   "outputs": [],
   "source": [
    "for(i in seq(1,length(out.sre$marginals.fixed))){\n",
    "    m = out.sre$marginals.fixed[[i]]\n",
    "    print(paste0(round(inla.beta.marginal.summary(m)[[1]],2),\" (\",round(inla.beta.marginal.summary(m)[[2]],2),\")\"))\n",
    "}"
   ]
  },
  {
   "cell_type": "code",
   "execution_count": null,
   "metadata": {},
   "outputs": [],
   "source": [
    "write.table(fixed,paste0(\"../data/\",filename,'_odds_sre.csv'), \n",
    "            col.names = TRUE, row.names = FALSE, sep=',')"
   ]
  },
  {
   "cell_type": "markdown",
   "metadata": {},
   "source": [
    "### Predictive checks"
   ]
  },
  {
   "cell_type": "code",
   "execution_count": null,
   "metadata": {},
   "outputs": [],
   "source": [
    "pp_checks[5,'model'] <- 'sre'\n",
    "pp_checks[5,'ags_var'] <- '55'\n",
    "pp_checks[5,'lik'] <- 'beta'\n",
    "pp_checks[5,'bayes_r2_train'] <- bayes_pseudoR2(out.sre, data_train[['y_scaled']],index_obs = as.numeric(row.names(data_train)))\n",
    "pp_checks[5,'bayes_r2_test'] <- bayes_pseudoR2(out.sre, data_test[['y_scaled']],index_obs = as.numeric(row.names(data_test)))\n",
    "pp_checks[5,'waic'] <- out.sre$waic$waic\n",
    "pp_checks[5,'cpo_fail'] <- sum(out.sre$cpo$failure, na.rm = TRUE)/dim(data)[1]*100\n",
    "pp_checks"
   ]
  },
  {
   "cell_type": "code",
   "execution_count": null,
   "metadata": {},
   "outputs": [],
   "source": [
    "pp_checks_train <- inla_ppcheck(out.sre, data_train[['y_scaled']], index_obs = as.numeric(row.names(data_train)))\n",
    "pp_checks_test <- inla_ppcheck(out.sre, data_test[['y_scaled']], index_obs = as.numeric(row.names(data_test)))\n",
    "options(repr.plot.width = 40, repr.plot.height = 12.5)\n",
    "p <- ggplot_inla_ppcheck(pp_checks_train, pp_checks_test,CI = TRUE, binwidth=0.05)\n",
    "ggsave(paste0(\"../plots/\",filename,\"_sre_pp_checks.pdf\"), p, width = 42, height = 10)\n",
    "\n",
    "plot(p)"
   ]
  },
  {
   "cell_type": "markdown",
   "metadata": {},
   "source": [
    "## Save outputs"
   ]
  },
  {
   "cell_type": "code",
   "execution_count": null,
   "metadata": {},
   "outputs": [],
   "source": [
    "## Plot the fixed parameters marginals for the coefficients\n",
    "\n",
    "model_list <- list(out, out.sre)\n",
    "model_name <- list('Beta-model','spatial Beta-model')\n",
    "cf_list <- list()\n",
    "for(m in seq(1,length(model_list))){ \n",
    "          \n",
    "    rmf <- model_list[[m]]$marginals.fixed\n",
    "    cf_list[[m]] <- data.frame(do.call(rbind, rmf))\n",
    "    cf_list[[m]]$parameter <- rep(names(rmf),times=sapply(rmf,nrow))\n",
    "    cf_list[[m]]$model <- as.character(model_name[[m]])\n",
    "}\n",
    "cf <- do.call(rbind, cf_list)\n",
    "cf <- subset(cf, cf$parameter!='(Intercept)')"
   ]
  },
  {
   "cell_type": "code",
   "execution_count": null,
   "metadata": {},
   "outputs": [],
   "source": [
    "options(repr.plot.width = 25, repr.plot.height = 90)\n",
    "p = ggplot(cf,aes(x=x,y=y,colour = model))+geom_line(size = 2.5,alpha=1)+\n",
    "        facet_wrap(~ parameter, scales=\"free\", nrow = 7)+geom_vline(xintercept=0, size = 2)+ylab(\"Density\") + scale_color_manual(values=c(\"#1A85FF\", \"#D41159\"))\n",
    "invisible(cf)\n",
    "p <- p + ggplot_theme + theme(strip.background = element_blank(), \n",
    "                              text = element_text(size=50),\n",
    "                              strip.text.x = element_text(size = 50, face = \"bold\")) + xlab('') + theme(legend.position = \"top\") + theme(panel.spacing = unit(2, \"lines\")) + scale_x_continuous(labels = function(x) format(x, scientific = TRUE))\n",
    "p\n",
    "ggsave(paste0(\"../plots/\",filename,\"_fixed_sre.pdf\"), width = 25, height = 90,limitsize = FALSE)"
   ]
  },
  {
   "cell_type": "code",
   "execution_count": null,
   "metadata": {},
   "outputs": [],
   "source": [
    "## Plot the fixed parameters marginals for the odds ratio\n",
    "\n",
    "model_list <- list(out, out.sre)\n",
    "model_name <- list('Beta-model', 'spatial Beta-model')\n",
    "cf_list <- list()\n",
    "for(m in seq(1,length(model_list))){ \n",
    "          \n",
    "    rmf <- model_list[[m]]$marginals.fixed\n",
    "    odds <- list()\n",
    "    for(c in seq(1, length(rmf))){\n",
    "        odds[[c]] <- inla.tmarginal(function(z) (exp(z)-1)*100, rmf[[c]])\n",
    "    }\n",
    "\n",
    "    cf_list[[m]] <- data.frame(do.call(rbind, odds))\n",
    "    cf_list[[m]]$parameter <- rep(names(rmf),times=sapply(odds,nrow))\n",
    "    cf_list[[m]]$model <- as.character(model_name[[m]])\n",
    "}\n",
    "cf <- do.call(rbind, cf_list)\n",
    "cf <- subset(cf, cf$parameter!='(Intercept)')"
   ]
  },
  {
   "cell_type": "code",
   "execution_count": null,
   "metadata": {},
   "outputs": [],
   "source": [
    "options(repr.plot.width = 25, repr.plot.height = 90)\n",
    "p = ggplot(cf,aes(x=x,y=y,colour = model))+geom_line(size = 2.5,alpha=1)+\n",
    "        facet_wrap(~ parameter, scales=\"free\", nrow = 7)+geom_vline(xintercept=0, size = 2)+ylab(\"Density\") + scale_color_manual(values=c(\"#1A85FF\", \"#D41159\"))\n",
    "invisible(cf)\n",
    "p <- p + ggplot_theme + theme(strip.background = element_blank(), \n",
    "                              text = element_text(size=50),\n",
    "                              strip.text.x = element_text(size = 50, face = \"bold\")) + xlab('') + theme(legend.position = \"top\") + theme(panel.spacing = unit(2, \"lines\"))\n",
    "p\n",
    "ggsave(paste0(\"../plots/\",filename,\"_fixed_sre_odds.pdf\"), width = 25, height = 90,limitsize = FALSE)"
   ]
  },
  {
   "cell_type": "code",
   "execution_count": null,
   "metadata": {},
   "outputs": [],
   "source": [
    "## Plot the hyperparameters marginals \n",
    "options(repr.plot.width = 55, repr.plot.height = 15)\n",
    "p <- bri.hyperpar.plot(out.sre, together=FALSE)\n",
    "p\n",
    "ggsave(paste0(\"../plots/\",filename,\"_hyper_sre.pdf\"), width = 30, height = 10)"
   ]
  },
  {
   "cell_type": "code",
   "execution_count": null,
   "metadata": {},
   "outputs": [],
   "source": [
    "## Save predictive checks\n",
    "write.table(pp_checks,paste0(\"../data/\",filename,'_pp_checks.csv'), \n",
    "            col.names = TRUE, row.names = FALSE, sep=',')"
   ]
  },
  {
   "cell_type": "code",
   "execution_count": null,
   "metadata": {},
   "outputs": [],
   "source": [
    "## Save posterior mean and sd for the predicted data (sre model)\n",
    "data[,paste0(response_var, '_mean')] <- as.numeric(out.sre$summary.fitted.values[, \"mean\"])\n",
    "data[,paste0(response_var, '_sd')] <- as.numeric(out.sre$summary.fitted.values[, \"sd\"])\n",
    "write.table(data,paste0(\"../data/\",filename,'_sre_fitted_values.csv'), \n",
    "            col.names = TRUE, row.names = FALSE, sep=',')\n",
    "\n",
    "## Save posterior mean and sd for the random effects (sre model)\n",
    "random = out.sre$summary.random$ID[,c('ID','mean','sd')]\n",
    "write.table(random, paste0(\"../data/\",filename,\"_sre_random.csv\"), sep = ',', row.names = F, col.names = T)"
   ]
  },
  {
   "cell_type": "markdown",
   "metadata": {},
   "source": [
    "# Prior sensitivity checks"
   ]
  },
  {
   "cell_type": "markdown",
   "metadata": {},
   "source": [
    "## 3. IID + Spatial random effect model - Beta likelihood, 55% retained AGS variance"
   ]
  },
  {
   "cell_type": "markdown",
   "metadata": {},
   "source": [
    "### Priors "
   ]
  },
  {
   "cell_type": "code",
   "execution_count": null,
   "metadata": {},
   "outputs": [],
   "source": [
    "prior.iid.shape = c(0.001,0.1,1)\n",
    "prior.iid.rate = c(0.0001,0.001,0.01,0.1)\n",
    "prior.besag.shape = c(0.001,0.1,1)\n",
    "prior.besag.rate = c(0.0001,0.001,0.01,0.1,0.0001)\n",
    "prior.fixed.mean = c(0)\n",
    "prior.fixed.prec = c(1)\n",
    "priors <- expand.grid(prior.iid.shape,prior.iid.rate,\n",
    "                      prior.besag.shape,prior.besag.rate,\n",
    "                      prior.fixed.mean,prior.fixed.prec)\n",
    "colnames(priors) <- c('prior.iid.shape','prior.iid.rate',\n",
    "                      'prior.besag.shape','prior.besag.rate',\n",
    "                      'prior.fixed.mean','prior.fixed.prec')\n",
    "priors"
   ]
  },
  {
   "cell_type": "code",
   "execution_count": null,
   "metadata": {},
   "outputs": [],
   "source": [
    "row <- 1\n",
    "cf_list <- list()\n",
    "while(row <= dim(priors)[1]){ \n",
    "\n",
    "    prior.iid = c(priors[row,'prior.iid.shape'],priors[row,'prior.iid.rate'])\n",
    "    prior.besag = c(priors[row,'prior.besag.shape'],priors[row,'prior.besag.rate'])\n",
    "\n",
    "    ff.sre <- as.formula(paste('y_scaled', paste(c(\"f(ID, model = 'bym', param = c(prior.iid,prior.besag), graph=data_adj, adjust.for.con.comp = TRUE, scale.model = TRUE)\",\n",
    "                                                    cov_55),\n",
    "                                                    collapse=\" + \"),sep='~'))\n",
    "\n",
    "    out.sre <- inla(ff.sre,data = data, \n",
    "                    family = 'beta',\n",
    "                    control.predictor = list(link = 1), \n",
    "                    control.fixed = list(mean = priors[row,'prior.fixed.mean'], \n",
    "                                            prec = priors[row,'prior.fixed.prec'], \n",
    "                                            prec.intercept=1),\n",
    "                    num.threads=1,\n",
    "                    verbose = TRUE)\n",
    "    out.sre = inla.rerun(out.sre)\n",
    "    summary(out.sre)\n",
    "\n",
    "    rmf = out.sre$marginals.fixed\n",
    "    cf_list[[row]] = data.frame(do.call(rbind, rmf))\n",
    "    cf_list[[row]]$parameter = rep(names(rmf),times=sapply(rmf,nrow))\n",
    "    cf_list[[row]]$row <- as.character(row)\n",
    "\n",
    "    row <- row + 1\n",
    "}\n",
    "cf <- do.call(rbind, cf_list)\n"
   ]
  },
  {
   "cell_type": "code",
   "execution_count": null,
   "metadata": {},
   "outputs": [],
   "source": [
    "options(repr.plot.width = 55, repr.plot.height = 20)\n",
    "p = ggplot(cf,aes(x=x,y=y,colour = row))+geom_line(size = 0.5,alpha=0.3)+\n",
    "        facet_wrap(~ parameter, scales=\"free\", nrow=2)+geom_vline(xintercept=0)+ylab(\"Density\")\n",
    "invisible(cf)\n",
    "p <- p + ggplot_theme + theme(strip.background = element_blank(), \n",
    "                                strip.text.x = element_text(size = 50, face = \"bold\")) + xlab('') + theme(legend.position = \"none\") +scale_color_manual(values=rep('blue', row-1)) + theme(panel.spacing = unit(2, \"lines\"))\n",
    "p\n",
    "ggsave(paste0(\"../plots/\",filename,\"_prior_sens_sre.pdf\"), width = 55, height = 20, limitsize = FALSE)\n"
   ]
  },
  {
   "cell_type": "code",
   "execution_count": null,
   "metadata": {},
   "outputs": [],
   "source": [
    "inla.show.hyperspec(out.sre)"
   ]
  }
 ],
 "metadata": {
  "kernelspec": {
   "display_name": "R",
   "language": "R",
   "name": "ir"
  },
  "language_info": {
   "codemirror_mode": "r",
   "file_extension": ".r",
   "mimetype": "text/x-r-source",
   "name": "R",
   "pygments_lexer": "r",
   "version": "4.0.3"
  }
 },
 "nbformat": 4,
 "nbformat_minor": 4
}
