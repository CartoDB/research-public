{
 "cells": [
  {
   "cell_type": "code",
   "execution_count": null,
   "metadata": {
    "scrolled": true
   },
   "outputs": [],
   "source": [
    "%cd ../\n",
    "\n",
    "from src.requirements import *\n",
    "from src.utils import *\n",
    "%matplotlib inline\n",
    "\n",
    "## ******************************************************************************************************************************\n",
    "## OPEN CONFIG FILE\n",
    "## ******************************************************************************************************************************\n",
    "\n",
    "with open('configFile.json') as json_data_file:\n",
    "    configFile = json.load(json_data_file)\n",
    "\n",
    "## ******************************************************************************************************************************\n",
    "## SET BIG QUERY CREDENTIALS\n",
    "## ******************************************************************************************************************************\n",
    "\n",
    "SERVICE_ACCOUNT_FILE = configFile['config']['BQ_key_file']\n",
    "client_bq = bigquery.Client.from_service_account_json(SERVICE_ACCOUNT_FILE)\n",
    "bq_dataset_id = configFile['config']['bq_dataset']\n",
    "bq_dataset_ref = client_bq.dataset(bq_dataset_id)\n",
    "\n",
    "## ******************************************************************************************************************************\n",
    "## CARTO\n",
    "## ******************************************************************************************************************************\n",
    "\n",
    "carto_username = configFile['config']['CARTO']['username']\n",
    "carto_API = configFile['config']['CARTO']['API_key']\n",
    "\n",
    "creds = Credentials(carto_username, carto_API)\n",
    "set_default_credentials(creds)\n",
    "\n",
    "%cd etl/"
   ]
  },
  {
   "cell_type": "markdown",
   "metadata": {},
   "source": [
    "## Select phase: lockdown or recovery"
   ]
  },
  {
   "cell_type": "code",
   "execution_count": null,
   "metadata": {},
   "outputs": [],
   "source": [
    "date_min = '2020-02-20'\n",
    "date_max = '2020-07-17'\n",
    "phase = 'lockdown' # select between 'lockdown' or 'recovery'\n",
    "pc_var_thr = 0.55 # % of retained variance in the Census variables \n",
    "filename = 'mobility_google_county_{}'.format(phase)"
   ]
  },
  {
   "cell_type": "markdown",
   "metadata": {},
   "source": [
    "## Pre-process  Google mobility data"
   ]
  },
  {
   "cell_type": "code",
   "execution_count": null,
   "metadata": {},
   "outputs": [],
   "source": [
    "table_name = '{}.{}.epi_mobility_census_county_full'.format(bq_dataset_ref.project,bq_dataset_id)\n",
    "\n",
    "q = \"\"\"SELECT * \n",
    "        FROM  `{}`\n",
    "\"\"\".format(table_name)\n",
    "df = client_bq.query(q).to_dataframe()"
   ]
  },
  {
   "cell_type": "markdown",
   "metadata": {},
   "source": [
    "### Select only counties with a full series"
   ]
  },
  {
   "cell_type": "code",
   "execution_count": null,
   "metadata": {},
   "outputs": [],
   "source": [
    "df['geoid_cnt'] = df.groupby('geoid')['geoid'].transform('count')\n",
    "cnt = df['geoid_cnt'].max()\n",
    "df = df[df.geoid_cnt==cnt]"
   ]
  },
  {
   "cell_type": "markdown",
   "metadata": {},
   "source": [
    "### Interpolate missing data if the gap length is less than 3 days"
   ]
  },
  {
   "cell_type": "code",
   "execution_count": null,
   "metadata": {},
   "outputs": [],
   "source": [
    "df.sort_values(['geoid','date'], inplace = True)\n",
    "df['workplaces_percent_change_from_baseline_interp'] = df[['geoid','workplaces_percent_change_from_baseline']].groupby('geoid').transform(lambda x: x.interpolate(method='linear', order = 3, \n",
    "                                                                                                                                                               limit = 3, \n",
    "                                                                                                                                                               limit_direction='both',\n",
    "                                                                                                                                                               limit_area=None))"
   ]
  },
  {
   "cell_type": "markdown",
   "metadata": {},
   "source": [
    "### Ignore counties with gaps larger than 3 days"
   ]
  },
  {
   "cell_type": "code",
   "execution_count": null,
   "metadata": {},
   "outputs": [],
   "source": [
    "df['workplaces_percent_change_from_baseline_interp_na'] = df.groupby('geoid')['workplaces_percent_change_from_baseline_interp'].transform(lambda x: x.isnull().any())\n",
    "df = df[df.workplaces_percent_change_from_baseline_interp_na==False]"
   ]
  },
  {
   "cell_type": "markdown",
   "metadata": {},
   "source": [
    "### Compute 7-days running mean"
   ]
  },
  {
   "cell_type": "code",
   "execution_count": null,
   "metadata": {},
   "outputs": [],
   "source": [
    "df['workplaces_percent_change_from_baseline_interp_ma'] = df.groupby('geoid')['workplaces_percent_change_from_baseline_interp'].transform(lambda x: x.rolling(7, 1).mean())\n",
    "df = df[(df.date >= date_min) & (df.date <= date_max)]\n",
    "df.date = df.date.apply(lambda x : pd.Timestamp(x))"
   ]
  },
  {
   "cell_type": "markdown",
   "metadata": {},
   "source": [
    "### Plot a random sample of 100 counties and the US median "
   ]
  },
  {
   "cell_type": "code",
   "execution_count": null,
   "metadata": {},
   "outputs": [],
   "source": [
    "df_median = df[['date','workplaces_percent_change_from_baseline_interp_ma']].groupby(['date']).apply(np.median)\n",
    "\n",
    "## Get the date that the % change in mobility reaches the minumum\n",
    "date_drop = str(df_median.idxmin().strftime(\"%Y-%m-%d\"))\n",
    "\n",
    "df_median = df_median.reset_index()\n",
    "df_median.columns = ['date','workplaces_percent_change_from_baseline_interp_ma']\n",
    "df_median.date = df_median.date.apply(lambda x : pd.Timestamp(x))"
   ]
  },
  {
   "cell_type": "code",
   "execution_count": null,
   "metadata": {},
   "outputs": [],
   "source": [
    "df_sample = df[df.geoid.isin(df.geoid.sample(n=100))]\n",
    "\n",
    "fig = plt.figure(figsize=(25,12.5))\n",
    "ax = fig.add_subplot(111)\n",
    "\n",
    "df_sample.groupby('geoid').plot(x=\"date\", y=\"workplaces_percent_change_from_baseline_interp\", \n",
    "                  color = 'darkblue', \n",
    "                  alpha = 0.1,\n",
    "                  legend = False, rot = 45, ax = ax)\n",
    "\n",
    "df_sample.groupby('geoid').plot(x=\"date\", y=\"workplaces_percent_change_from_baseline_interp_ma\", \n",
    "                  color = 'orange', \n",
    "                  linewidth = 2,                         \n",
    "                  alpha = 0.3,\n",
    "                  legend = False, rot = 45,ax = ax)\n",
    "\n",
    "df_median.plot(x=\"date\", y=\"workplaces_percent_change_from_baseline_interp_ma\", \n",
    "                  color = 'red', \n",
    "                  linewidth = 5,                         \n",
    "                  alpha = 1,\n",
    "                  legend = False, rot = 45,ax = ax)\n",
    "\n",
    "ax.set_xlabel(\"\",fontsize=15)\n",
    "ax.set_ylabel(\"\",fontsize=25)\n",
    "ax.set_title(\"% change from baseline in workplaces mobility\",fontsize=25)\n",
    "ax.axhline(y=0.00,c=\"black\",linewidth=2,zorder=0)\n",
    "ax.axvline(x=pd.Timestamp('2020-03-13'),c=\"black\",linewidth=2,linestyle = '--')\n",
    "ax.axvline(x=pd.Timestamp('2020-05-25'),c=\"black\",linewidth=2,linestyle = '--')\n",
    "ax.axvline(x=pd.Timestamp('2020-07-04'),c=\"black\",linewidth=2,linestyle = '--')\n",
    "ax.set_ylim(-60, 10)\n",
    "ax.xaxis.set_major_locator(mdates.WeekdayLocator())\n",
    "ax.xaxis.set_major_formatter(mdates.DateFormatter('%b %d'))\n",
    "ax.tick_params(axis='both', which='minor', pad = 10, size = 0, labelsize=1)\n",
    "ax.tick_params(axis='both', which='major', pad = 10, size = 20, labelsize=25)\n",
    "ax.tick_params(axis = 'x', labelsize = 25)\n",
    "\n",
    "colors = ['darkblue', 'orange','red','coral','coral']\n",
    "linestyles =  ['-', '-', '-', ':','--']\n",
    "lines = [Line2D([0], [0], color=c, linewidth=3, linestyle = s) for c,s in zip(colors, linestyles)]\n",
    "labels = ['daily', \n",
    "          'daily, 7-days running mean',\n",
    "          'daily, 7-days running mean (US median)']\n",
    "plt.legend(lines, labels, fontsize = 25,frameon=False)\n",
    "\n",
    "plt.suptitle(\"Change in mobility by County, source: Google\", fontsize=30)\n",
    "fig.tight_layout(rect=[0, 0.03, 1, 0.95])\n",
    "fig.savefig('../plots/mobility_county.pdf')"
   ]
  },
  {
   "cell_type": "markdown",
   "metadata": {},
   "source": [
    "### Plot the median by median household income percentile group"
   ]
  },
  {
   "cell_type": "code",
   "execution_count": null,
   "metadata": {},
   "outputs": [],
   "source": [
    "df_q1 = df[df.INCCYMEDHH < df.INCCYMEDHH.quantile(.20)]\n",
    "df_q2 = df[(df.INCCYMEDHH >= df.INCCYMEDHH.quantile(.20)) & (df.INCCYMEDHH < df.INCCYMEDHH.quantile(.40))]\n",
    "df_q3 = df[(df.INCCYMEDHH >= df.INCCYMEDHH.quantile(.40)) & (df.INCCYMEDHH < df.INCCYMEDHH.quantile(.60))]\n",
    "df_q4 = df[(df.INCCYMEDHH >= df.INCCYMEDHH.quantile(.60)) & (df.INCCYMEDHH < df.INCCYMEDHH.quantile(.80))]\n",
    "df_q5 = df[df.INCCYMEDHH >= df.INCCYMEDHH.quantile(.80)]\n",
    "\n",
    "df_q1 = df_q1[['date','workplaces_percent_change_from_baseline_interp_ma']].groupby(['date']).apply(np.median)\n",
    "df_q2 = df_q2[['date','workplaces_percent_change_from_baseline_interp_ma']].groupby(['date']).apply(np.median)\n",
    "df_q3 = df_q3[['date','workplaces_percent_change_from_baseline_interp_ma']].groupby(['date']).apply(np.median)\n",
    "df_q4 = df_q4[['date','workplaces_percent_change_from_baseline_interp_ma']].groupby(['date']).apply(np.median)\n",
    "df_q5 = df_q5[['date','workplaces_percent_change_from_baseline_interp_ma']].groupby(['date']).apply(np.median)\n",
    "\n",
    "df_q1 = df_q1.reset_index()\n",
    "df_q1.columns = ['date','workplaces_percent_change_from_baseline_interp_ma']\n",
    "df_q1.date = df_q1.date.apply(lambda x : pd.Timestamp(x))\n",
    "\n",
    "df_q2 = df_q2.reset_index()\n",
    "df_q2.columns = ['date','workplaces_percent_change_from_baseline_interp_ma']\n",
    "df_q2.date = df_q2.date.apply(lambda x : pd.Timestamp(x))\n",
    "\n",
    "df_q3 = df_q3.reset_index()\n",
    "df_q3.columns = ['date','workplaces_percent_change_from_baseline_interp_ma']\n",
    "df_q3.date = df_q3.date.apply(lambda x : pd.Timestamp(x))\n",
    "\n",
    "df_q4 = df_q4.reset_index()\n",
    "df_q4.columns = ['date','workplaces_percent_change_from_baseline_interp_ma']\n",
    "df_q4.date = df_q4.date.apply(lambda x : pd.Timestamp(x))\n",
    "\n",
    "df_q5 = df_q5.reset_index()\n",
    "df_q5.columns = ['date','workplaces_percent_change_from_baseline_interp_ma']\n",
    "df_q5.date = df_q5.date.apply(lambda x : pd.Timestamp(x))"
   ]
  },
  {
   "cell_type": "code",
   "execution_count": null,
   "metadata": {},
   "outputs": [],
   "source": [
    "df_sample = df[df.geoid.isin(df.geoid.sample(n=100))]\n",
    "\n",
    "fig = plt.figure(figsize=(25,12.5))\n",
    "ax = fig.add_subplot(111)\n",
    "\n",
    "df_q1.plot(x=\"date\", y=\"workplaces_percent_change_from_baseline_interp_ma\", \n",
    "                  color = 'darkblue', \n",
    "                  linewidth = 5,                         \n",
    "                  alpha = 1,\n",
    "                  linestyle = ':',\n",
    "                  legend = False, rot = 45,ax = ax)\n",
    "\n",
    "df_q2.plot(x=\"date\", y=\"workplaces_percent_change_from_baseline_interp_ma\", \n",
    "                  color = 'darkblue', \n",
    "                  linewidth = 5,                         \n",
    "                  alpha = 1,\n",
    "                  linestyle = '--',\n",
    "                  legend = False, rot = 45,ax = ax)\n",
    "\n",
    "df_q3.plot(x=\"date\", y=\"workplaces_percent_change_from_baseline_interp_ma\", \n",
    "                  color = 'red', \n",
    "                  linewidth = 5,                         \n",
    "                  alpha = 1,\n",
    "                  linestyle = '-',\n",
    "                  legend = False, rot = 45,ax = ax)\n",
    "\n",
    "df_q4.plot(x=\"date\", y=\"workplaces_percent_change_from_baseline_interp_ma\", \n",
    "                  color = 'coral', \n",
    "                  linewidth = 5,                         \n",
    "                  alpha = 1,\n",
    "                  linestyle = ':',\n",
    "                  legend = False, rot = 45,ax = ax)\n",
    "\n",
    "df_q5.plot(x=\"date\", y=\"workplaces_percent_change_from_baseline_interp_ma\", \n",
    "                  color = 'coral', \n",
    "                  linewidth = 5,                         \n",
    "                  alpha = 1,\n",
    "                  linestyle = '--',\n",
    "                  legend = False, rot = 45,ax = ax)\n",
    "\n",
    "\n",
    "ax.set_xlabel(\"\",fontsize=15)\n",
    "ax.set_ylabel(\"\",fontsize=25)\n",
    "ax.set_title(\"% change from baseline in workplaces mobility\",fontsize=25)\n",
    "ax.axhline(y=0.00,c=\"black\",linewidth=2,zorder=0)\n",
    "ax.axvline(x=pd.Timestamp('2020-03-13'),c=\"black\",linewidth=2,linestyle = '--')\n",
    "ax.axvline(x=pd.Timestamp('2020-05-25'),c=\"black\",linewidth=2,linestyle = '--')\n",
    "ax.axvline(x=pd.Timestamp('2020-07-04'),c=\"black\",linewidth=2,linestyle = '--')\n",
    "ax.set_ylim(-60, 10)\n",
    "ax.xaxis.set_major_locator(mdates.WeekdayLocator())\n",
    "ax.xaxis.set_major_formatter(mdates.DateFormatter('%b %d'))\n",
    "ax.tick_params(axis='both', which='minor', pad = 10, size = 0, labelsize=1)\n",
    "ax.tick_params(axis='both', which='major', pad = 10, size = 20, labelsize=25)\n",
    "ax.tick_params(axis = 'x', labelsize = 25)\n",
    "\n",
    "colors = ['darkblue', 'darkblue','red','coral','coral']\n",
    "linestyles =  [':','--', '-', ':','--']\n",
    "lines = [Line2D([0], [0], color=c, linewidth=3, linestyle = s) for c,s in zip(colors, linestyles)]\n",
    "labels = ['Counties with median household income < 20th quantile', \n",
    "          'Counties with median household income < 40th quantile and > 20th quantile',\n",
    "          'Counties with median household income < 60th quantile and > 40th',\n",
    "          'Counties with median household income < 80th quantile and > 60th',\n",
    "          'Counties with median household income > 80th quantile']\n",
    "plt.legend(lines, labels, fontsize = 25,frameon=False)\n",
    "\n",
    "plt.suptitle(\"Change in mobility by County, source: Google\", fontsize=30)\n",
    "fig.tight_layout(rect=[0, 0.03, 1, 0.95])\n",
    "fig.savefig('../plots/mobility_county_income.pdf')"
   ]
  },
  {
   "cell_type": "markdown",
   "metadata": {},
   "source": [
    "### Get the minumum and maximum % change in mobility"
   ]
  },
  {
   "cell_type": "code",
   "execution_count": null,
   "metadata": {},
   "outputs": [],
   "source": [
    "df['population'] = df.groupby('geoid')['population'].transform('last')\n",
    "if phase == 'lockdown':\n",
    "    df = df[df.date <= date_drop]\n",
    "else:\n",
    "    df = df[df.date >= date_drop)]\n",
    "df['workplaces_percent_change_from_baseline_interp_ma_min'] = df.groupby('geoid')['workplaces_percent_change_from_baseline_interp_ma'].transform('min')\n",
    "df['workplaces_percent_change_from_baseline_interp_ma_max'] = df.groupby('geoid')['workplaces_percent_change_from_baseline_interp_ma'].transform('max')\n",
    "df['workplaces_percent_change_from_baseline_interp_ma_diff_minmax'] = df['workplaces_percent_change_from_baseline_interp_ma_min'] - df['workplaces_percent_change_from_baseline_interp_ma_max']\n",
    "df['workplaces_percent_change_from_baseline_interp_ma_diff_maxmin'] = -df['workplaces_percent_change_from_baseline_interp_ma_diff_minmax']"
   ]
  },
  {
   "cell_type": "markdown",
   "metadata": {},
   "source": [
    "### Get the cumulative number of cases and deaths by county"
   ]
  },
  {
   "cell_type": "code",
   "execution_count": null,
   "metadata": {},
   "outputs": [],
   "source": [
    "df['cases_cum'] = df.groupby('geoid')['cases'].transform('last')\n",
    "df['deaths_cum'] = df.groupby('geoid')['deaths'].transform('last')\n",
    "\n",
    "df['cases_cum_dens'] = df['cases_cum'].div(df['population'])\n",
    "df['deaths_cum_dens'] =  df['deaths_cum'].div(df['population'])"
   ]
  },
  {
   "cell_type": "markdown",
   "metadata": {},
   "source": [
    "## Save files"
   ]
  },
  {
   "cell_type": "code",
   "execution_count": null,
   "metadata": {},
   "outputs": [],
   "source": [
    "gdf = df[['geom','ID','geoid']]\n",
    "gdf = gdf[~gdf.duplicated(keep='first')]\n",
    "gdf['geometry'] = gdf['geom'].apply(lambda x: str_to_geom(x))\n",
    "gdf.drop(['geom'], axis = 1, inplace = True)\n",
    "gdf = gpd.GeoDataFrame(gdf, geometry = gdf.geometry)\n",
    "gdf.to_file(driver = 'ESRI Shapefile', filename= \"../data/{}.shp\".format(filename))"
   ]
  },
  {
   "cell_type": "code",
   "execution_count": null,
   "metadata": {},
   "outputs": [],
   "source": [
    "df[df.columns[df.columns!='geom']].to_csv(\"../data/{}_ts.csv\".format(filename),index = False)"
   ]
  }
 ],
 "metadata": {
  "kernelspec": {
   "display_name": "Python 3",
   "language": "python",
   "name": "python3"
  },
  "language_info": {
   "codemirror_mode": {
    "name": "ipython",
    "version": 3
   },
   "file_extension": ".py",
   "mimetype": "text/x-python",
   "name": "python",
   "nbconvert_exporter": "python",
   "pygments_lexer": "ipython3",
   "version": "3.9.2"
  }
 },
 "nbformat": 4,
 "nbformat_minor": 4
}
